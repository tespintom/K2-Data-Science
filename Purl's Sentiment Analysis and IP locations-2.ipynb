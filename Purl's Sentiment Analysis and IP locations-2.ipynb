{
 "cells": [
  {
   "cell_type": "code",
   "execution_count": 1,
   "metadata": {
    "collapsed": true
   },
   "outputs": [],
   "source": [
    "import pandas as pd \n",
    "import mysql.connector\n",
    "import os\n",
    "import numpy as np"
   ]
  },
  {
   "cell_type": "code",
   "execution_count": 2,
   "metadata": {},
   "outputs": [],
   "source": [
    "# os.environ\n"
   ]
  },
  {
   "cell_type": "code",
   "execution_count": 3,
   "metadata": {
    "collapsed": true
   },
   "outputs": [],
   "source": [
    "plotlyapi = os.environ.get('PLOTLYAPI')\n",
    "plotlyuser = os.environ.get('PLOTLYUSER')\n",
    "mapbox = os.environ.get('MAPBOX')"
   ]
  },
  {
   "cell_type": "code",
   "execution_count": 4,
   "metadata": {
    "collapsed": true
   },
   "outputs": [],
   "source": [
    "conn = mysql.connector.connect(user='root', password='123456', host='127.0.0.1', \n",
    "                              database = 'purl_wordpress_to_anonimize')\n",
    "comments = pd.read_sql('SELECT * from jux0gx_comments', con=conn)\n"
   ]
  },
  {
   "cell_type": "code",
   "execution_count": 5,
   "metadata": {},
   "outputs": [
    {
     "data": {
      "text/html": [
       "<div>\n",
       "<style>\n",
       "    .dataframe thead tr:only-child th {\n",
       "        text-align: right;\n",
       "    }\n",
       "\n",
       "    .dataframe thead th {\n",
       "        text-align: left;\n",
       "    }\n",
       "\n",
       "    .dataframe tbody tr th {\n",
       "        vertical-align: top;\n",
       "    }\n",
       "</style>\n",
       "<table border=\"1\" class=\"dataframe\">\n",
       "  <thead>\n",
       "    <tr style=\"text-align: right;\">\n",
       "      <th></th>\n",
       "      <th>comment_ID</th>\n",
       "      <th>comment_post_ID</th>\n",
       "      <th>comment_author</th>\n",
       "      <th>comment_author_email</th>\n",
       "      <th>comment_author_url</th>\n",
       "      <th>comment_author_IP</th>\n",
       "      <th>comment_date</th>\n",
       "      <th>comment_date_gmt</th>\n",
       "      <th>comment_content</th>\n",
       "      <th>comment_karma</th>\n",
       "      <th>comment_approved</th>\n",
       "      <th>comment_agent</th>\n",
       "      <th>comment_type</th>\n",
       "      <th>comment_parent</th>\n",
       "      <th>user_id</th>\n",
       "    </tr>\n",
       "  </thead>\n",
       "  <tbody>\n",
       "    <tr>\n",
       "      <th>0</th>\n",
       "      <td>2</td>\n",
       "      <td>23</td>\n",
       "      <td>emily p</td>\n",
       "      <td></td>\n",
       "      <td></td>\n",
       "      <td>70.44.66.3</td>\n",
       "      <td>2014-07-24 12:54:46</td>\n",
       "      <td>2014-07-24 12:54:46</td>\n",
       "      <td>These are fantastic! I have been looking for s...</td>\n",
       "      <td>0</td>\n",
       "      <td>1</td>\n",
       "      <td></td>\n",
       "      <td></td>\n",
       "      <td>0</td>\n",
       "      <td>0</td>\n",
       "    </tr>\n",
       "    <tr>\n",
       "      <th>1</th>\n",
       "      <td>3</td>\n",
       "      <td>23</td>\n",
       "      <td>Lena</td>\n",
       "      <td>lena.mumen@gmail.com</td>\n",
       "      <td>http://www.mrsgarlichead.com</td>\n",
       "      <td>85.1.237.251</td>\n",
       "      <td>2014-07-24 13:24:02</td>\n",
       "      <td>2014-07-24 13:24:02</td>\n",
       "      <td>Oh these are lovely. I love the tulip hem, I h...</td>\n",
       "      <td>0</td>\n",
       "      <td>1</td>\n",
       "      <td></td>\n",
       "      <td></td>\n",
       "      <td>0</td>\n",
       "      <td>0</td>\n",
       "    </tr>\n",
       "    <tr>\n",
       "      <th>2</th>\n",
       "      <td>4</td>\n",
       "      <td>23</td>\n",
       "      <td>Katie</td>\n",
       "      <td></td>\n",
       "      <td></td>\n",
       "      <td>72.198.169.59</td>\n",
       "      <td>2014-07-24 15:33:46</td>\n",
       "      <td>2014-07-24 15:33:46</td>\n",
       "      <td>Love these shorts!! This may be a silly questi...</td>\n",
       "      <td>0</td>\n",
       "      <td>1</td>\n",
       "      <td></td>\n",
       "      <td></td>\n",
       "      <td>0</td>\n",
       "      <td>0</td>\n",
       "    </tr>\n",
       "    <tr>\n",
       "      <th>3</th>\n",
       "      <td>5</td>\n",
       "      <td>23</td>\n",
       "      <td>jessica</td>\n",
       "      <td></td>\n",
       "      <td></td>\n",
       "      <td>76.114.88.227</td>\n",
       "      <td>2014-07-24 15:46:05</td>\n",
       "      <td>2014-07-24 15:46:05</td>\n",
       "      <td>so sad, yet another pattern not big enough for...</td>\n",
       "      <td>0</td>\n",
       "      <td>1</td>\n",
       "      <td></td>\n",
       "      <td></td>\n",
       "      <td>0</td>\n",
       "      <td>0</td>\n",
       "    </tr>\n",
       "    <tr>\n",
       "      <th>4</th>\n",
       "      <td>6</td>\n",
       "      <td>23</td>\n",
       "      <td>Margo, Thrift at Home</td>\n",
       "      <td>thriftathome@gmail.com</td>\n",
       "      <td>http://thriftathome.blogspot.com</td>\n",
       "      <td>108.55.66.48</td>\n",
       "      <td>2014-07-24 18:19:31</td>\n",
       "      <td>2014-07-24 18:19:31</td>\n",
       "      <td>YES I am done with the gym!!! This year I&amp;#39;...</td>\n",
       "      <td>0</td>\n",
       "      <td>1</td>\n",
       "      <td></td>\n",
       "      <td></td>\n",
       "      <td>0</td>\n",
       "      <td>0</td>\n",
       "    </tr>\n",
       "  </tbody>\n",
       "</table>\n",
       "</div>"
      ],
      "text/plain": [
       "   comment_ID  comment_post_ID         comment_author    comment_author_email  \\\n",
       "0           2               23                emily p                           \n",
       "1           3               23                   Lena    lena.mumen@gmail.com   \n",
       "2           4               23                  Katie                           \n",
       "3           5               23                jessica                           \n",
       "4           6               23  Margo, Thrift at Home  thriftathome@gmail.com   \n",
       "\n",
       "                 comment_author_url comment_author_IP        comment_date  \\\n",
       "0                                          70.44.66.3 2014-07-24 12:54:46   \n",
       "1      http://www.mrsgarlichead.com      85.1.237.251 2014-07-24 13:24:02   \n",
       "2                                       72.198.169.59 2014-07-24 15:33:46   \n",
       "3                                       76.114.88.227 2014-07-24 15:46:05   \n",
       "4  http://thriftathome.blogspot.com      108.55.66.48 2014-07-24 18:19:31   \n",
       "\n",
       "     comment_date_gmt                                    comment_content  \\\n",
       "0 2014-07-24 12:54:46  These are fantastic! I have been looking for s...   \n",
       "1 2014-07-24 13:24:02  Oh these are lovely. I love the tulip hem, I h...   \n",
       "2 2014-07-24 15:33:46  Love these shorts!! This may be a silly questi...   \n",
       "3 2014-07-24 15:46:05  so sad, yet another pattern not big enough for...   \n",
       "4 2014-07-24 18:19:31  YES I am done with the gym!!! This year I&#39;...   \n",
       "\n",
       "   comment_karma comment_approved comment_agent comment_type  comment_parent  \\\n",
       "0              0                1                                          0   \n",
       "1              0                1                                          0   \n",
       "2              0                1                                          0   \n",
       "3              0                1                                          0   \n",
       "4              0                1                                          0   \n",
       "\n",
       "   user_id  \n",
       "0        0  \n",
       "1        0  \n",
       "2        0  \n",
       "3        0  \n",
       "4        0  "
      ]
     },
     "execution_count": 5,
     "metadata": {},
     "output_type": "execute_result"
    }
   ],
   "source": [
    "comments.head()\n"
   ]
  },
  {
   "cell_type": "code",
   "execution_count": 6,
   "metadata": {
    "collapsed": true
   },
   "outputs": [],
   "source": [
    "# close connection \n",
    "\n",
    "conn.close()"
   ]
  },
  {
   "cell_type": "code",
   "execution_count": 7,
   "metadata": {},
   "outputs": [
    {
     "name": "stdout",
     "output_type": "stream",
     "text": [
      "<class 'pandas.core.frame.DataFrame'>\n",
      "RangeIndex: 52845 entries, 0 to 52844\n",
      "Data columns (total 15 columns):\n",
      "comment_ID              52845 non-null int64\n",
      "comment_post_ID         52845 non-null int64\n",
      "comment_author          52845 non-null object\n",
      "comment_author_email    52845 non-null object\n",
      "comment_author_url      52845 non-null object\n",
      "comment_author_IP       52845 non-null object\n",
      "comment_date            52704 non-null datetime64[ns]\n",
      "comment_date_gmt        52698 non-null datetime64[ns]\n",
      "comment_content         52845 non-null object\n",
      "comment_karma           52845 non-null int64\n",
      "comment_approved        52845 non-null object\n",
      "comment_agent           52845 non-null object\n",
      "comment_type            52845 non-null object\n",
      "comment_parent          52845 non-null int64\n",
      "user_id                 52845 non-null int64\n",
      "dtypes: datetime64[ns](2), int64(5), object(8)\n",
      "memory usage: 6.0+ MB\n"
     ]
    }
   ],
   "source": [
    "comments.info()"
   ]
  },
  {
   "cell_type": "code",
   "execution_count": null,
   "metadata": {
    "collapsed": true
   },
   "outputs": [],
   "source": []
  },
  {
   "cell_type": "code",
   "execution_count": 8,
   "metadata": {},
   "outputs": [
    {
     "data": {
      "text/plain": [
       "array(['1', 'post-trashed', 'trash', '0', 'spam'], dtype=object)"
      ]
     },
     "execution_count": 8,
     "metadata": {},
     "output_type": "execute_result"
    }
   ],
   "source": [
    "comments['comment_approved'].unique()"
   ]
  },
  {
   "cell_type": "code",
   "execution_count": 9,
   "metadata": {},
   "outputs": [
    {
     "name": "stdout",
     "output_type": "stream",
     "text": [
      "comment_approved\n",
      "0                  19\n",
      "1               52363\n",
      "post-trashed        6\n",
      "spam              193\n",
      "trash             264\n",
      "dtype: int64\n"
     ]
    }
   ],
   "source": [
    "print(comments.groupby('comment_approved').size())"
   ]
  },
  {
   "cell_type": "code",
   "execution_count": 10,
   "metadata": {},
   "outputs": [
    {
     "data": {
      "image/png": "[encoded data removed]",
      "text/plain": [
       "<matplotlib.figure.Figure at 0x11aa3e390>"
      ]
     },
     "metadata": {},
     "output_type": "display_data"
    }
   ],
   "source": [
    "import matplotlib.pyplot as plt\n",
    "%matplotlib inline\n",
    "import seaborn as sns \n",
    "sns.countplot(comments['comment_approved'], label='Count')\n",
    "plt.show()"
   ]
  },
  {
   "cell_type": "code",
   "execution_count": 11,
   "metadata": {
    "collapsed": true
   },
   "outputs": [],
   "source": [
    "# Lets visualize missing values:\n",
    "\n",
    "import missingno as msno\n"
   ]
  },
  {
   "cell_type": "code",
   "execution_count": 12,
   "metadata": {},
   "outputs": [
    {
     "data": {
      "image/png": "[encoded data removed]",
      "text/plain": [
       "<matplotlib.figure.Figure at 0x117f63668>"
      ]
     },
     "metadata": {},
     "output_type": "display_data"
    }
   ],
   "source": [
    "msno.matrix(comments)"
   ]
  },
  {
   "cell_type": "code",
   "execution_count": 13,
   "metadata": {},
   "outputs": [
    {
     "data": {
      "image/png": "[encoded data removed]",
      "text/plain": [
       "<matplotlib.figure.Figure at 0x115799f98>"
      ]
     },
     "metadata": {},
     "output_type": "display_data"
    }
   ],
   "source": [
    "msno.bar(comments)"
   ]
  },
  {
   "cell_type": "code",
   "execution_count": 14,
   "metadata": {},
   "outputs": [
    {
     "data": {
      "text/plain": [
       "array(['', 'pingback'], dtype=object)"
      ]
     },
     "execution_count": 14,
     "metadata": {},
     "output_type": "execute_result"
    }
   ],
   "source": [
    "comments.comment_type.unique()"
   ]
  },
  {
   "cell_type": "code",
   "execution_count": 15,
   "metadata": {},
   "outputs": [
    {
     "data": {
      "text/html": [
       "<div>\n",
       "<style>\n",
       "    .dataframe thead tr:only-child th {\n",
       "        text-align: right;\n",
       "    }\n",
       "\n",
       "    .dataframe thead th {\n",
       "        text-align: left;\n",
       "    }\n",
       "\n",
       "    .dataframe tbody tr th {\n",
       "        vertical-align: top;\n",
       "    }\n",
       "</style>\n",
       "<table border=\"1\" class=\"dataframe\">\n",
       "  <thead>\n",
       "    <tr style=\"text-align: right;\">\n",
       "      <th></th>\n",
       "      <th>comment_ID</th>\n",
       "      <th>comment_post_ID</th>\n",
       "      <th>comment_author</th>\n",
       "      <th>comment_author_email</th>\n",
       "      <th>comment_author_url</th>\n",
       "      <th>comment_author_IP</th>\n",
       "      <th>comment_date</th>\n",
       "      <th>comment_date_gmt</th>\n",
       "      <th>comment_content</th>\n",
       "      <th>comment_karma</th>\n",
       "      <th>comment_approved</th>\n",
       "      <th>comment_agent</th>\n",
       "      <th>comment_parent</th>\n",
       "      <th>user_id</th>\n",
       "    </tr>\n",
       "    <tr>\n",
       "      <th>comment_type</th>\n",
       "      <th></th>\n",
       "      <th></th>\n",
       "      <th></th>\n",
       "      <th></th>\n",
       "      <th></th>\n",
       "      <th></th>\n",
       "      <th></th>\n",
       "      <th></th>\n",
       "      <th></th>\n",
       "      <th></th>\n",
       "      <th></th>\n",
       "      <th></th>\n",
       "      <th></th>\n",
       "      <th></th>\n",
       "    </tr>\n",
       "  </thead>\n",
       "  <tbody>\n",
       "    <tr>\n",
       "      <th></th>\n",
       "      <td>52794</td>\n",
       "      <td>52794</td>\n",
       "      <td>52794</td>\n",
       "      <td>52794</td>\n",
       "      <td>52794</td>\n",
       "      <td>52794</td>\n",
       "      <td>52653</td>\n",
       "      <td>52647</td>\n",
       "      <td>52794</td>\n",
       "      <td>52794</td>\n",
       "      <td>52794</td>\n",
       "      <td>52794</td>\n",
       "      <td>52794</td>\n",
       "      <td>52794</td>\n",
       "    </tr>\n",
       "    <tr>\n",
       "      <th>pingback</th>\n",
       "      <td>51</td>\n",
       "      <td>51</td>\n",
       "      <td>51</td>\n",
       "      <td>51</td>\n",
       "      <td>51</td>\n",
       "      <td>51</td>\n",
       "      <td>51</td>\n",
       "      <td>51</td>\n",
       "      <td>51</td>\n",
       "      <td>51</td>\n",
       "      <td>51</td>\n",
       "      <td>51</td>\n",
       "      <td>51</td>\n",
       "      <td>51</td>\n",
       "    </tr>\n",
       "  </tbody>\n",
       "</table>\n",
       "</div>"
      ],
      "text/plain": [
       "              comment_ID  comment_post_ID  comment_author  \\\n",
       "comment_type                                                \n",
       "                   52794            52794           52794   \n",
       "pingback              51               51              51   \n",
       "\n",
       "              comment_author_email  comment_author_url  comment_author_IP  \\\n",
       "comment_type                                                                \n",
       "                             52794               52794              52794   \n",
       "pingback                        51                  51                 51   \n",
       "\n",
       "              comment_date  comment_date_gmt  comment_content  comment_karma  \\\n",
       "comment_type                                                                   \n",
       "                     52653             52647            52794          52794   \n",
       "pingback                51                51               51             51   \n",
       "\n",
       "              comment_approved  comment_agent  comment_parent  user_id  \n",
       "comment_type                                                            \n",
       "                         52794          52794           52794    52794  \n",
       "pingback                    51             51              51       51  "
      ]
     },
     "execution_count": 15,
     "metadata": {},
     "output_type": "execute_result"
    }
   ],
   "source": [
    "comments.groupby('comment_type').count()"
   ]
  },
  {
   "cell_type": "code",
   "execution_count": 16,
   "metadata": {},
   "outputs": [
    {
     "data": {
      "text/plain": [
       "comment_ID              3913\n",
       "comment_post_ID         3913\n",
       "comment_author          3913\n",
       "comment_author_email    3913\n",
       "comment_author_url      3913\n",
       "comment_author_IP       3913\n",
       "comment_date            3911\n",
       "comment_date_gmt        3911\n",
       "comment_content         3913\n",
       "comment_karma           3913\n",
       "comment_approved        3913\n",
       "comment_agent           3913\n",
       "comment_type            3913\n",
       "comment_parent          3913\n",
       "user_id                 3913\n",
       "dtype: int64"
      ]
     },
     "execution_count": 16,
     "metadata": {},
     "output_type": "execute_result"
    }
   ],
   "source": [
    "# find out how many response by purl bee\n",
    "comments[comments['comment_author'] == 'purl bee'].count()"
   ]
  },
  {
   "cell_type": "code",
   "execution_count": 17,
   "metadata": {},
   "outputs": [
    {
     "data": {
      "text/plain": [
       "comment_post_ID\n",
       "0          1\n",
       "19         4\n",
       "23       170\n",
       "43        15\n",
       "49        59\n",
       "61        64\n",
       "89        28\n",
       "100       21\n",
       "114       44\n",
       "130       33\n",
       "141      224\n",
       "157       24\n",
       "163        1\n",
       "167        8\n",
       "172       57\n",
       "194       50\n",
       "207       19\n",
       "222       33\n",
       "249       32\n",
       "269       44\n",
       "273       17\n",
       "286      192\n",
       "297       11\n",
       "312       17\n",
       "320       29\n",
       "326       17\n",
       "347       53\n",
       "384       27\n",
       "399      289\n",
       "412       70\n",
       "        ... \n",
       "42623     30\n",
       "42811      2\n",
       "42868     38\n",
       "43238      4\n",
       "43240     51\n",
       "43245     12\n",
       "43304     31\n",
       "43317     10\n",
       "43320     11\n",
       "43358     38\n",
       "43479     40\n",
       "43491    138\n",
       "43531     13\n",
       "43579      6\n",
       "43657      2\n",
       "43660      5\n",
       "43662     21\n",
       "44015    146\n",
       "44089     77\n",
       "44145      8\n",
       "44322     43\n",
       "44344      5\n",
       "44853     22\n",
       "45044     36\n",
       "45122      2\n",
       "45241      2\n",
       "45246      1\n",
       "45327     26\n",
       "45530      2\n",
       "45604     12\n",
       "Length: 1124, dtype: int64"
      ]
     },
     "execution_count": 17,
     "metadata": {},
     "output_type": "execute_result"
    }
   ],
   "source": [
    "comments.groupby('comment_post_ID').size()"
   ]
  },
  {
   "cell_type": "code",
   "execution_count": 18,
   "metadata": {},
   "outputs": [
    {
     "data": {
      "text/plain": [
       "0     39541\n",
       "27     2754\n",
       "32     2312\n",
       "3      1520\n",
       "2      1224\n",
       "26      959\n",
       "23      907\n",
       "21      733\n",
       "36      564\n",
       "6       464\n",
       "15      409\n",
       "19      399\n",
       "8       371\n",
       "7       242\n",
       "37      140\n",
       "40      114\n",
       "33       57\n",
       "31       53\n",
       "28       46\n",
       "5        32\n",
       "14        4\n",
       "Name: user_id, dtype: int64"
      ]
     },
     "execution_count": 18,
     "metadata": {},
     "output_type": "execute_result"
    }
   ],
   "source": [
    "comments.user_id.value_counts()"
   ]
  },
  {
   "cell_type": "code",
   "execution_count": 19,
   "metadata": {
    "collapsed": true
   },
   "outputs": [],
   "source": [
    "# lets drop columns we don't need\n",
    "columns = ['comment_karma', 'comment_agent', 'comment_type', 'comment_parent', 'user_id']\n",
    "cleaned_comments = comments.drop(columns, axis=1)"
   ]
  },
  {
   "cell_type": "code",
   "execution_count": 20,
   "metadata": {
    "collapsed": true
   },
   "outputs": [],
   "source": [
    "# get rid of spam comments\n",
    "spam = ['0', 'post-trashed', 'spam', 'trash']\n",
    "cleaned_comments = cleaned_comments[cleaned_comments.comment_approved != '0']\n"
   ]
  },
  {
   "cell_type": "code",
   "execution_count": 21,
   "metadata": {
    "collapsed": true
   },
   "outputs": [],
   "source": [
    "cleaned_comments = cleaned_comments[cleaned_comments.comment_approved != 'post-trashed']\n"
   ]
  },
  {
   "cell_type": "code",
   "execution_count": 22,
   "metadata": {
    "collapsed": true
   },
   "outputs": [],
   "source": [
    "cleaned_comments = cleaned_comments[cleaned_comments.comment_approved != 'spam']\n"
   ]
  },
  {
   "cell_type": "code",
   "execution_count": 23,
   "metadata": {
    "collapsed": true
   },
   "outputs": [],
   "source": [
    "cleaned_comments = cleaned_comments[cleaned_comments.comment_approved != 'trash']\n"
   ]
  },
  {
   "cell_type": "code",
   "execution_count": 24,
   "metadata": {},
   "outputs": [
    {
     "name": "stdout",
     "output_type": "stream",
     "text": [
      "<class 'pandas.core.frame.DataFrame'>\n",
      "Int64Index: 52363 entries, 0 to 52829\n",
      "Data columns (total 10 columns):\n",
      "comment_ID              52363 non-null int64\n",
      "comment_post_ID         52363 non-null int64\n",
      "comment_author          52363 non-null object\n",
      "comment_author_email    52363 non-null object\n",
      "comment_author_url      52363 non-null object\n",
      "comment_author_IP       52363 non-null object\n",
      "comment_date            52222 non-null datetime64[ns]\n",
      "comment_date_gmt        52216 non-null datetime64[ns]\n",
      "comment_content         52363 non-null object\n",
      "comment_approved        52363 non-null object\n",
      "dtypes: datetime64[ns](2), int64(2), object(6)\n",
      "memory usage: 4.4+ MB\n"
     ]
    }
   ],
   "source": [
    "cleaned_comments.info()"
   ]
  },
  {
   "cell_type": "code",
   "execution_count": 25,
   "metadata": {},
   "outputs": [
    {
     "data": {
      "text/html": [
       "<div>\n",
       "<style>\n",
       "    .dataframe thead tr:only-child th {\n",
       "        text-align: right;\n",
       "    }\n",
       "\n",
       "    .dataframe thead th {\n",
       "        text-align: left;\n",
       "    }\n",
       "\n",
       "    .dataframe tbody tr th {\n",
       "        vertical-align: top;\n",
       "    }\n",
       "</style>\n",
       "<table border=\"1\" class=\"dataframe\">\n",
       "  <thead>\n",
       "    <tr style=\"text-align: right;\">\n",
       "      <th></th>\n",
       "      <th>comment_ID</th>\n",
       "      <th>comment_post_ID</th>\n",
       "      <th>comment_author</th>\n",
       "      <th>comment_author_email</th>\n",
       "      <th>comment_author_url</th>\n",
       "      <th>comment_author_IP</th>\n",
       "      <th>comment_date</th>\n",
       "      <th>comment_date_gmt</th>\n",
       "      <th>comment_content</th>\n",
       "      <th>comment_approved</th>\n",
       "    </tr>\n",
       "  </thead>\n",
       "  <tbody>\n",
       "    <tr>\n",
       "      <th>0</th>\n",
       "      <td>2</td>\n",
       "      <td>23</td>\n",
       "      <td>emily p</td>\n",
       "      <td></td>\n",
       "      <td></td>\n",
       "      <td>70.44.66.3</td>\n",
       "      <td>2014-07-24 12:54:46</td>\n",
       "      <td>2014-07-24 12:54:46</td>\n",
       "      <td>These are fantastic! I have been looking for s...</td>\n",
       "      <td>1</td>\n",
       "    </tr>\n",
       "    <tr>\n",
       "      <th>1</th>\n",
       "      <td>3</td>\n",
       "      <td>23</td>\n",
       "      <td>Lena</td>\n",
       "      <td>lena.mumen@gmail.com</td>\n",
       "      <td>http://www.mrsgarlichead.com</td>\n",
       "      <td>85.1.237.251</td>\n",
       "      <td>2014-07-24 13:24:02</td>\n",
       "      <td>2014-07-24 13:24:02</td>\n",
       "      <td>Oh these are lovely. I love the tulip hem, I h...</td>\n",
       "      <td>1</td>\n",
       "    </tr>\n",
       "    <tr>\n",
       "      <th>2</th>\n",
       "      <td>4</td>\n",
       "      <td>23</td>\n",
       "      <td>Katie</td>\n",
       "      <td></td>\n",
       "      <td></td>\n",
       "      <td>72.198.169.59</td>\n",
       "      <td>2014-07-24 15:33:46</td>\n",
       "      <td>2014-07-24 15:33:46</td>\n",
       "      <td>Love these shorts!! This may be a silly questi...</td>\n",
       "      <td>1</td>\n",
       "    </tr>\n",
       "    <tr>\n",
       "      <th>3</th>\n",
       "      <td>5</td>\n",
       "      <td>23</td>\n",
       "      <td>jessica</td>\n",
       "      <td></td>\n",
       "      <td></td>\n",
       "      <td>76.114.88.227</td>\n",
       "      <td>2014-07-24 15:46:05</td>\n",
       "      <td>2014-07-24 15:46:05</td>\n",
       "      <td>so sad, yet another pattern not big enough for...</td>\n",
       "      <td>1</td>\n",
       "    </tr>\n",
       "    <tr>\n",
       "      <th>4</th>\n",
       "      <td>6</td>\n",
       "      <td>23</td>\n",
       "      <td>Margo, Thrift at Home</td>\n",
       "      <td>thriftathome@gmail.com</td>\n",
       "      <td>http://thriftathome.blogspot.com</td>\n",
       "      <td>108.55.66.48</td>\n",
       "      <td>2014-07-24 18:19:31</td>\n",
       "      <td>2014-07-24 18:19:31</td>\n",
       "      <td>YES I am done with the gym!!! This year I&amp;#39;...</td>\n",
       "      <td>1</td>\n",
       "    </tr>\n",
       "  </tbody>\n",
       "</table>\n",
       "</div>"
      ],
      "text/plain": [
       "   comment_ID  comment_post_ID         comment_author    comment_author_email  \\\n",
       "0           2               23                emily p                           \n",
       "1           3               23                   Lena    lena.mumen@gmail.com   \n",
       "2           4               23                  Katie                           \n",
       "3           5               23                jessica                           \n",
       "4           6               23  Margo, Thrift at Home  thriftathome@gmail.com   \n",
       "\n",
       "                 comment_author_url comment_author_IP        comment_date  \\\n",
       "0                                          70.44.66.3 2014-07-24 12:54:46   \n",
       "1      http://www.mrsgarlichead.com      85.1.237.251 2014-07-24 13:24:02   \n",
       "2                                       72.198.169.59 2014-07-24 15:33:46   \n",
       "3                                       76.114.88.227 2014-07-24 15:46:05   \n",
       "4  http://thriftathome.blogspot.com      108.55.66.48 2014-07-24 18:19:31   \n",
       "\n",
       "     comment_date_gmt                                    comment_content  \\\n",
       "0 2014-07-24 12:54:46  These are fantastic! I have been looking for s...   \n",
       "1 2014-07-24 13:24:02  Oh these are lovely. I love the tulip hem, I h...   \n",
       "2 2014-07-24 15:33:46  Love these shorts!! This may be a silly questi...   \n",
       "3 2014-07-24 15:46:05  so sad, yet another pattern not big enough for...   \n",
       "4 2014-07-24 18:19:31  YES I am done with the gym!!! This year I&#39;...   \n",
       "\n",
       "  comment_approved  \n",
       "0                1  \n",
       "1                1  \n",
       "2                1  \n",
       "3                1  \n",
       "4                1  "
      ]
     },
     "execution_count": 25,
     "metadata": {},
     "output_type": "execute_result"
    }
   ],
   "source": [
    "cleaned_comments.head()"
   ]
  },
  {
   "cell_type": "code",
   "execution_count": 26,
   "metadata": {},
   "outputs": [
    {
     "data": {
      "text/plain": [
       "array(['1'], dtype=object)"
      ]
     },
     "execution_count": 26,
     "metadata": {},
     "output_type": "execute_result"
    }
   ],
   "source": [
    "cleaned_comments.comment_approved.unique()"
   ]
  },
  {
   "cell_type": "code",
   "execution_count": 129,
   "metadata": {
    "collapsed": true
   },
   "outputs": [],
   "source": [
    "# lets removed rows that contain response to each of the comments: \n",
    "\n",
    "comment_wo_response = cleaned_comments[cleaned_comments.comment_author != 'purl bee']"
   ]
  },
  {
   "cell_type": "code",
   "execution_count": 130,
   "metadata": {},
   "outputs": [
    {
     "data": {
      "text/plain": [
       "comment_ID              48450\n",
       "comment_post_ID         48450\n",
       "comment_author          48450\n",
       "comment_author_email    48450\n",
       "comment_author_url      48450\n",
       "comment_author_IP       48450\n",
       "comment_date            48311\n",
       "comment_date_gmt        48305\n",
       "comment_content         48450\n",
       "comment_approved        48450\n",
       "dtype: int64"
      ]
     },
     "execution_count": 130,
     "metadata": {},
     "output_type": "execute_result"
    }
   ],
   "source": [
    "comment_wo_response.count()"
   ]
  },
  {
   "cell_type": "code",
   "execution_count": 131,
   "metadata": {},
   "outputs": [
    {
     "data": {
      "text/plain": [
       "Cassy     2756\n",
       "Adam      2312\n",
       "Molly     1550\n",
       "Laura     1413\n",
       "Kumeko     959\n",
       "Name: comment_author, dtype: int64"
      ]
     },
     "execution_count": 131,
     "metadata": {},
     "output_type": "execute_result"
    }
   ],
   "source": [
    "comment_wo_response.comment_author.value_counts().head()"
   ]
  },
  {
   "cell_type": "code",
   "execution_count": 133,
   "metadata": {},
   "outputs": [
    {
     "data": {
      "text/html": [
       "<div>\n",
       "<style>\n",
       "    .dataframe thead tr:only-child th {\n",
       "        text-align: right;\n",
       "    }\n",
       "\n",
       "    .dataframe thead th {\n",
       "        text-align: left;\n",
       "    }\n",
       "\n",
       "    .dataframe tbody tr th {\n",
       "        vertical-align: top;\n",
       "    }\n",
       "</style>\n",
       "<table border=\"1\" class=\"dataframe\">\n",
       "  <thead>\n",
       "    <tr style=\"text-align: right;\">\n",
       "      <th></th>\n",
       "      <th>comment_ID</th>\n",
       "      <th>comment_post_ID</th>\n",
       "      <th>comment_author</th>\n",
       "      <th>comment_author_email</th>\n",
       "      <th>comment_author_url</th>\n",
       "      <th>comment_author_IP</th>\n",
       "      <th>comment_date</th>\n",
       "      <th>comment_date_gmt</th>\n",
       "      <th>comment_content</th>\n",
       "      <th>comment_approved</th>\n",
       "    </tr>\n",
       "  </thead>\n",
       "  <tbody>\n",
       "    <tr>\n",
       "      <th>1693</th>\n",
       "      <td>1703</td>\n",
       "      <td>1141</td>\n",
       "      <td>Cassy</td>\n",
       "      <td>cassandra.dominick@gmail.com</td>\n",
       "      <td>http://knitthehellout.com</td>\n",
       "      <td>130.184.236.182</td>\n",
       "      <td>2013-10-08 15:24:56</td>\n",
       "      <td>2013-10-08 15:24:56</td>\n",
       "      <td>Ha! I was one of those early people.When I enc...</td>\n",
       "      <td>1</td>\n",
       "    </tr>\n",
       "    <tr>\n",
       "      <th>16147</th>\n",
       "      <td>16439</td>\n",
       "      <td>6145</td>\n",
       "      <td>Cassy</td>\n",
       "      <td></td>\n",
       "      <td></td>\n",
       "      <td></td>\n",
       "      <td>2011-04-16 00:00:00</td>\n",
       "      <td>2011-04-16 00:00:00</td>\n",
       "      <td>Thank you for this cute pattern. Here is the f...</td>\n",
       "      <td>1</td>\n",
       "    </tr>\n",
       "    <tr>\n",
       "      <th>35674</th>\n",
       "      <td>90513</td>\n",
       "      <td>746</td>\n",
       "      <td>Cassy</td>\n",
       "      <td>Cassy.guthrie@gmail.com</td>\n",
       "      <td></td>\n",
       "      <td>166.137.136.49</td>\n",
       "      <td>2016-01-16 00:28:24</td>\n",
       "      <td>2016-01-16 05:28:24</td>\n",
       "      <td>I am in the middle of making this hat for my n...</td>\n",
       "      <td>1</td>\n",
       "    </tr>\n",
       "    <tr>\n",
       "      <th>35704</th>\n",
       "      <td>90562</td>\n",
       "      <td>19172</td>\n",
       "      <td>Cassy</td>\n",
       "      <td>cassy@purlsoho.com</td>\n",
       "      <td></td>\n",
       "      <td>69.126.52.97</td>\n",
       "      <td>2016-01-17 19:15:57</td>\n",
       "      <td>2016-01-18 00:15:57</td>\n",
       "      <td>Hi Mary Anne,\\n\\nWe'd be happy to help you mak...</td>\n",
       "      <td>1</td>\n",
       "    </tr>\n",
       "    <tr>\n",
       "      <th>35706</th>\n",
       "      <td>90564</td>\n",
       "      <td>27563</td>\n",
       "      <td>Cassy</td>\n",
       "      <td>cassy@purlsoho.com</td>\n",
       "      <td></td>\n",
       "      <td>69.126.52.97</td>\n",
       "      <td>2016-01-17 21:14:05</td>\n",
       "      <td>2016-01-18 02:14:05</td>\n",
       "      <td>Hi Billie,\\n\\nThank you for writing in! We do ...</td>\n",
       "      <td>1</td>\n",
       "    </tr>\n",
       "    <tr>\n",
       "      <th>35736</th>\n",
       "      <td>90605</td>\n",
       "      <td>709</td>\n",
       "      <td>Cassy</td>\n",
       "      <td>cassy@purlsoho.com</td>\n",
       "      <td></td>\n",
       "      <td>69.126.52.97</td>\n",
       "      <td>2016-01-18 17:41:08</td>\n",
       "      <td>2016-01-18 22:41:08</td>\n",
       "      <td>Hi Elizabeth,\\n\\nThanks for writing in. If you...</td>\n",
       "      <td>1</td>\n",
       "    </tr>\n",
       "    <tr>\n",
       "      <th>35738</th>\n",
       "      <td>90607</td>\n",
       "      <td>20978</td>\n",
       "      <td>Cassy</td>\n",
       "      <td>cassy@purlsoho.com</td>\n",
       "      <td></td>\n",
       "      <td>69.126.52.97</td>\n",
       "      <td>2016-01-18 17:58:35</td>\n",
       "      <td>2016-01-18 22:58:35</td>\n",
       "      <td>Hi Irene,\\n\\nThanks for writing in! We are hap...</td>\n",
       "      <td>1</td>\n",
       "    </tr>\n",
       "    <tr>\n",
       "      <th>35739</th>\n",
       "      <td>90608</td>\n",
       "      <td>1107</td>\n",
       "      <td>Cassy</td>\n",
       "      <td>cassy@purlsoho.com</td>\n",
       "      <td></td>\n",
       "      <td>69.126.52.97</td>\n",
       "      <td>2016-01-18 18:16:17</td>\n",
       "      <td>2016-01-18 23:16:17</td>\n",
       "      <td>Hi Margo,\\n\\nThanks for your question! We carr...</td>\n",
       "      <td>1</td>\n",
       "    </tr>\n",
       "    <tr>\n",
       "      <th>35740</th>\n",
       "      <td>90610</td>\n",
       "      <td>15348</td>\n",
       "      <td>Cassy</td>\n",
       "      <td>cassy@purlsoho.com</td>\n",
       "      <td></td>\n",
       "      <td>69.126.52.97</td>\n",
       "      <td>2016-01-18 18:21:52</td>\n",
       "      <td>2016-01-18 23:21:52</td>\n",
       "      <td>Hi Claudia,\\n\\nThanks for writing in!  We do h...</td>\n",
       "      <td>1</td>\n",
       "    </tr>\n",
       "    <tr>\n",
       "      <th>35741</th>\n",
       "      <td>90612</td>\n",
       "      <td>2865</td>\n",
       "      <td>Cassy</td>\n",
       "      <td>cassy@purlsoho.com</td>\n",
       "      <td></td>\n",
       "      <td>69.126.52.97</td>\n",
       "      <td>2016-01-18 18:32:26</td>\n",
       "      <td>2016-01-18 23:32:26</td>\n",
       "      <td>Hi Kassy,\\n\\nThanks for writing in!  For this ...</td>\n",
       "      <td>1</td>\n",
       "    </tr>\n",
       "  </tbody>\n",
       "</table>\n",
       "</div>"
      ],
      "text/plain": [
       "       comment_ID  comment_post_ID comment_author  \\\n",
       "1693         1703             1141          Cassy   \n",
       "16147       16439             6145          Cassy   \n",
       "35674       90513              746          Cassy   \n",
       "35704       90562            19172          Cassy   \n",
       "35706       90564            27563          Cassy   \n",
       "35736       90605              709          Cassy   \n",
       "35738       90607            20978          Cassy   \n",
       "35739       90608             1107          Cassy   \n",
       "35740       90610            15348          Cassy   \n",
       "35741       90612             2865          Cassy   \n",
       "\n",
       "               comment_author_email         comment_author_url  \\\n",
       "1693   cassandra.dominick@gmail.com  http://knitthehellout.com   \n",
       "16147                                                            \n",
       "35674       Cassy.guthrie@gmail.com                              \n",
       "35704            cassy@purlsoho.com                              \n",
       "35706            cassy@purlsoho.com                              \n",
       "35736            cassy@purlsoho.com                              \n",
       "35738            cassy@purlsoho.com                              \n",
       "35739            cassy@purlsoho.com                              \n",
       "35740            cassy@purlsoho.com                              \n",
       "35741            cassy@purlsoho.com                              \n",
       "\n",
       "      comment_author_IP        comment_date    comment_date_gmt  \\\n",
       "1693    130.184.236.182 2013-10-08 15:24:56 2013-10-08 15:24:56   \n",
       "16147                   2011-04-16 00:00:00 2011-04-16 00:00:00   \n",
       "35674    166.137.136.49 2016-01-16 00:28:24 2016-01-16 05:28:24   \n",
       "35704      69.126.52.97 2016-01-17 19:15:57 2016-01-18 00:15:57   \n",
       "35706      69.126.52.97 2016-01-17 21:14:05 2016-01-18 02:14:05   \n",
       "35736      69.126.52.97 2016-01-18 17:41:08 2016-01-18 22:41:08   \n",
       "35738      69.126.52.97 2016-01-18 17:58:35 2016-01-18 22:58:35   \n",
       "35739      69.126.52.97 2016-01-18 18:16:17 2016-01-18 23:16:17   \n",
       "35740      69.126.52.97 2016-01-18 18:21:52 2016-01-18 23:21:52   \n",
       "35741      69.126.52.97 2016-01-18 18:32:26 2016-01-18 23:32:26   \n",
       "\n",
       "                                         comment_content comment_approved  \n",
       "1693   Ha! I was one of those early people.When I enc...                1  \n",
       "16147  Thank you for this cute pattern. Here is the f...                1  \n",
       "35674  I am in the middle of making this hat for my n...                1  \n",
       "35704  Hi Mary Anne,\\n\\nWe'd be happy to help you mak...                1  \n",
       "35706  Hi Billie,\\n\\nThank you for writing in! We do ...                1  \n",
       "35736  Hi Elizabeth,\\n\\nThanks for writing in. If you...                1  \n",
       "35738  Hi Irene,\\n\\nThanks for writing in! We are hap...                1  \n",
       "35739  Hi Margo,\\n\\nThanks for your question! We carr...                1  \n",
       "35740  Hi Claudia,\\n\\nThanks for writing in!  We do h...                1  \n",
       "35741  Hi Kassy,\\n\\nThanks for writing in!  For this ...                1  "
      ]
     },
     "execution_count": 133,
     "metadata": {},
     "output_type": "execute_result"
    }
   ],
   "source": [
    "comment_wo_response[comment_wo_response['comment_author'] == 'Cassy'].head(10)"
   ]
  },
  {
   "cell_type": "code",
   "execution_count": 134,
   "metadata": {
    "collapsed": true
   },
   "outputs": [],
   "source": [
    "# not all comments response have purl bee, need to get rid off comment \n",
    "# author email that has @purlsoho.com\n",
    "\n",
    "comment_wo_response = comment_wo_response[comment_wo_response['comment_author_email'].str.contains(\"@purlsoho.com\")==False]"
   ]
  },
  {
   "cell_type": "code",
   "execution_count": 135,
   "metadata": {},
   "outputs": [
    {
     "data": {
      "text/html": [
       "<div>\n",
       "<style>\n",
       "    .dataframe thead tr:only-child th {\n",
       "        text-align: right;\n",
       "    }\n",
       "\n",
       "    .dataframe thead th {\n",
       "        text-align: left;\n",
       "    }\n",
       "\n",
       "    .dataframe tbody tr th {\n",
       "        vertical-align: top;\n",
       "    }\n",
       "</style>\n",
       "<table border=\"1\" class=\"dataframe\">\n",
       "  <thead>\n",
       "    <tr style=\"text-align: right;\">\n",
       "      <th></th>\n",
       "      <th>comment_ID</th>\n",
       "      <th>comment_post_ID</th>\n",
       "      <th>comment_author</th>\n",
       "      <th>comment_author_email</th>\n",
       "      <th>comment_author_url</th>\n",
       "      <th>comment_author_IP</th>\n",
       "      <th>comment_date</th>\n",
       "      <th>comment_date_gmt</th>\n",
       "      <th>comment_content</th>\n",
       "      <th>comment_approved</th>\n",
       "    </tr>\n",
       "  </thead>\n",
       "  <tbody>\n",
       "    <tr>\n",
       "      <th>0</th>\n",
       "      <td>2</td>\n",
       "      <td>23</td>\n",
       "      <td>emily p</td>\n",
       "      <td></td>\n",
       "      <td></td>\n",
       "      <td>70.44.66.3</td>\n",
       "      <td>2014-07-24 12:54:46</td>\n",
       "      <td>2014-07-24 12:54:46</td>\n",
       "      <td>These are fantastic! I have been looking for s...</td>\n",
       "      <td>1</td>\n",
       "    </tr>\n",
       "    <tr>\n",
       "      <th>1</th>\n",
       "      <td>3</td>\n",
       "      <td>23</td>\n",
       "      <td>Lena</td>\n",
       "      <td>lena.mumen@gmail.com</td>\n",
       "      <td>http://www.mrsgarlichead.com</td>\n",
       "      <td>85.1.237.251</td>\n",
       "      <td>2014-07-24 13:24:02</td>\n",
       "      <td>2014-07-24 13:24:02</td>\n",
       "      <td>Oh these are lovely. I love the tulip hem, I h...</td>\n",
       "      <td>1</td>\n",
       "    </tr>\n",
       "    <tr>\n",
       "      <th>2</th>\n",
       "      <td>4</td>\n",
       "      <td>23</td>\n",
       "      <td>Katie</td>\n",
       "      <td></td>\n",
       "      <td></td>\n",
       "      <td>72.198.169.59</td>\n",
       "      <td>2014-07-24 15:33:46</td>\n",
       "      <td>2014-07-24 15:33:46</td>\n",
       "      <td>Love these shorts!! This may be a silly questi...</td>\n",
       "      <td>1</td>\n",
       "    </tr>\n",
       "    <tr>\n",
       "      <th>3</th>\n",
       "      <td>5</td>\n",
       "      <td>23</td>\n",
       "      <td>jessica</td>\n",
       "      <td></td>\n",
       "      <td></td>\n",
       "      <td>76.114.88.227</td>\n",
       "      <td>2014-07-24 15:46:05</td>\n",
       "      <td>2014-07-24 15:46:05</td>\n",
       "      <td>so sad, yet another pattern not big enough for...</td>\n",
       "      <td>1</td>\n",
       "    </tr>\n",
       "    <tr>\n",
       "      <th>4</th>\n",
       "      <td>6</td>\n",
       "      <td>23</td>\n",
       "      <td>Margo, Thrift at Home</td>\n",
       "      <td>thriftathome@gmail.com</td>\n",
       "      <td>http://thriftathome.blogspot.com</td>\n",
       "      <td>108.55.66.48</td>\n",
       "      <td>2014-07-24 18:19:31</td>\n",
       "      <td>2014-07-24 18:19:31</td>\n",
       "      <td>YES I am done with the gym!!! This year I&amp;#39;...</td>\n",
       "      <td>1</td>\n",
       "    </tr>\n",
       "  </tbody>\n",
       "</table>\n",
       "</div>"
      ],
      "text/plain": [
       "   comment_ID  comment_post_ID         comment_author    comment_author_email  \\\n",
       "0           2               23                emily p                           \n",
       "1           3               23                   Lena    lena.mumen@gmail.com   \n",
       "2           4               23                  Katie                           \n",
       "3           5               23                jessica                           \n",
       "4           6               23  Margo, Thrift at Home  thriftathome@gmail.com   \n",
       "\n",
       "                 comment_author_url comment_author_IP        comment_date  \\\n",
       "0                                          70.44.66.3 2014-07-24 12:54:46   \n",
       "1      http://www.mrsgarlichead.com      85.1.237.251 2014-07-24 13:24:02   \n",
       "2                                       72.198.169.59 2014-07-24 15:33:46   \n",
       "3                                       76.114.88.227 2014-07-24 15:46:05   \n",
       "4  http://thriftathome.blogspot.com      108.55.66.48 2014-07-24 18:19:31   \n",
       "\n",
       "     comment_date_gmt                                    comment_content  \\\n",
       "0 2014-07-24 12:54:46  These are fantastic! I have been looking for s...   \n",
       "1 2014-07-24 13:24:02  Oh these are lovely. I love the tulip hem, I h...   \n",
       "2 2014-07-24 15:33:46  Love these shorts!! This may be a silly questi...   \n",
       "3 2014-07-24 15:46:05  so sad, yet another pattern not big enough for...   \n",
       "4 2014-07-24 18:19:31  YES I am done with the gym!!! This year I&#39;...   \n",
       "\n",
       "  comment_approved  \n",
       "0                1  \n",
       "1                1  \n",
       "2                1  \n",
       "3                1  \n",
       "4                1  "
      ]
     },
     "execution_count": 135,
     "metadata": {},
     "output_type": "execute_result"
    }
   ],
   "source": [
    "comment_wo_response.head()"
   ]
  },
  {
   "cell_type": "code",
   "execution_count": 136,
   "metadata": {},
   "outputs": [
    {
     "data": {
      "text/plain": [
       "Sarah    305\n",
       "Lisa     205\n",
       "Laura    189\n",
       "Susan    188\n",
       "Karen    171\n",
       "Name: comment_author, dtype: int64"
      ]
     },
     "execution_count": 136,
     "metadata": {},
     "output_type": "execute_result"
    }
   ],
   "source": [
    "comment_wo_response.comment_author.value_counts().head()"
   ]
  },
  {
   "cell_type": "code",
   "execution_count": 137,
   "metadata": {},
   "outputs": [
    {
     "data": {
      "text/html": [
       "<div>\n",
       "<style>\n",
       "    .dataframe thead tr:only-child th {\n",
       "        text-align: right;\n",
       "    }\n",
       "\n",
       "    .dataframe thead th {\n",
       "        text-align: left;\n",
       "    }\n",
       "\n",
       "    .dataframe tbody tr th {\n",
       "        vertical-align: top;\n",
       "    }\n",
       "</style>\n",
       "<table border=\"1\" class=\"dataframe\">\n",
       "  <thead>\n",
       "    <tr style=\"text-align: right;\">\n",
       "      <th></th>\n",
       "      <th>comment_ID</th>\n",
       "      <th>comment_post_ID</th>\n",
       "      <th>comment_author</th>\n",
       "      <th>comment_author_email</th>\n",
       "      <th>comment_author_url</th>\n",
       "      <th>comment_author_IP</th>\n",
       "      <th>comment_date</th>\n",
       "      <th>comment_date_gmt</th>\n",
       "      <th>comment_content</th>\n",
       "      <th>comment_approved</th>\n",
       "    </tr>\n",
       "  </thead>\n",
       "  <tbody>\n",
       "    <tr>\n",
       "      <th>175</th>\n",
       "      <td>177</td>\n",
       "      <td>172</td>\n",
       "      <td>Sarah</td>\n",
       "      <td>Sarahvheath@gmail.com</td>\n",
       "      <td></td>\n",
       "      <td>99.246.176.139</td>\n",
       "      <td>2014-06-14 02:39:00</td>\n",
       "      <td>2014-06-14 02:39:00</td>\n",
       "      <td>Just made one tonight and there will definitel...</td>\n",
       "      <td>1</td>\n",
       "    </tr>\n",
       "    <tr>\n",
       "      <th>291</th>\n",
       "      <td>294</td>\n",
       "      <td>286</td>\n",
       "      <td>Sarah</td>\n",
       "      <td>sarahphilip@runbox.com</td>\n",
       "      <td></td>\n",
       "      <td>24.193.100.246</td>\n",
       "      <td>2014-05-22 20:57:34</td>\n",
       "      <td>2014-05-22 20:57:34</td>\n",
       "      <td>Can I slip the first knit stitch for a cleaner...</td>\n",
       "      <td>1</td>\n",
       "    </tr>\n",
       "    <tr>\n",
       "      <th>294</th>\n",
       "      <td>297</td>\n",
       "      <td>286</td>\n",
       "      <td>Sarah</td>\n",
       "      <td>S.seago@me.com</td>\n",
       "      <td></td>\n",
       "      <td>24.8.144.188</td>\n",
       "      <td>2014-05-22 23:55:43</td>\n",
       "      <td>2014-05-22 23:55:43</td>\n",
       "      <td>Is there a reason that you used the Addi Rocke...</td>\n",
       "      <td>1</td>\n",
       "    </tr>\n",
       "    <tr>\n",
       "      <th>314</th>\n",
       "      <td>317</td>\n",
       "      <td>286</td>\n",
       "      <td>Sarah</td>\n",
       "      <td>S.seago@me.com</td>\n",
       "      <td></td>\n",
       "      <td>24.8.144.188</td>\n",
       "      <td>2014-07-04 03:07:14</td>\n",
       "      <td>2014-07-04 03:07:14</td>\n",
       "      <td>I&amp;#39;ve been trying to get this project going...</td>\n",
       "      <td>1</td>\n",
       "    </tr>\n",
       "    <tr>\n",
       "      <th>751</th>\n",
       "      <td>759</td>\n",
       "      <td>647</td>\n",
       "      <td>Sarah</td>\n",
       "      <td>sarahwjagger@gmail.com</td>\n",
       "      <td>http://www.goingstarfishing.blogspot.com</td>\n",
       "      <td>72.200.155.202</td>\n",
       "      <td>2014-03-22 14:20:12</td>\n",
       "      <td>2014-03-22 14:20:12</td>\n",
       "      <td>Hi Corinne,&lt;br/&gt;&lt;br/&gt;Wondering- do you have an...</td>\n",
       "      <td>1</td>\n",
       "    </tr>\n",
       "  </tbody>\n",
       "</table>\n",
       "</div>"
      ],
      "text/plain": [
       "     comment_ID  comment_post_ID comment_author    comment_author_email  \\\n",
       "175         177              172          Sarah   Sarahvheath@gmail.com   \n",
       "291         294              286          Sarah  sarahphilip@runbox.com   \n",
       "294         297              286          Sarah          S.seago@me.com   \n",
       "314         317              286          Sarah          S.seago@me.com   \n",
       "751         759              647          Sarah  sarahwjagger@gmail.com   \n",
       "\n",
       "                           comment_author_url comment_author_IP  \\\n",
       "175                                              99.246.176.139   \n",
       "291                                              24.193.100.246   \n",
       "294                                                24.8.144.188   \n",
       "314                                                24.8.144.188   \n",
       "751  http://www.goingstarfishing.blogspot.com    72.200.155.202   \n",
       "\n",
       "           comment_date    comment_date_gmt  \\\n",
       "175 2014-06-14 02:39:00 2014-06-14 02:39:00   \n",
       "291 2014-05-22 20:57:34 2014-05-22 20:57:34   \n",
       "294 2014-05-22 23:55:43 2014-05-22 23:55:43   \n",
       "314 2014-07-04 03:07:14 2014-07-04 03:07:14   \n",
       "751 2014-03-22 14:20:12 2014-03-22 14:20:12   \n",
       "\n",
       "                                       comment_content comment_approved  \n",
       "175  Just made one tonight and there will definitel...                1  \n",
       "291  Can I slip the first knit stitch for a cleaner...                1  \n",
       "294  Is there a reason that you used the Addi Rocke...                1  \n",
       "314  I&#39;ve been trying to get this project going...                1  \n",
       "751  Hi Corinne,<br/><br/>Wondering- do you have an...                1  "
      ]
     },
     "execution_count": 137,
     "metadata": {},
     "output_type": "execute_result"
    }
   ],
   "source": [
    "comment_wo_response[comment_wo_response['comment_author'] == 'Sarah'].head()"
   ]
  },
  {
   "cell_type": "code",
   "execution_count": 138,
   "metadata": {},
   "outputs": [
    {
     "data": {
      "text/html": [
       "<div>\n",
       "<style>\n",
       "    .dataframe thead tr:only-child th {\n",
       "        text-align: right;\n",
       "    }\n",
       "\n",
       "    .dataframe thead th {\n",
       "        text-align: left;\n",
       "    }\n",
       "\n",
       "    .dataframe tbody tr th {\n",
       "        vertical-align: top;\n",
       "    }\n",
       "</style>\n",
       "<table border=\"1\" class=\"dataframe\">\n",
       "  <thead>\n",
       "    <tr style=\"text-align: right;\">\n",
       "      <th></th>\n",
       "      <th>comment_ID</th>\n",
       "      <th>comment_post_ID</th>\n",
       "      <th>comment_author</th>\n",
       "      <th>comment_author_email</th>\n",
       "      <th>comment_author_url</th>\n",
       "      <th>comment_author_IP</th>\n",
       "      <th>comment_date</th>\n",
       "      <th>comment_date_gmt</th>\n",
       "      <th>comment_content</th>\n",
       "      <th>comment_approved</th>\n",
       "    </tr>\n",
       "  </thead>\n",
       "  <tbody>\n",
       "  </tbody>\n",
       "</table>\n",
       "</div>"
      ],
      "text/plain": [
       "Empty DataFrame\n",
       "Columns: [comment_ID, comment_post_ID, comment_author, comment_author_email, comment_author_url, comment_author_IP, comment_date, comment_date_gmt, comment_content, comment_approved]\n",
       "Index: []"
      ]
     },
     "execution_count": 138,
     "metadata": {},
     "output_type": "execute_result"
    }
   ],
   "source": [
    "comment_wo_response[comment_wo_response['comment_author_email'].str.contains('@purl')]"
   ]
  },
  {
   "cell_type": "code",
   "execution_count": 139,
   "metadata": {},
   "outputs": [
    {
     "name": "stdout",
     "output_type": "stream",
     "text": [
      "<class 'pandas.core.frame.DataFrame'>\n",
      "Int64Index: 35099 entries, 0 to 52817\n",
      "Data columns (total 10 columns):\n",
      "comment_ID              35099 non-null int64\n",
      "comment_post_ID         35099 non-null int64\n",
      "comment_author          35099 non-null object\n",
      "comment_author_email    35099 non-null object\n",
      "comment_author_url      35099 non-null object\n",
      "comment_author_IP       35099 non-null object\n",
      "comment_date            34960 non-null datetime64[ns]\n",
      "comment_date_gmt        34958 non-null datetime64[ns]\n",
      "comment_content         35099 non-null object\n",
      "comment_approved        35099 non-null object\n",
      "dtypes: datetime64[ns](2), int64(2), object(6)\n",
      "memory usage: 2.9+ MB\n"
     ]
    }
   ],
   "source": [
    "comment_wo_response.info()"
   ]
  },
  {
   "cell_type": "code",
   "execution_count": 140,
   "metadata": {},
   "outputs": [
    {
     "name": "stdout",
     "output_type": "stream",
     "text": [
      "{'These': True, 'are': True, 'fantastic': True, '!': True, 'I': True, 'have': True, 'been': True, 'looking': True, 'for': True, 'something': True, 'like': True, 'this': True, 'to': True, 'use': True, 'my': True, 'herring': True, 'bone': True, 'chambray': True, 'and': True, 'pajama': True, 'shorts': True, 'too': True, 'Thank': True, 'you': True}\n",
      "{'so': True, 'sad': True, ',': True, 'yet': True, 'another': True, 'pattern': True, 'not': True, 'big': True, 'enough': True, 'for': True, 'this': True, 'fat': True, 'girl': True, ':': True, '(': True}\n"
     ]
    }
   ],
   "source": [
    "# find positive and Negative Comments:\n",
    "\n",
    "import nltk\n",
    "\n",
    "def format_comment(comment):\n",
    "    return ({word: True for word in nltk.word_tokenize(comment)})\n",
    "\n",
    "print(format_comment('These are fantastic! I have been looking for something like this to use my herring bone chambray and pajama shorts too ! Thank you!'))\n",
    "print(format_comment('so sad, yet another pattern not big enough for this fat girl :('))"
   ]
  },
  {
   "cell_type": "code",
   "execution_count": 141,
   "metadata": {
    "collapsed": true
   },
   "outputs": [],
   "source": [
    "# pos = []\n",
    "# content = comment_wo_response.comment_content\n",
    "# for i in content:\n",
    "#     pos.append([format_comment(i), 'pos'])"
   ]
  },
  {
   "cell_type": "code",
   "execution_count": 142,
   "metadata": {
    "collapsed": true
   },
   "outputs": [],
   "source": [
    "# neg = []\n",
    "# content = comment_wo_response.comment_content\n",
    "# for i in content:\n",
    "#     neg.append([format_comment(i), 'neg'])"
   ]
  },
  {
   "cell_type": "code",
   "execution_count": 143,
   "metadata": {
    "collapsed": true
   },
   "outputs": [],
   "source": [
    "# training = pos[:int((.8)*len(pos))] + neg[:int((.8)*len(neg))]\n",
    "# test = pos[int((.8)*len(pos)):] + neg[int((.8)*len(neg)):]"
   ]
  },
  {
   "cell_type": "code",
   "execution_count": 144,
   "metadata": {
    "collapsed": true
   },
   "outputs": [],
   "source": [
    "# from nltk.classify import NaiveBayesClassifier\n",
    "\n",
    "# classifier = NaiveBayesClassifier.train(training)"
   ]
  },
  {
   "cell_type": "code",
   "execution_count": 145,
   "metadata": {
    "collapsed": true
   },
   "outputs": [],
   "source": [
    "# classifier.show_most_informative_features()"
   ]
  },
  {
   "cell_type": "code",
   "execution_count": 146,
   "metadata": {
    "collapsed": true
   },
   "outputs": [],
   "source": [
    "# example1 = \"Cats are awesome!\"\n",
    " \n",
    "# print(classifier.classify(format_comment(example1)))"
   ]
  },
  {
   "cell_type": "code",
   "execution_count": 147,
   "metadata": {
    "collapsed": true
   },
   "outputs": [],
   "source": [
    "# example2 = 'so sad, yet another pattern not big enough for this fat girl :('\n",
    " \n",
    "# print(classifier.classify(format_comment(example2)))"
   ]
  },
  {
   "cell_type": "code",
   "execution_count": 148,
   "metadata": {
    "collapsed": true
   },
   "outputs": [],
   "source": [
    "# example3 = \"I have no headache!\"\n",
    " \n",
    "# print(classifier.classify(format_comment(example3)))"
   ]
  },
  {
   "cell_type": "code",
   "execution_count": 149,
   "metadata": {
    "collapsed": true
   },
   "outputs": [],
   "source": [
    "# from nltk.classify.util import accuracy\n",
    "# print(accuracy(classifier, test))"
   ]
  },
  {
   "cell_type": "code",
   "execution_count": 150,
   "metadata": {
    "collapsed": true
   },
   "outputs": [],
   "source": [
    "alienclient = os.environ.get('ALIENCLIENT')\n",
    "alienapi = os.environ.get('ALIEAPIKEY')"
   ]
  },
  {
   "cell_type": "code",
   "execution_count": 151,
   "metadata": {
    "collapsed": true
   },
   "outputs": [],
   "source": [
    "# using Aylie sentiment\n",
    "\n",
    "from aylienapiclient import textapi\n",
    "\n",
    "client = textapi.Client(alienclient, alienapi)"
   ]
  },
  {
   "cell_type": "code",
   "execution_count": 152,
   "metadata": {},
   "outputs": [
    {
     "name": "stdout",
     "output_type": "stream",
     "text": [
      "{'polarity': 'positive', 'subjectivity': 'subjective', 'text': 'These are fantastic! I have been looking for something like this to use my herring bone chambray and pajama shorts too ! Thank you!', 'polarity_confidence': 0.9783152341842651, 'subjectivity_confidence': 1.0}\n"
     ]
    }
   ],
   "source": [
    "text = 'These are fantastic! I have been looking for something like this to use my herring bone chambray and pajama shorts too ! Thank you!'\n",
    "sentiment = client.Sentiment({'text': text})\n",
    "print(sentiment)"
   ]
  },
  {
   "cell_type": "code",
   "execution_count": 153,
   "metadata": {
    "collapsed": true
   },
   "outputs": [],
   "source": [
    "text = comment_wo_response['comment_content'][3:4].values\n",
    "sentiment = client.Sentiment({'text':text})\n"
   ]
  },
  {
   "cell_type": "code",
   "execution_count": 154,
   "metadata": {},
   "outputs": [
    {
     "data": {
      "text/plain": [
       "dict_values(['negative', 'subjective', \"['so sad, yet another pattern not big enough for this fat girl :(']\", 0.9630195498466492, 0.9999999999999851])"
      ]
     },
     "execution_count": 154,
     "metadata": {},
     "output_type": "execute_result"
    }
   ],
   "source": [
    "sentiment.values()"
   ]
  },
  {
   "cell_type": "code",
   "execution_count": 155,
   "metadata": {},
   "outputs": [
    {
     "data": {
      "text/plain": [
       "'negative'"
      ]
     },
     "execution_count": 155,
     "metadata": {},
     "output_type": "execute_result"
    }
   ],
   "source": [
    "sentiment['polarity']"
   ]
  },
  {
   "cell_type": "code",
   "execution_count": 156,
   "metadata": {},
   "outputs": [
    {
     "name": "stdout",
     "output_type": "stream",
     "text": [
      "['__add__', '__class__', '__contains__', '__delattr__', '__dir__', '__doc__', '__eq__', '__format__', '__ge__', '__getattribute__', '__getitem__', '__getnewargs__', '__gt__', '__hash__', '__init__', '__init_subclass__', '__iter__', '__le__', '__len__', '__lt__', '__mod__', '__mul__', '__ne__', '__new__', '__reduce__', '__reduce_ex__', '__repr__', '__rmod__', '__rmul__', '__setattr__', '__sizeof__', '__str__', '__subclasshook__', 'capitalize', 'casefold', 'center', 'count', 'encode', 'endswith', 'expandtabs', 'find', 'format', 'format_map', 'index', 'isalnum', 'isalpha', 'isdecimal', 'isdigit', 'isidentifier', 'islower', 'isnumeric', 'isprintable', 'isspace', 'istitle', 'isupper', 'join', 'ljust', 'lower', 'lstrip', 'maketrans', 'partition', 'replace', 'rfind', 'rindex', 'rjust', 'rpartition', 'rsplit', 'rstrip', 'split', 'splitlines', 'startswith', 'strip', 'swapcase', 'title', 'translate', 'upper', 'zfill']\n"
     ]
    }
   ],
   "source": [
    "print(dir(comment_wo_response['comment_content'][0]))"
   ]
  },
  {
   "cell_type": "code",
   "execution_count": 157,
   "metadata": {
    "collapsed": true
   },
   "outputs": [],
   "source": [
    "# create df with sentiment dictionary\n",
    "\n",
    "text = comment_wo_response['comment_content']\n",
    "sentiment = client.Sentiment({'text':text})"
   ]
  },
  {
   "cell_type": "code",
   "execution_count": 158,
   "metadata": {},
   "outputs": [
    {
     "data": {
      "text/plain": [
       "dict_values(['positive', 'subjective', \"0        These are fantastic! I have been looking for s...\\n1        Oh these are lovely. I love the tulip hem, I h...\\n2        Love these shorts!! This may be a silly questi...\\n3        so sad, yet another pattern not big enough for...\\n4        YES I am done with the gym!!! This year I&#39;...\\n6        Thanks for the pattern, I can&#39;t wait to ma...\\n7        This are so fantastic!  I want to make ten pai...\\n8        This is exactly the shorts pattern I have been...\\n9        That is so nice of you to Molly to reply to Je...\\n10       Ooo, another pattern added to my to-do list :)...\\n11       These shorts are fabulous.  I would love to ma...\\n12       Question! I have some pre-made bias tape I&#39...\\n15       These are fabulous. Great styling and great us...\\n16       Thanks so much for sharing this! Totally makin...\\n18       Thank you, thank you for doing this as a patte...\\n19       This is so exciting! So glad the pattern is av...\\n20       How do the ornaments attach to the tree? The k...\\n22       I am not completely clear about the difference...\\n25       Are the ornaments stitched by hand? Looking fo...\\n27       I love this shell &amp; would like to knit it....\\n28                          Beautiful work! Gorgeous yarn!\\n29       Love the detailing on this top.  I bet it drap...\\n30       Thank you so much for sharing this lovely patt...\\n31       This is a very exciting pattern I can&#39;t wa...\\n32       Dear Purlbee,<br/>I have opened your newslette...\\n33       I love this pattern and the yarn looks stunnin...\\n34       so pretty! Unfortunatly, my knitting skills ar...\\n35       Hi<br/><br/>love this top - what weight is the...\\n38       Laura - thank you so much for all the great al...\\n39                                          Very nice!  :)\\n                               ...                        \\n52724    I had to add 20 so I'll rip and se what kind o...\\n52725    Hi Purl Soho,\\\\r\\\\n\\\\r\\\\nI have searched everywher...\\n52726    Hi Jake, \\\\r\\\\n\\\\r\\\\nI am also interested in doing...\\n52729    Do you recommend/sell any particular hand wash...\\n52730    Hello,\\\\r\\\\nthanks for this great idea! I love i...\\n52731    Is there a plant based yarn that could be used...\\n52733    Does casting this on the opposite way of the c...\\n52737    Wish you had a matching scarf! I’m teying to f...\\n52739    Am just about to start skein #5 and I had to w...\\n52740                                  Thank you!\\\\r\\\\nLaura\\n52741    Hi, this is my first attempt at a sweater. My ...\\n52743           thanks, carly\\\\r\\\\n\\\\r\\\\nhave a good christmas\\n52750    If I were to use a heavy fingering weight (~4p...\\n52754    The facings look slightly rounded, as in not l...\\n52757                                  Thank you so much ?\\n52758    this pattern and yarn was the perfect travel p...\\n52760    You can adopt this pattern for straight needle...\\n52761    From an educator to the wonderful staff of Pur...\\n52763    Had grandson help with pattern and he got it d...\\n52765    I love this, but I'm not sure how to add the n...\\n52768    I finished the wrap in seed stitch in  Smoke a...\\n52769    dows you stitch count change when being blocke...\\n52770    Hi,  \\\\r\\\\nI would prefer to have the seed stitc...\\n52771    Love the pattern—are there any yarns on sale i...\\n52782                                   Great - thank you!\\n52790    Still one of the sweetest and simplest pattern...\\n52794    I am nearly done making this scarf and can't w...\\n52796    I LOVE this wrap!  And I have a friend who has...\\n52800    Mmm....it just looks yummy ?.\\\\r\\\\nIs this  patt...\\n52817    Will my 5 skeins of Purl Soho Flax Down work w...\\nName: comment_content, Length: 35099, dtype: object\", 0.9989027976989746, 1.0])"
      ]
     },
     "execution_count": 158,
     "metadata": {},
     "output_type": "execute_result"
    }
   ],
   "source": [
    "sentiment.values()"
   ]
  },
  {
   "cell_type": "code",
   "execution_count": 159,
   "metadata": {
    "collapsed": true
   },
   "outputs": [],
   "source": [
    "def alyien_text(value):\n",
    "    text = value\n",
    "    sentiment = client.Sentiment({'text':text})\n",
    "    return sentiment\n",
    "    "
   ]
  },
  {
   "cell_type": "code",
   "execution_count": 160,
   "metadata": {},
   "outputs": [
    {
     "ename": "HttpError",
     "evalue": "<HttpError 429 when requesting https://api.aylien.com/api/v1/sentiment returned \"\">",
     "output_type": "error",
     "traceback": [
      "\u001b[0;31m---------------------------------------------------------------------------\u001b[0m",
      "\u001b[0;31mHttpError\u001b[0m                                 Traceback (most recent call last)",
      "\u001b[0;32m<ipython-input-160-7aad3747ed0d>\u001b[0m in \u001b[0;36m<module>\u001b[0;34m()\u001b[0m\n\u001b[1;32m      1\u001b[0m \u001b[0;31m# try to see how many request we can make\u001b[0m\u001b[0;34m\u001b[0m\u001b[0;34m\u001b[0m\u001b[0m\n\u001b[1;32m      2\u001b[0m \u001b[0mvalue\u001b[0m \u001b[0;34m=\u001b[0m \u001b[0mcomment_wo_response\u001b[0m\u001b[0;34m.\u001b[0m\u001b[0mcomment_content\u001b[0m\u001b[0;34m.\u001b[0m\u001b[0mvalues\u001b[0m\u001b[0;34m\u001b[0m\u001b[0m\n\u001b[0;32m----> 3\u001b[0;31m \u001b[0mcomment_wo_response\u001b[0m\u001b[0;34m[\u001b[0m\u001b[0;34m'alyien_analysis'\u001b[0m\u001b[0;34m]\u001b[0m \u001b[0;34m=\u001b[0m \u001b[0mcomment_wo_response\u001b[0m\u001b[0;34m.\u001b[0m\u001b[0mapply\u001b[0m\u001b[0;34m(\u001b[0m\u001b[0malyien_text\u001b[0m\u001b[0;34m,\u001b[0m \u001b[0maxis\u001b[0m\u001b[0;34m=\u001b[0m\u001b[0;36m1\u001b[0m\u001b[0;34m)\u001b[0m\u001b[0;34m\u001b[0m\u001b[0m\n\u001b[0m",
      "\u001b[0;32m~/anaconda3/lib/python3.6/site-packages/pandas/core/frame.py\u001b[0m in \u001b[0;36mapply\u001b[0;34m(self, func, axis, broadcast, raw, reduce, args, **kwds)\u001b[0m\n\u001b[1;32m   4260\u001b[0m                         \u001b[0mf\u001b[0m\u001b[0;34m,\u001b[0m \u001b[0maxis\u001b[0m\u001b[0;34m,\u001b[0m\u001b[0;34m\u001b[0m\u001b[0m\n\u001b[1;32m   4261\u001b[0m                         \u001b[0mreduce\u001b[0m\u001b[0;34m=\u001b[0m\u001b[0mreduce\u001b[0m\u001b[0;34m,\u001b[0m\u001b[0;34m\u001b[0m\u001b[0m\n\u001b[0;32m-> 4262\u001b[0;31m                         ignore_failures=ignore_failures)\n\u001b[0m\u001b[1;32m   4263\u001b[0m             \u001b[0;32melse\u001b[0m\u001b[0;34m:\u001b[0m\u001b[0;34m\u001b[0m\u001b[0m\n\u001b[1;32m   4264\u001b[0m                 \u001b[0;32mreturn\u001b[0m \u001b[0mself\u001b[0m\u001b[0;34m.\u001b[0m\u001b[0m_apply_broadcast\u001b[0m\u001b[0;34m(\u001b[0m\u001b[0mf\u001b[0m\u001b[0;34m,\u001b[0m \u001b[0maxis\u001b[0m\u001b[0;34m)\u001b[0m\u001b[0;34m\u001b[0m\u001b[0m\n",
      "\u001b[0;32m~/anaconda3/lib/python3.6/site-packages/pandas/core/frame.py\u001b[0m in \u001b[0;36m_apply_standard\u001b[0;34m(self, func, axis, ignore_failures, reduce)\u001b[0m\n\u001b[1;32m   4356\u001b[0m             \u001b[0;32mtry\u001b[0m\u001b[0;34m:\u001b[0m\u001b[0;34m\u001b[0m\u001b[0m\n\u001b[1;32m   4357\u001b[0m                 \u001b[0;32mfor\u001b[0m \u001b[0mi\u001b[0m\u001b[0;34m,\u001b[0m \u001b[0mv\u001b[0m \u001b[0;32min\u001b[0m \u001b[0menumerate\u001b[0m\u001b[0;34m(\u001b[0m\u001b[0mseries_gen\u001b[0m\u001b[0;34m)\u001b[0m\u001b[0;34m:\u001b[0m\u001b[0;34m\u001b[0m\u001b[0m\n\u001b[0;32m-> 4358\u001b[0;31m                     \u001b[0mresults\u001b[0m\u001b[0;34m[\u001b[0m\u001b[0mi\u001b[0m\u001b[0;34m]\u001b[0m \u001b[0;34m=\u001b[0m \u001b[0mfunc\u001b[0m\u001b[0;34m(\u001b[0m\u001b[0mv\u001b[0m\u001b[0;34m)\u001b[0m\u001b[0;34m\u001b[0m\u001b[0m\n\u001b[0m\u001b[1;32m   4359\u001b[0m                     \u001b[0mkeys\u001b[0m\u001b[0;34m.\u001b[0m\u001b[0mappend\u001b[0m\u001b[0;34m(\u001b[0m\u001b[0mv\u001b[0m\u001b[0;34m.\u001b[0m\u001b[0mname\u001b[0m\u001b[0;34m)\u001b[0m\u001b[0;34m\u001b[0m\u001b[0m\n\u001b[1;32m   4360\u001b[0m             \u001b[0;32mexcept\u001b[0m \u001b[0mException\u001b[0m \u001b[0;32mas\u001b[0m \u001b[0me\u001b[0m\u001b[0;34m:\u001b[0m\u001b[0;34m\u001b[0m\u001b[0m\n",
      "\u001b[0;32m<ipython-input-159-5558dd055c1c>\u001b[0m in \u001b[0;36malyien_text\u001b[0;34m(value)\u001b[0m\n\u001b[1;32m      1\u001b[0m \u001b[0;32mdef\u001b[0m \u001b[0malyien_text\u001b[0m\u001b[0;34m(\u001b[0m\u001b[0mvalue\u001b[0m\u001b[0;34m)\u001b[0m\u001b[0;34m:\u001b[0m\u001b[0;34m\u001b[0m\u001b[0m\n\u001b[1;32m      2\u001b[0m     \u001b[0mtext\u001b[0m \u001b[0;34m=\u001b[0m \u001b[0mvalue\u001b[0m\u001b[0;34m\u001b[0m\u001b[0m\n\u001b[0;32m----> 3\u001b[0;31m     \u001b[0msentiment\u001b[0m \u001b[0;34m=\u001b[0m \u001b[0mclient\u001b[0m\u001b[0;34m.\u001b[0m\u001b[0mSentiment\u001b[0m\u001b[0;34m(\u001b[0m\u001b[0;34m{\u001b[0m\u001b[0;34m'text'\u001b[0m\u001b[0;34m:\u001b[0m\u001b[0mtext\u001b[0m\u001b[0;34m}\u001b[0m\u001b[0;34m)\u001b[0m\u001b[0;34m\u001b[0m\u001b[0m\n\u001b[0m\u001b[1;32m      4\u001b[0m     \u001b[0;32mreturn\u001b[0m \u001b[0msentiment\u001b[0m\u001b[0;34m\u001b[0m\u001b[0m\n\u001b[1;32m      5\u001b[0m \u001b[0;34m\u001b[0m\u001b[0m\n",
      "\u001b[0;32m~/anaconda3/lib/python3.6/site-packages/aylienapiclient/textapi.py\u001b[0m in \u001b[0;36mSentiment\u001b[0;34m(self, options)\u001b[0m\n\u001b[1;32m    412\u001b[0m       \u001b[0;32mraise\u001b[0m \u001b[0mMissingParameterError\u001b[0m\u001b[0;34m(\u001b[0m\u001b[0;34m'You must either provide url or text'\u001b[0m\u001b[0;34m)\u001b[0m\u001b[0;34m\u001b[0m\u001b[0m\n\u001b[1;32m    413\u001b[0m \u001b[0;34m\u001b[0m\u001b[0m\n\u001b[0;32m--> 414\u001b[0;31m     \u001b[0mresponse\u001b[0m \u001b[0;34m=\u001b[0m \u001b[0mself\u001b[0m\u001b[0;34m.\u001b[0m\u001b[0m_executeRequest\u001b[0m\u001b[0;34m(\u001b[0m\u001b[0;34m'sentiment'\u001b[0m\u001b[0;34m,\u001b[0m \u001b[0moptions\u001b[0m\u001b[0;34m)\u001b[0m\u001b[0;34m\u001b[0m\u001b[0m\n\u001b[0m\u001b[1;32m    415\u001b[0m \u001b[0;34m\u001b[0m\u001b[0m\n\u001b[1;32m    416\u001b[0m     \u001b[0;32mreturn\u001b[0m \u001b[0mresponse\u001b[0m\u001b[0;34m\u001b[0m\u001b[0m\n",
      "\u001b[0;32m~/anaconda3/lib/python3.6/site-packages/aylienapiclient/textapi.py\u001b[0m in \u001b[0;36m_executeRequest\u001b[0;34m(self, endpoint, params)\u001b[0m\n\u001b[1;32m    680\u001b[0m \u001b[0;34m\u001b[0m\u001b[0m\n\u001b[1;32m    681\u001b[0m     \u001b[0;32mif\u001b[0m \u001b[0mresponse\u001b[0m\u001b[0;34m.\u001b[0m\u001b[0mstatus\u001b[0m \u001b[0;34m>=\u001b[0m \u001b[0;36m300\u001b[0m\u001b[0;34m:\u001b[0m\u001b[0;34m\u001b[0m\u001b[0m\n\u001b[0;32m--> 682\u001b[0;31m       \u001b[0;32mraise\u001b[0m \u001b[0mHttpError\u001b[0m\u001b[0;34m(\u001b[0m\u001b[0mresponse\u001b[0m\u001b[0;34m,\u001b[0m \u001b[0mcontent\u001b[0m\u001b[0;34m,\u001b[0m \u001b[0muri\u001b[0m\u001b[0;34m=\u001b[0m\u001b[0mrequest\u001b[0m\u001b[0;34m.\u001b[0m\u001b[0muri\u001b[0m\u001b[0;34m)\u001b[0m\u001b[0;34m\u001b[0m\u001b[0m\n\u001b[0m\u001b[1;32m    683\u001b[0m \u001b[0;34m\u001b[0m\u001b[0m\n\u001b[1;32m    684\u001b[0m     \u001b[0;32mif\u001b[0m \u001b[0msys\u001b[0m\u001b[0;34m.\u001b[0m\u001b[0mversion_info\u001b[0m \u001b[0;34m>=\u001b[0m \u001b[0;34m(\u001b[0m\u001b[0;36m3\u001b[0m\u001b[0;34m,\u001b[0m \u001b[0;36m0\u001b[0m\u001b[0;34m)\u001b[0m\u001b[0;34m:\u001b[0m\u001b[0;34m\u001b[0m\u001b[0m\n",
      "\u001b[0;31mHttpError\u001b[0m: <HttpError 429 when requesting https://api.aylien.com/api/v1/sentiment returned \"\">"
     ]
    }
   ],
   "source": [
    "# try to see how many request we can make\n",
    "value = comment_wo_response.comment_content.values\n",
    "comment_wo_response['alyien_analysis'] = comment_wo_response.apply(alyien_text, axis=1)"
   ]
  },
  {
   "cell_type": "code",
   "execution_count": 161,
   "metadata": {
    "collapsed": true
   },
   "outputs": [],
   "source": [
    "# will use textblob instead for sentiment analysis\n",
    "from textblob import TextBlob\n",
    "import re\n",
    "\n",
    "comment = comment_wo_response.comment_content\n",
    "\n",
    "def clean_comment(comment):\n",
    "    return ' '.join(re.sub(\"(@[A-Za-z0-9]+)|([^0-9A-Za-z \\t])|(\\w+:\\/\\/\\S+)|(<[^>]*>)|(<br/>)|[\\n\\!\\@\\#\\$\\%\\^\\&\\*\\(\\)\\[\\]\\\n",
    "           {\\}\\;\\:\\,\\.\\/\\?\\|\\`\\_\\\\+\\\\\\=\\~\\-\\<\\>]\", \" \", comment).split())\n",
    "\n",
    "def sentiment_analysis(comment):\n",
    "    analysis = TextBlob(clean_comment(comment))\n",
    "    if analysis.sentiment.polarity > 0:\n",
    "        return 1\n",
    "    elif analysis.sentiment.polarity == 0:\n",
    "        return 0\n",
    "    else:\n",
    "        return -1\n"
   ]
  },
  {
   "cell_type": "code",
   "execution_count": 162,
   "metadata": {
    "collapsed": true
   },
   "outputs": [],
   "source": [
    "comment_wo_response['Sentiment'] = np.array([sentiment_analysis(comment) for comment in comment_wo_response.comment_content])"
   ]
  },
  {
   "cell_type": "code",
   "execution_count": 163,
   "metadata": {},
   "outputs": [
    {
     "data": {
      "text/plain": [
       " 1    28275\n",
       "-1     3771\n",
       " 0     3053\n",
       "Name: Sentiment, dtype: int64"
      ]
     },
     "execution_count": 163,
     "metadata": {},
     "output_type": "execute_result"
    }
   ],
   "source": [
    "comment_wo_response.Sentiment.value_counts()"
   ]
  },
  {
   "cell_type": "code",
   "execution_count": 164,
   "metadata": {
    "collapsed": true
   },
   "outputs": [],
   "source": [
    "# find the true polarity value\n",
    "comment = comment_wo_response.comment_content\n",
    "\n",
    "def clean_comment(comment):\n",
    "    return ' '.join(re.sub(\"r'(@[A-Za-z0-9]+)|([^0-9A-Za-z \\t])|(\\w+:\\/\\/\\S+)|(<[^>]*>)|(<br/>)|[\\n\\!\\@\\#\\$\\%\\^\\&\\*\\(\\)\\[\\]\\\n",
    "           {\\}\\;\\:\\,\\.\\/\\?\\|\\`\\_\\\\+\\\\\\=\\~\\-\\<\\>]\", \" \", comment).split())\n",
    "\n",
    "def sentiment_analysis(comment):\n",
    "    analysis = TextBlob(clean_comment(comment))\n",
    "    return analysis.sentiment.polarity\n",
    "    \n"
   ]
  },
  {
   "cell_type": "code",
   "execution_count": 265,
   "metadata": {},
   "outputs": [
    {
     "data": {
      "text/plain": [
       "0        These are fantastic! I have been looking for s...\n",
       "1        Oh these are lovely. I love the tulip hem, I h...\n",
       "2        Love these shorts!! This may be a silly questi...\n",
       "3        so sad, yet another pattern not big enough for...\n",
       "4        YES I am done with the gym!!! This year I&#39;...\n",
       "6        Thanks for the pattern, I can&#39;t wait to ma...\n",
       "7        This are so fantastic!  I want to make ten pai...\n",
       "8        This is exactly the shorts pattern I have been...\n",
       "9        That is so nice of you to Molly to reply to Je...\n",
       "10       Ooo, another pattern added to my to-do list :)...\n",
       "11       These shorts are fabulous.  I would love to ma...\n",
       "12       Question! I have some pre-made bias tape I&#39...\n",
       "15       These are fabulous. Great styling and great us...\n",
       "16       Thanks so much for sharing this! Totally makin...\n",
       "18       Thank you, thank you for doing this as a patte...\n",
       "19       This is so exciting! So glad the pattern is av...\n",
       "20       How do the ornaments attach to the tree? The k...\n",
       "22       I am not completely clear about the difference...\n",
       "25       Are the ornaments stitched by hand? Looking fo...\n",
       "27       I love this shell &amp; would like to knit it....\n",
       "28                          Beautiful work! Gorgeous yarn!\n",
       "29       Love the detailing on this top.  I bet it drap...\n",
       "30       Thank you so much for sharing this lovely patt...\n",
       "31       This is a very exciting pattern I can&#39;t wa...\n",
       "32       Dear Purlbee,<br/>I have opened your newslette...\n",
       "33       I love this pattern and the yarn looks stunnin...\n",
       "34       so pretty! Unfortunatly, my knitting skills ar...\n",
       "35       Hi<br/><br/>love this top - what weight is the...\n",
       "38       Laura - thank you so much for all the great al...\n",
       "39                                          Very nice!  :)\n",
       "                               ...                        \n",
       "52724    I had to add 20 so I'll rip and se what kind o...\n",
       "52725    Hi Purl Soho,\\r\\n\\r\\nI have searched everywher...\n",
       "52726    Hi Jake, \\r\\n\\r\\nI am also interested in doing...\n",
       "52729    Do you recommend/sell any particular hand wash...\n",
       "52730    Hello,\\r\\nthanks for this great idea! I love i...\n",
       "52731    Is there a plant based yarn that could be used...\n",
       "52733    Does casting this on the opposite way of the c...\n",
       "52737    Wish you had a matching scarf! I’m teying to f...\n",
       "52739    Am just about to start skein #5 and I had to w...\n",
       "52740                                  Thank you!\\r\\nLaura\n",
       "52741    Hi, this is my first attempt at a sweater. My ...\n",
       "52743           thanks, carly\\r\\n\\r\\nhave a good christmas\n",
       "52750    If I were to use a heavy fingering weight (~4p...\n",
       "52754    The facings look slightly rounded, as in not l...\n",
       "52757                                  Thank you so much ?\n",
       "52758    this pattern and yarn was the perfect travel p...\n",
       "52760    You can adopt this pattern for straight needle...\n",
       "52761    From an educator to the wonderful staff of Pur...\n",
       "52763    Had grandson help with pattern and he got it d...\n",
       "52765    I love this, but I'm not sure how to add the n...\n",
       "52768    I finished the wrap in seed stitch in  Smoke a...\n",
       "52769    dows you stitch count change when being blocke...\n",
       "52770    Hi,  \\r\\nI would prefer to have the seed stitc...\n",
       "52771    Love the pattern—are there any yarns on sale i...\n",
       "52782                                   Great - thank you!\n",
       "52790    Still one of the sweetest and simplest pattern...\n",
       "52794    I am nearly done making this scarf and can't w...\n",
       "52796    I LOVE this wrap!  And I have a friend who has...\n",
       "52800    Mmm....it just looks yummy ?.\\r\\nIs this  patt...\n",
       "52817    Will my 5 skeins of Purl Soho Flax Down work w...\n",
       "Name: comment_content, Length: 35099, dtype: object"
      ]
     },
     "execution_count": 265,
     "metadata": {},
     "output_type": "execute_result"
    }
   ],
   "source": [
    "comment"
   ]
  },
  {
   "cell_type": "code",
   "execution_count": 165,
   "metadata": {
    "collapsed": true
   },
   "outputs": [],
   "source": [
    "comment_wo_response['Sentiment_values'] = np.array([sentiment_analysis(comment) for comment in comment_wo_response.comment_content])"
   ]
  },
  {
   "cell_type": "code",
   "execution_count": 166,
   "metadata": {},
   "outputs": [
    {
     "data": {
      "text/html": [
       "<div>\n",
       "<style>\n",
       "    .dataframe thead tr:only-child th {\n",
       "        text-align: right;\n",
       "    }\n",
       "\n",
       "    .dataframe thead th {\n",
       "        text-align: left;\n",
       "    }\n",
       "\n",
       "    .dataframe tbody tr th {\n",
       "        vertical-align: top;\n",
       "    }\n",
       "</style>\n",
       "<table border=\"1\" class=\"dataframe\">\n",
       "  <thead>\n",
       "    <tr style=\"text-align: right;\">\n",
       "      <th></th>\n",
       "      <th>comment_ID</th>\n",
       "      <th>comment_post_ID</th>\n",
       "      <th>comment_author</th>\n",
       "      <th>comment_author_email</th>\n",
       "      <th>comment_author_url</th>\n",
       "      <th>comment_author_IP</th>\n",
       "      <th>comment_date</th>\n",
       "      <th>comment_date_gmt</th>\n",
       "      <th>comment_content</th>\n",
       "      <th>comment_approved</th>\n",
       "      <th>Sentiment</th>\n",
       "      <th>Sentiment_values</th>\n",
       "    </tr>\n",
       "  </thead>\n",
       "  <tbody>\n",
       "    <tr>\n",
       "      <th>0</th>\n",
       "      <td>2</td>\n",
       "      <td>23</td>\n",
       "      <td>emily p</td>\n",
       "      <td></td>\n",
       "      <td></td>\n",
       "      <td>70.44.66.3</td>\n",
       "      <td>2014-07-24 12:54:46</td>\n",
       "      <td>2014-07-24 12:54:46</td>\n",
       "      <td>These are fantastic! I have been looking for s...</td>\n",
       "      <td>1</td>\n",
       "      <td>1</td>\n",
       "      <td>0.400000</td>\n",
       "    </tr>\n",
       "    <tr>\n",
       "      <th>1</th>\n",
       "      <td>3</td>\n",
       "      <td>23</td>\n",
       "      <td>Lena</td>\n",
       "      <td>lena.mumen@gmail.com</td>\n",
       "      <td>http://www.mrsgarlichead.com</td>\n",
       "      <td>85.1.237.251</td>\n",
       "      <td>2014-07-24 13:24:02</td>\n",
       "      <td>2014-07-24 13:24:02</td>\n",
       "      <td>Oh these are lovely. I love the tulip hem, I h...</td>\n",
       "      <td>1</td>\n",
       "      <td>1</td>\n",
       "      <td>0.375000</td>\n",
       "    </tr>\n",
       "    <tr>\n",
       "      <th>2</th>\n",
       "      <td>4</td>\n",
       "      <td>23</td>\n",
       "      <td>Katie</td>\n",
       "      <td></td>\n",
       "      <td></td>\n",
       "      <td>72.198.169.59</td>\n",
       "      <td>2014-07-24 15:33:46</td>\n",
       "      <td>2014-07-24 15:33:46</td>\n",
       "      <td>Love these shorts!! This may be a silly questi...</td>\n",
       "      <td>1</td>\n",
       "      <td>1</td>\n",
       "      <td>0.166667</td>\n",
       "    </tr>\n",
       "    <tr>\n",
       "      <th>3</th>\n",
       "      <td>5</td>\n",
       "      <td>23</td>\n",
       "      <td>jessica</td>\n",
       "      <td></td>\n",
       "      <td></td>\n",
       "      <td>76.114.88.227</td>\n",
       "      <td>2014-07-24 15:46:05</td>\n",
       "      <td>2014-07-24 15:46:05</td>\n",
       "      <td>so sad, yet another pattern not big enough for...</td>\n",
       "      <td>1</td>\n",
       "      <td>-1</td>\n",
       "      <td>-0.166667</td>\n",
       "    </tr>\n",
       "    <tr>\n",
       "      <th>4</th>\n",
       "      <td>6</td>\n",
       "      <td>23</td>\n",
       "      <td>Margo, Thrift at Home</td>\n",
       "      <td>thriftathome@gmail.com</td>\n",
       "      <td>http://thriftathome.blogspot.com</td>\n",
       "      <td>108.55.66.48</td>\n",
       "      <td>2014-07-24 18:19:31</td>\n",
       "      <td>2014-07-24 18:19:31</td>\n",
       "      <td>YES I am done with the gym!!! This year I&amp;#39;...</td>\n",
       "      <td>1</td>\n",
       "      <td>0</td>\n",
       "      <td>0.000000</td>\n",
       "    </tr>\n",
       "    <tr>\n",
       "      <th>6</th>\n",
       "      <td>8</td>\n",
       "      <td>23</td>\n",
       "      <td>Tina</td>\n",
       "      <td></td>\n",
       "      <td>http://othersideofthepom.blogspot.com</td>\n",
       "      <td>129.85.144.49</td>\n",
       "      <td>2014-07-24 22:34:55</td>\n",
       "      <td>2014-07-24 22:34:55</td>\n",
       "      <td>Thanks for the pattern, I can&amp;#39;t wait to ma...</td>\n",
       "      <td>1</td>\n",
       "      <td>1</td>\n",
       "      <td>0.333333</td>\n",
       "    </tr>\n",
       "    <tr>\n",
       "      <th>7</th>\n",
       "      <td>9</td>\n",
       "      <td>23</td>\n",
       "      <td>CW</td>\n",
       "      <td>clarawey@ptd.net</td>\n",
       "      <td></td>\n",
       "      <td>24.102.229.143</td>\n",
       "      <td>2014-07-24 23:05:08</td>\n",
       "      <td>2014-07-24 23:05:08</td>\n",
       "      <td>This are so fantastic!  I want to make ten pai...</td>\n",
       "      <td>1</td>\n",
       "      <td>1</td>\n",
       "      <td>0.085714</td>\n",
       "    </tr>\n",
       "    <tr>\n",
       "      <th>8</th>\n",
       "      <td>10</td>\n",
       "      <td>23</td>\n",
       "      <td>Cyrena</td>\n",
       "      <td></td>\n",
       "      <td></td>\n",
       "      <td>70.67.140.53</td>\n",
       "      <td>2014-07-24 23:58:47</td>\n",
       "      <td>2014-07-24 23:58:47</td>\n",
       "      <td>This is exactly the shorts pattern I have been...</td>\n",
       "      <td>1</td>\n",
       "      <td>1</td>\n",
       "      <td>0.412500</td>\n",
       "    </tr>\n",
       "    <tr>\n",
       "      <th>9</th>\n",
       "      <td>11</td>\n",
       "      <td>23</td>\n",
       "      <td>Cheryl</td>\n",
       "      <td></td>\n",
       "      <td></td>\n",
       "      <td>99.247.66.91</td>\n",
       "      <td>2014-07-24 23:59:00</td>\n",
       "      <td>2014-07-25 03:59:00</td>\n",
       "      <td>That is so nice of you to Molly to reply to Je...</td>\n",
       "      <td>1</td>\n",
       "      <td>1</td>\n",
       "      <td>0.527500</td>\n",
       "    </tr>\n",
       "    <tr>\n",
       "      <th>10</th>\n",
       "      <td>12</td>\n",
       "      <td>23</td>\n",
       "      <td>Ashley</td>\n",
       "      <td>ad.drudge@gmail.com</td>\n",
       "      <td>http://evergreenliving.ca</td>\n",
       "      <td>209.197.161.101</td>\n",
       "      <td>2014-07-25 01:31:48</td>\n",
       "      <td>2014-07-25 05:31:48</td>\n",
       "      <td>Ooo, another pattern added to my to-do list :)...</td>\n",
       "      <td>1</td>\n",
       "      <td>1</td>\n",
       "      <td>0.200000</td>\n",
       "    </tr>\n",
       "  </tbody>\n",
       "</table>\n",
       "</div>"
      ],
      "text/plain": [
       "    comment_ID  comment_post_ID         comment_author  \\\n",
       "0            2               23                emily p   \n",
       "1            3               23                   Lena   \n",
       "2            4               23                  Katie   \n",
       "3            5               23                jessica   \n",
       "4            6               23  Margo, Thrift at Home   \n",
       "6            8               23                   Tina   \n",
       "7            9               23                     CW   \n",
       "8           10               23                 Cyrena   \n",
       "9           11               23                 Cheryl   \n",
       "10          12               23                 Ashley   \n",
       "\n",
       "      comment_author_email                     comment_author_url  \\\n",
       "0                                                                   \n",
       "1     lena.mumen@gmail.com           http://www.mrsgarlichead.com   \n",
       "2                                                                   \n",
       "3                                                                   \n",
       "4   thriftathome@gmail.com       http://thriftathome.blogspot.com   \n",
       "6                           http://othersideofthepom.blogspot.com   \n",
       "7         clarawey@ptd.net                                          \n",
       "8                                                                   \n",
       "9                                                                   \n",
       "10     ad.drudge@gmail.com              http://evergreenliving.ca   \n",
       "\n",
       "   comment_author_IP        comment_date    comment_date_gmt  \\\n",
       "0         70.44.66.3 2014-07-24 12:54:46 2014-07-24 12:54:46   \n",
       "1       85.1.237.251 2014-07-24 13:24:02 2014-07-24 13:24:02   \n",
       "2      72.198.169.59 2014-07-24 15:33:46 2014-07-24 15:33:46   \n",
       "3      76.114.88.227 2014-07-24 15:46:05 2014-07-24 15:46:05   \n",
       "4       108.55.66.48 2014-07-24 18:19:31 2014-07-24 18:19:31   \n",
       "6      129.85.144.49 2014-07-24 22:34:55 2014-07-24 22:34:55   \n",
       "7     24.102.229.143 2014-07-24 23:05:08 2014-07-24 23:05:08   \n",
       "8       70.67.140.53 2014-07-24 23:58:47 2014-07-24 23:58:47   \n",
       "9       99.247.66.91 2014-07-24 23:59:00 2014-07-25 03:59:00   \n",
       "10   209.197.161.101 2014-07-25 01:31:48 2014-07-25 05:31:48   \n",
       "\n",
       "                                      comment_content comment_approved  \\\n",
       "0   These are fantastic! I have been looking for s...                1   \n",
       "1   Oh these are lovely. I love the tulip hem, I h...                1   \n",
       "2   Love these shorts!! This may be a silly questi...                1   \n",
       "3   so sad, yet another pattern not big enough for...                1   \n",
       "4   YES I am done with the gym!!! This year I&#39;...                1   \n",
       "6   Thanks for the pattern, I can&#39;t wait to ma...                1   \n",
       "7   This are so fantastic!  I want to make ten pai...                1   \n",
       "8   This is exactly the shorts pattern I have been...                1   \n",
       "9   That is so nice of you to Molly to reply to Je...                1   \n",
       "10  Ooo, another pattern added to my to-do list :)...                1   \n",
       "\n",
       "    Sentiment  Sentiment_values  \n",
       "0           1          0.400000  \n",
       "1           1          0.375000  \n",
       "2           1          0.166667  \n",
       "3          -1         -0.166667  \n",
       "4           0          0.000000  \n",
       "6           1          0.333333  \n",
       "7           1          0.085714  \n",
       "8           1          0.412500  \n",
       "9           1          0.527500  \n",
       "10          1          0.200000  "
      ]
     },
     "execution_count": 166,
     "metadata": {},
     "output_type": "execute_result"
    }
   ],
   "source": [
    "comment_wo_response.head(10)"
   ]
  },
  {
   "cell_type": "code",
   "execution_count": 167,
   "metadata": {},
   "outputs": [
    {
     "data": {
      "text/plain": [
       "count    35099.000000\n",
       "mean         0.233644\n",
       "std          0.234337\n",
       "min         -1.000000\n",
       "25%          0.058333\n",
       "50%          0.209524\n",
       "75%          0.380000\n",
       "max          1.000000\n",
       "Name: Sentiment_values, dtype: float64"
      ]
     },
     "execution_count": 167,
     "metadata": {},
     "output_type": "execute_result"
    }
   ],
   "source": [
    "comment_wo_response.Sentiment_values.describe()"
   ]
  },
  {
   "cell_type": "code",
   "execution_count": 169,
   "metadata": {},
   "outputs": [
    {
     "data": {
      "text/plain": [
       "<matplotlib.axes._subplots.AxesSubplot at 0x1a243f76a0>"
      ]
     },
     "execution_count": 169,
     "metadata": {},
     "output_type": "execute_result"
    },
    {
     "data": {
      "image/png": "[encoded data removed]",
      "text/plain": [
       "<matplotlib.figure.Figure at 0x1a26521208>"
      ]
     },
     "metadata": {},
     "output_type": "display_data"
    }
   ],
   "source": [
    "# plotting distribution sentiment for each comment\n",
    "comment_wo_response.Sentiment_values.hist(bins=50)"
   ]
  },
  {
   "cell_type": "code",
   "execution_count": 170,
   "metadata": {
    "collapsed": true
   },
   "outputs": [],
   "source": [
    "# find the average length of each comment\n",
    "mean = np.mean(comment_wo_response.comment_content.str.len())"
   ]
  },
  {
   "cell_type": "code",
   "execution_count": 171,
   "metadata": {},
   "outputs": [
    {
     "name": "stdout",
     "output_type": "stream",
     "text": [
      "The length's average for each comment: 207.48408786575115\n"
     ]
    }
   ],
   "source": [
    "print(\"The length's average for each comment: {}\".format(mean))"
   ]
  },
  {
   "cell_type": "code",
   "execution_count": 172,
   "metadata": {
    "collapsed": true
   },
   "outputs": [],
   "source": [
    "dist = comment_wo_response.comment_content.describe()"
   ]
  },
  {
   "cell_type": "code",
   "execution_count": 173,
   "metadata": {},
   "outputs": [
    {
     "name": "stdout",
     "output_type": "stream",
     "text": [
      "The distribution is: count          35099\n",
      "unique         34785\n",
      "top       Thank you!\n",
      "freq              37\n",
      "Name: comment_content, dtype: object\n"
     ]
    }
   ],
   "source": [
    "print('The distribution is: {}'.format(dist))"
   ]
  },
  {
   "cell_type": "code",
   "execution_count": 174,
   "metadata": {
    "collapsed": true
   },
   "outputs": [],
   "source": [
    "# word cloud: \n",
    "\n",
    "import matplotlib.pyplot as plt\n",
    "% matplotlib inline\n",
    "from wordcloud import WordCloud, STOPWORDS"
   ]
  },
  {
   "cell_type": "code",
   "execution_count": 175,
   "metadata": {},
   "outputs": [
    {
     "data": {
      "image/png": "[encoded data removed]",
      "text/plain": [
       "<matplotlib.figure.Figure at 0x1a25ae5da0>"
      ]
     },
     "metadata": {},
     "output_type": "display_data"
    },
    {
     "data": {
      "image/png": "[encoded data removed]",
      "text/plain": [
       "<matplotlib.figure.Figure at 0x1a26592240>"
      ]
     },
     "metadata": {},
     "output_type": "display_data"
    }
   ],
   "source": [
    "data = comment.to_string()\n",
    "\n",
    "stopwords = set(STOPWORDS)\n",
    "stopwords.add(\"br\")\n",
    "\n",
    "wordcloud = WordCloud(stopwords=stopwords).generate(data)\n",
    "\n",
    "plt.imshow(wordcloud, interpolation='bilinear')\n",
    "plt.axis('off')\n",
    "\n",
    "wordcloud = WordCloud(max_font_size=40, stopwords=stopwords).generate(data)\n",
    "plt.figure()\n",
    "plt.imshow(wordcloud, interpolation='bilinear')\n",
    "plt.axis('off')\n",
    "plt.show()"
   ]
  },
  {
   "cell_type": "code",
   "execution_count": 176,
   "metadata": {},
   "outputs": [
    {
     "name": "stdout",
     "output_type": "stream",
     "text": [
      "<class 'pandas.core.frame.DataFrame'>\n",
      "Int64Index: 35099 entries, 0 to 52817\n",
      "Data columns (total 12 columns):\n",
      "comment_ID              35099 non-null int64\n",
      "comment_post_ID         35099 non-null int64\n",
      "comment_author          35099 non-null object\n",
      "comment_author_email    35099 non-null object\n",
      "comment_author_url      35099 non-null object\n",
      "comment_author_IP       35099 non-null object\n",
      "comment_date            34960 non-null datetime64[ns]\n",
      "comment_date_gmt        34958 non-null datetime64[ns]\n",
      "comment_content         35099 non-null object\n",
      "comment_approved        35099 non-null object\n",
      "Sentiment               35099 non-null int64\n",
      "Sentiment_values        35099 non-null float64\n",
      "dtypes: datetime64[ns](2), float64(1), int64(3), object(6)\n",
      "memory usage: 4.7+ MB\n"
     ]
    }
   ],
   "source": [
    "comment_wo_response.info()"
   ]
  },
  {
   "cell_type": "code",
   "execution_count": 187,
   "metadata": {},
   "outputs": [
    {
     "data": {
      "image/png": "[encoded data removed]",
      "text/plain": [
       "<matplotlib.figure.Figure at 0x1a2b3485f8>"
      ]
     },
     "metadata": {},
     "output_type": "display_data"
    },
    {
     "data": {
      "image/png": "[encoded data removed]",
      "text/plain": [
       "<matplotlib.figure.Figure at 0x1a29d39160>"
      ]
     },
     "metadata": {},
     "output_type": "display_data"
    }
   ],
   "source": [
    "# word cloud for positvie and negative sentiments\n",
    "\n",
    "# positive  \n",
    "\n",
    "data = comment_wo_response[comment_wo_response['Sentiment_values'] >= 0.5].to_string()\n",
    "\n",
    "stopwords = set(STOPWORDS)\n",
    "stopwords.add('gmail')\n",
    "stopwords.add('br')\n",
    "stopwords.add('yahoo')\n",
    "stopwords.add('comcast')\n",
    "stopwords.add('hotmail')\n",
    "stopwords.add('blogspot')\n",
    "stopwords.add(\"aol\")\n",
    "\n",
    "\n",
    "\n",
    "wordcloud = WordCloud(stopwords=stopwords).generate(data)\n",
    "\n",
    "plt.imshow(wordcloud, interpolation='bilinear')\n",
    "plt.axis('off')\n",
    "\n",
    "wordcloud = WordCloud(max_font_size=40, stopwords=stopwords).generate(data)\n",
    "plt.figure()\n",
    "plt.imshow(wordcloud, interpolation='bilinear')\n",
    "plt.axis('off')\n",
    "plt.show()"
   ]
  },
  {
   "cell_type": "code",
   "execution_count": 188,
   "metadata": {},
   "outputs": [
    {
     "data": {
      "image/png": "[encoded data removed]",
      "text/plain": [
       "<matplotlib.figure.Figure at 0x1a25bff748>"
      ]
     },
     "metadata": {},
     "output_type": "display_data"
    },
    {
     "data": {
      "image/png": "[encoded data removed]",
      "text/plain": [
       "<matplotlib.figure.Figure at 0x1a24d13c18>"
      ]
     },
     "metadata": {},
     "output_type": "display_data"
    }
   ],
   "source": [
    "# negative\n",
    "# but need to keep working on this\n",
    "\n",
    "data = comment_wo_response[comment_wo_response['Sentiment_values'] < 0.4].to_string()\n",
    "\n",
    "stopwords = set(STOPWORDS)\n",
    "stopwords.add('gmail')\n",
    "stopwords.add('br')\n",
    "stopwords.add('yahoo')\n",
    "stopwords.add('comcast')\n",
    "stopwords.add('hotmail')\n",
    "stopwords.add('blogspot')\n",
    "stopwords.add(\"aol\")\n",
    "\n",
    "\n",
    "\n",
    "wordcloud = WordCloud(stopwords=stopwords).generate(data)\n",
    "\n",
    "plt.imshow(wordcloud, interpolation='bilinear')\n",
    "plt.axis('off')\n",
    "\n",
    "wordcloud = WordCloud(max_font_size=40, stopwords=stopwords).generate(data)\n",
    "plt.figure()\n",
    "plt.imshow(wordcloud, interpolation='bilinear')\n",
    "plt.axis('off')\n",
    "plt.show()"
   ]
  },
  {
   "cell_type": "code",
   "execution_count": 189,
   "metadata": {
    "collapsed": true
   },
   "outputs": [],
   "source": [
    "unique_email = comment_wo_response.comment_author_email.unique()"
   ]
  },
  {
   "cell_type": "code",
   "execution_count": 190,
   "metadata": {
    "collapsed": true
   },
   "outputs": [],
   "source": [
    "unique_ip = comment_wo_response.comment_author_IP.unique()"
   ]
  },
  {
   "cell_type": "code",
   "execution_count": 197,
   "metadata": {},
   "outputs": [
    {
     "data": {
      "text/plain": [
       "array(['70.44.66.3', '85.1.237.251', '72.198.169.59', ...,\n",
       "       '2601:41:c101:4832:d1b3:5f2c:59af:6d4d', '146.115.246.251',\n",
       "       '71.205.201.30'], dtype=object)"
      ]
     },
     "execution_count": 197,
     "metadata": {},
     "output_type": "execute_result"
    }
   ],
   "source": [
    "unique_ip.view()"
   ]
  },
  {
   "cell_type": "code",
   "execution_count": 191,
   "metadata": {},
   "outputs": [
    {
     "name": "stdout",
     "output_type": "stream",
     "text": [
      "/Users/tomasespina/Purl\r\n"
     ]
    }
   ],
   "source": [
    "!pwd"
   ]
  },
  {
   "cell_type": "code",
   "execution_count": 198,
   "metadata": {
    "collapsed": true
   },
   "outputs": [],
   "source": [
    "import pygeoip\n",
    "\n",
    "gi = pygeoip.GeoIP('GeoIP.dat')"
   ]
  },
  {
   "cell_type": "code",
   "execution_count": 199,
   "metadata": {},
   "outputs": [
    {
     "ename": "GeoIPError",
     "evalue": "Invalid database type; this database supports IPv4 addresses, not IPv6",
     "output_type": "error",
     "traceback": [
      "\u001b[0;31m---------------------------------------------------------------------------\u001b[0m",
      "\u001b[0;31mGeoIPError\u001b[0m                                Traceback (most recent call last)",
      "\u001b[0;32m<ipython-input-199-eabb03a87d96>\u001b[0m in \u001b[0;36m<module>\u001b[0;34m()\u001b[0m\n\u001b[0;32m----> 1\u001b[0;31m \u001b[0mgi\u001b[0m\u001b[0;34m.\u001b[0m\u001b[0mcountry_name_by_addr\u001b[0m\u001b[0;34m(\u001b[0m\u001b[0;34m'2601:41:c101:4832'\u001b[0m\u001b[0;34m)\u001b[0m\u001b[0;34m\u001b[0m\u001b[0m\n\u001b[0m",
      "\u001b[0;32m~/anaconda3/lib/python3.6/site-packages/pygeoip/__init__.py\u001b[0m in \u001b[0;36mcountry_name_by_addr\u001b[0;34m(self, addr)\u001b[0m\n\u001b[1;32m    486\u001b[0m         \u001b[0mVALID_EDITIONS\u001b[0m \u001b[0;34m=\u001b[0m \u001b[0;34m(\u001b[0m\u001b[0mconst\u001b[0m\u001b[0;34m.\u001b[0m\u001b[0mCOUNTRY_EDITION\u001b[0m\u001b[0;34m,\u001b[0m \u001b[0mconst\u001b[0m\u001b[0;34m.\u001b[0m\u001b[0mCOUNTRY_EDITION_V6\u001b[0m\u001b[0;34m)\u001b[0m\u001b[0;34m\u001b[0m\u001b[0m\n\u001b[1;32m    487\u001b[0m         \u001b[0;32mif\u001b[0m \u001b[0mself\u001b[0m\u001b[0;34m.\u001b[0m\u001b[0m_databaseType\u001b[0m \u001b[0;32min\u001b[0m \u001b[0mVALID_EDITIONS\u001b[0m\u001b[0;34m:\u001b[0m\u001b[0;34m\u001b[0m\u001b[0m\n\u001b[0;32m--> 488\u001b[0;31m             \u001b[0mcountry_id\u001b[0m \u001b[0;34m=\u001b[0m \u001b[0mself\u001b[0m\u001b[0;34m.\u001b[0m\u001b[0mid_by_addr\u001b[0m\u001b[0;34m(\u001b[0m\u001b[0maddr\u001b[0m\u001b[0;34m)\u001b[0m\u001b[0;34m\u001b[0m\u001b[0m\n\u001b[0m\u001b[1;32m    489\u001b[0m             \u001b[0;32mreturn\u001b[0m \u001b[0mconst\u001b[0m\u001b[0;34m.\u001b[0m\u001b[0mCOUNTRY_NAMES\u001b[0m\u001b[0;34m[\u001b[0m\u001b[0mcountry_id\u001b[0m\u001b[0;34m]\u001b[0m\u001b[0;34m\u001b[0m\u001b[0m\n\u001b[1;32m    490\u001b[0m         \u001b[0;32melif\u001b[0m \u001b[0mself\u001b[0m\u001b[0;34m.\u001b[0m\u001b[0m_databaseType\u001b[0m \u001b[0;32min\u001b[0m \u001b[0mconst\u001b[0m\u001b[0;34m.\u001b[0m\u001b[0mCITY_EDITIONS\u001b[0m\u001b[0;34m:\u001b[0m\u001b[0;34m\u001b[0m\u001b[0m\n",
      "\u001b[0;32m~/anaconda3/lib/python3.6/site-packages/pygeoip/__init__.py\u001b[0m in \u001b[0;36mid_by_addr\u001b[0;34m(self, addr)\u001b[0m\n\u001b[1;32m    417\u001b[0m             \u001b[0;32mraise\u001b[0m \u001b[0mGeoIPError\u001b[0m\u001b[0;34m(\u001b[0m\u001b[0;34m'Invalid database type; this database supports IPv6 addresses, not IPv4'\u001b[0m\u001b[0;34m)\u001b[0m\u001b[0;34m\u001b[0m\u001b[0m\n\u001b[1;32m    418\u001b[0m         \u001b[0;32mif\u001b[0m \u001b[0mipv\u001b[0m \u001b[0;34m==\u001b[0m \u001b[0;36m6\u001b[0m \u001b[0;32mand\u001b[0m \u001b[0mself\u001b[0m\u001b[0;34m.\u001b[0m\u001b[0m_databaseType\u001b[0m \u001b[0;34m!=\u001b[0m \u001b[0mconst\u001b[0m\u001b[0;34m.\u001b[0m\u001b[0mCOUNTRY_EDITION_V6\u001b[0m\u001b[0;34m:\u001b[0m\u001b[0;34m\u001b[0m\u001b[0m\n\u001b[0;32m--> 419\u001b[0;31m             \u001b[0;32mraise\u001b[0m \u001b[0mGeoIPError\u001b[0m\u001b[0;34m(\u001b[0m\u001b[0;34m'Invalid database type; this database supports IPv4 addresses, not IPv6'\u001b[0m\u001b[0;34m)\u001b[0m\u001b[0;34m\u001b[0m\u001b[0m\n\u001b[0m\u001b[1;32m    420\u001b[0m \u001b[0;34m\u001b[0m\u001b[0m\n\u001b[1;32m    421\u001b[0m         \u001b[0mipnum\u001b[0m \u001b[0;34m=\u001b[0m \u001b[0mutil\u001b[0m\u001b[0;34m.\u001b[0m\u001b[0mip2long\u001b[0m\u001b[0;34m(\u001b[0m\u001b[0maddr\u001b[0m\u001b[0;34m)\u001b[0m\u001b[0;34m\u001b[0m\u001b[0m\n",
      "\u001b[0;31mGeoIPError\u001b[0m: Invalid database type; this database supports IPv4 addresses, not IPv6"
     ]
    }
   ],
   "source": [
    "gi.country_name_by_addr('2601:41:c101:4832')"
   ]
  },
  {
   "cell_type": "code",
   "execution_count": 79,
   "metadata": {},
   "outputs": [
    {
     "data": {
      "text/plain": [
       "{'area_code': 610,\n",
       " 'city': 'Lehighton',\n",
       " 'continent': 'NA',\n",
       " 'country_code': 'US',\n",
       " 'country_code3': 'USA',\n",
       " 'country_name': 'United States',\n",
       " 'dma_code': 577,\n",
       " 'latitude': 40.79990000000001,\n",
       " 'longitude': -75.7339,\n",
       " 'metro_code': 'Wilkes Barre-Scranton, PA',\n",
       " 'postal_code': '18235',\n",
       " 'region_code': 'PA',\n",
       " 'time_zone': 'America/New_York'}"
      ]
     },
     "execution_count": 79,
     "metadata": {},
     "output_type": "execute_result"
    }
   ],
   "source": [
    "gic = pygeoip.GeoIP('GeoLiteCity.dat')\n",
    "gic.record_by_addr('70.44.66.3')"
   ]
  },
  {
   "cell_type": "code",
   "execution_count": 200,
   "metadata": {
    "collapsed": true
   },
   "outputs": [],
   "source": [
    "gic = pygeoip.GeoIP('GeoLiteCity.dat')\n",
    "gic.record_by_addr('127.0.0.1')\n"
   ]
  },
  {
   "cell_type": "code",
   "execution_count": 201,
   "metadata": {
    "collapsed": true
   },
   "outputs": [],
   "source": [
    "unique_ip = list(filter(None, unique_ip))\n"
   ]
  },
  {
   "cell_type": "code",
   "execution_count": 203,
   "metadata": {
    "collapsed": true
   },
   "outputs": [],
   "source": [
    "# we have get rid off empty ip address and IPv6 as it is not supported and would throw an error\n",
    "cleaned_ipv4 = [i for i in unique_ip if ':' not in i]"
   ]
  },
  {
   "cell_type": "code",
   "execution_count": 212,
   "metadata": {},
   "outputs": [
    {
     "data": {
      "text/plain": [
       "['70.44.66.3',\n",
       " '85.1.237.251',\n",
       " '72.198.169.59',\n",
       " '76.114.88.227',\n",
       " '108.55.66.48',\n",
       " '129.85.144.49',\n",
       " '24.102.229.143',\n",
       " '70.67.140.53',\n",
       " '99.247.66.91',\n",
       " '209.197.161.101']"
      ]
     },
     "execution_count": 212,
     "metadata": {},
     "output_type": "execute_result"
    }
   ],
   "source": [
    "cleaned_ipv4[:10]"
   ]
  },
  {
   "cell_type": "code",
   "execution_count": 213,
   "metadata": {
    "collapsed": true
   },
   "outputs": [],
   "source": [
    "cleaned_ipv4 = [i for i in unique_ip if 'unknown' not in i]"
   ]
  },
  {
   "cell_type": "code",
   "execution_count": 214,
   "metadata": {},
   "outputs": [
    {
     "data": {
      "text/plain": [
       "'72.28.211.128'"
      ]
     },
     "execution_count": 214,
     "metadata": {},
     "output_type": "execute_result"
    }
   ],
   "source": [
    "cleaned_ipv4[17536]"
   ]
  },
  {
   "cell_type": "code",
   "execution_count": 215,
   "metadata": {
    "collapsed": true
   },
   "outputs": [],
   "source": [
    "ipv4_df = pd.DataFrame()\n",
    "count = 0\n",
    "# trying to find out where the error is\n",
    "for i in cleaned_ipv4:\n",
    "    count += 1\n",
    "    ip = pd.DataFrame(gic.record_by_addr(i), index=[i])\n",
    "    ipv4_df = ipv4_df.append(ip)"
   ]
  },
  {
   "cell_type": "code",
   "execution_count": 216,
   "metadata": {},
   "outputs": [
    {
     "data": {
      "text/plain": [
       "24923"
      ]
     },
     "execution_count": 216,
     "metadata": {},
     "output_type": "execute_result"
    }
   ],
   "source": [
    "count\n"
   ]
  },
  {
   "cell_type": "code",
   "execution_count": 266,
   "metadata": {},
   "outputs": [
    {
     "data": {
      "text/html": [
       "<div>\n",
       "<style>\n",
       "    .dataframe thead tr:only-child th {\n",
       "        text-align: right;\n",
       "    }\n",
       "\n",
       "    .dataframe thead th {\n",
       "        text-align: left;\n",
       "    }\n",
       "\n",
       "    .dataframe tbody tr th {\n",
       "        vertical-align: top;\n",
       "    }\n",
       "</style>\n",
       "<table border=\"1\" class=\"dataframe\">\n",
       "  <thead>\n",
       "    <tr style=\"text-align: right;\">\n",
       "      <th></th>\n",
       "      <th>area_code</th>\n",
       "      <th>city</th>\n",
       "      <th>country_code</th>\n",
       "      <th>country_name</th>\n",
       "      <th>latitude</th>\n",
       "      <th>longitude</th>\n",
       "      <th>metro_code</th>\n",
       "      <th>postal_code</th>\n",
       "      <th>region_code</th>\n",
       "      <th>time_zone</th>\n",
       "    </tr>\n",
       "  </thead>\n",
       "  <tbody>\n",
       "    <tr>\n",
       "      <th>70.44.66.3</th>\n",
       "      <td>610.0</td>\n",
       "      <td>Lehighton</td>\n",
       "      <td>US</td>\n",
       "      <td>United States</td>\n",
       "      <td>40.7999</td>\n",
       "      <td>-75.7339</td>\n",
       "      <td>Wilkes Barre-Scranton, PA</td>\n",
       "      <td>18235</td>\n",
       "      <td>PA</td>\n",
       "      <td>America/New_York</td>\n",
       "    </tr>\n",
       "    <tr>\n",
       "      <th>85.1.237.251</th>\n",
       "      <td>0.0</td>\n",
       "      <td>Basel</td>\n",
       "      <td>CH</td>\n",
       "      <td>Switzerland</td>\n",
       "      <td>47.5584</td>\n",
       "      <td>7.5733</td>\n",
       "      <td>None</td>\n",
       "      <td>4057</td>\n",
       "      <td>04</td>\n",
       "      <td>Europe/Zurich</td>\n",
       "    </tr>\n",
       "    <tr>\n",
       "      <th>72.198.169.59</th>\n",
       "      <td>405.0</td>\n",
       "      <td>Oklahoma City</td>\n",
       "      <td>US</td>\n",
       "      <td>United States</td>\n",
       "      <td>35.5154</td>\n",
       "      <td>-97.5276</td>\n",
       "      <td>Oklahoma City, OK</td>\n",
       "      <td>73118</td>\n",
       "      <td>OK</td>\n",
       "      <td>America/Chicago</td>\n",
       "    </tr>\n",
       "    <tr>\n",
       "      <th>76.114.88.227</th>\n",
       "      <td>615.0</td>\n",
       "      <td>Hendersonville</td>\n",
       "      <td>US</td>\n",
       "      <td>United States</td>\n",
       "      <td>36.3479</td>\n",
       "      <td>-86.6005</td>\n",
       "      <td>Nashville, TN</td>\n",
       "      <td>37075</td>\n",
       "      <td>TN</td>\n",
       "      <td>America/Chicago</td>\n",
       "    </tr>\n",
       "    <tr>\n",
       "      <th>108.55.66.48</th>\n",
       "      <td>717.0</td>\n",
       "      <td>Lancaster</td>\n",
       "      <td>US</td>\n",
       "      <td>United States</td>\n",
       "      <td>40.0754</td>\n",
       "      <td>-76.3189</td>\n",
       "      <td>Harrisburg-Lancaster-Lebanon-York, PA</td>\n",
       "      <td>17601</td>\n",
       "      <td>PA</td>\n",
       "      <td>America/New_York</td>\n",
       "    </tr>\n",
       "  </tbody>\n",
       "</table>\n",
       "</div>"
      ],
      "text/plain": [
       "               area_code            city country_code   country_name  \\\n",
       "70.44.66.3         610.0       Lehighton           US  United States   \n",
       "85.1.237.251         0.0           Basel           CH    Switzerland   \n",
       "72.198.169.59      405.0   Oklahoma City           US  United States   \n",
       "76.114.88.227      615.0  Hendersonville           US  United States   \n",
       "108.55.66.48       717.0       Lancaster           US  United States   \n",
       "\n",
       "               latitude  longitude                             metro_code  \\\n",
       "70.44.66.3      40.7999   -75.7339              Wilkes Barre-Scranton, PA   \n",
       "85.1.237.251    47.5584     7.5733                                   None   \n",
       "72.198.169.59   35.5154   -97.5276                      Oklahoma City, OK   \n",
       "76.114.88.227   36.3479   -86.6005                          Nashville, TN   \n",
       "108.55.66.48    40.0754   -76.3189  Harrisburg-Lancaster-Lebanon-York, PA   \n",
       "\n",
       "              postal_code region_code         time_zone  \n",
       "70.44.66.3          18235          PA  America/New_York  \n",
       "85.1.237.251         4057          04     Europe/Zurich  \n",
       "72.198.169.59       73118          OK   America/Chicago  \n",
       "76.114.88.227       37075          TN   America/Chicago  \n",
       "108.55.66.48        17601          PA  America/New_York  "
      ]
     },
     "execution_count": 266,
     "metadata": {},
     "output_type": "execute_result"
    }
   ],
   "source": [
    "ipv4_df.head()"
   ]
  },
  {
   "cell_type": "code",
   "execution_count": 218,
   "metadata": {
    "scrolled": true
   },
   "outputs": [
    {
     "name": "stdout",
     "output_type": "stream",
     "text": [
      "<class 'pandas.core.frame.DataFrame'>\n",
      "Index: 24923 entries, 70.44.66.3 to 71.205.201.30\n",
      "Data columns (total 13 columns):\n",
      "area_code        24851 non-null float64\n",
      "city             20598 non-null object\n",
      "continent        24851 non-null object\n",
      "country_code     24851 non-null object\n",
      "country_code3    24851 non-null object\n",
      "country_name     24851 non-null object\n",
      "dma_code         24851 non-null float64\n",
      "latitude         24851 non-null float64\n",
      "longitude        24851 non-null float64\n",
      "metro_code       14561 non-null object\n",
      "postal_code      19763 non-null object\n",
      "region_code      20939 non-null object\n",
      "time_zone        21508 non-null object\n",
      "dtypes: float64(4), object(9)\n",
      "memory usage: 2.7+ MB\n"
     ]
    }
   ],
   "source": [
    "ipv4_df.info()"
   ]
  },
  {
   "cell_type": "code",
   "execution_count": 219,
   "metadata": {},
   "outputs": [],
   "source": [
    "# ipv4_df.reset_index(drop=True).head()"
   ]
  },
  {
   "cell_type": "code",
   "execution_count": 226,
   "metadata": {
    "collapsed": true
   },
   "outputs": [],
   "source": [
    "cleaned_ipv6 = [i for i in unique_ip if '.' not in i]"
   ]
  },
  {
   "cell_type": "code",
   "execution_count": 228,
   "metadata": {},
   "outputs": [
    {
     "data": {
      "text/plain": [
       "['2607:fb90:b02:3f0a:796c:7ae1:a5c1:296d',\n",
       " '2607:fb90:b0a:525f:1c5b:c428:a8ed:ac42',\n",
       " '2607:fb90:b02:3eac:7a46:e5c:a14a:9c3b',\n",
       " '2600:1007:b112:b4ae:b497:e6ee:237:3d64',\n",
       " '2602:306:c466:2350:700e:39ad:b7d4:d750',\n",
       " '2600:1017:b82d:4e8:0:b:f6cf:e701',\n",
       " '2600:100c:b015:5eab:27f2:64db:2b87:aee5',\n",
       " '2607:fb90:1014:530f:acf6:4ca3:512f:cbb6',\n",
       " '2607:fb90:f25:d83d:417:f675:3ca4:b740',\n",
       " '2602:306:c5dc:9740:284b:af34:fbae:e9c9']"
      ]
     },
     "execution_count": 228,
     "metadata": {},
     "output_type": "execute_result"
    }
   ],
   "source": [
    "cleaned_ipv6[:10]"
   ]
  },
  {
   "cell_type": "code",
   "execution_count": 229,
   "metadata": {},
   "outputs": [],
   "source": [
    "cleaned_ipv6.remove('unknown')\n"
   ]
  },
  {
   "cell_type": "code",
   "execution_count": 230,
   "metadata": {
    "collapsed": true
   },
   "outputs": [],
   "source": [
    "gic_v6 = pygeoip.GeoIP('GeoLiteCityv6.dat')\n"
   ]
  },
  {
   "cell_type": "code",
   "execution_count": 231,
   "metadata": {},
   "outputs": [
    {
     "name": "stdout",
     "output_type": "stream",
     "text": [
      "['__class__', '__delattr__', '__dict__', '__dir__', '__doc__', '__eq__', '__format__', '__ge__', '__getattribute__', '__gt__', '__hash__', '__init__', '__init_subclass__', '__le__', '__lt__', '__metaclass__', '__module__', '__ne__', '__new__', '__reduce__', '__reduce_ex__', '__repr__', '__setattr__', '__sizeof__', '__str__', '__subclasshook__', '__weakref__', '_databaseSegments', '_databaseType', '_flags', '_fp', '_get_org', '_get_record', '_get_region', '_gethostbyname', '_lock', '_netmask', '_recordLength', '_seek_country', '_setup_segments', '_type', 'asn_by_addr', 'asn_by_name', 'country_code_by_addr', 'country_code_by_name', 'country_name_by_addr', 'country_name_by_name', 'id_by_addr', 'id_by_name', 'isp_by_addr', 'isp_by_name', 'last_netmask', 'netspeed_by_addr', 'netspeed_by_name', 'org_by_addr', 'org_by_name', 'record_by_addr', 'record_by_name', 'region_by_addr', 'region_by_name', 'time_zone_by_addr', 'time_zone_by_name']\n"
     ]
    }
   ],
   "source": [
    "print(dir(gic_v6))"
   ]
  },
  {
   "cell_type": "code",
   "execution_count": 232,
   "metadata": {},
   "outputs": [
    {
     "data": {
      "text/plain": [
       "{'area_code': 0,\n",
       " 'city': None,\n",
       " 'continent': 'NA',\n",
       " 'country_code': 'US',\n",
       " 'country_code3': 'USA',\n",
       " 'country_name': 'United States',\n",
       " 'dma_code': 0,\n",
       " 'latitude': 37.751000000000005,\n",
       " 'longitude': -97.822,\n",
       " 'metro_code': None,\n",
       " 'postal_code': None,\n",
       " 'region_code': None,\n",
       " 'time_zone': None}"
      ]
     },
     "execution_count": 232,
     "metadata": {},
     "output_type": "execute_result"
    }
   ],
   "source": [
    "gic_v6.record_by_addr('2600:0387:0006:080f:0000:0000:0000:00b4')"
   ]
  },
  {
   "cell_type": "code",
   "execution_count": 98,
   "metadata": {},
   "outputs": [
    {
     "data": {
      "text/plain": [
       "{'area_code': 0,\n",
       " 'city': None,\n",
       " 'continent': 'NA',\n",
       " 'country_code': 'US',\n",
       " 'country_code3': 'USA',\n",
       " 'country_name': 'United States',\n",
       " 'dma_code': 0,\n",
       " 'latitude': 37.751000000000005,\n",
       " 'longitude': -97.822,\n",
       " 'metro_code': None,\n",
       " 'postal_code': None,\n",
       " 'region_code': None,\n",
       " 'time_zone': None}"
      ]
     },
     "execution_count": 98,
     "metadata": {},
     "output_type": "execute_result"
    }
   ],
   "source": [
    "gic_v6.record_by_addr('2607:fb90:8128:c60b:dcc2:7845:bdb4:2b02')"
   ]
  },
  {
   "cell_type": "code",
   "execution_count": 233,
   "metadata": {
    "collapsed": true
   },
   "outputs": [],
   "source": [
    "ipv6_df = pd.DataFrame()\n",
    "count = 0\n",
    "# trying to find out where the error is\n",
    "for i in cleaned_ipv6:\n",
    "    count += 1\n",
    "    ip_v6 = pd.DataFrame(gic_v6.record_by_addr(i), index=[i])\n",
    "    ipv6_df = ipv6_df.append(ip_v6)\n",
    "    "
   ]
  },
  {
   "cell_type": "code",
   "execution_count": 234,
   "metadata": {},
   "outputs": [
    {
     "name": "stdout",
     "output_type": "stream",
     "text": [
      "<class 'pandas.core.frame.DataFrame'>\n",
      "Index: 1391 entries, 2607:fb90:b02:3f0a:796c:7ae1:a5c1:296d to 2601:41:c101:4832:d1b3:5f2c:59af:6d4d\n",
      "Data columns (total 13 columns):\n",
      "area_code        1391 non-null int64\n",
      "city             2 non-null object\n",
      "continent        1391 non-null object\n",
      "country_code     1391 non-null object\n",
      "country_code3    1391 non-null object\n",
      "country_name     1391 non-null object\n",
      "dma_code         1391 non-null int64\n",
      "latitude         1391 non-null float64\n",
      "longitude        1391 non-null float64\n",
      "metro_code       2 non-null object\n",
      "postal_code      2 non-null object\n",
      "region_code      2 non-null object\n",
      "time_zone        115 non-null object\n",
      "dtypes: float64(2), int64(2), object(9)\n",
      "memory usage: 152.1+ KB\n"
     ]
    }
   ],
   "source": [
    "ipv6_df.info()"
   ]
  },
  {
   "cell_type": "code",
   "execution_count": 235,
   "metadata": {},
   "outputs": [
    {
     "data": {
      "text/html": [
       "<div>\n",
       "<style>\n",
       "    .dataframe thead tr:only-child th {\n",
       "        text-align: right;\n",
       "    }\n",
       "\n",
       "    .dataframe thead th {\n",
       "        text-align: left;\n",
       "    }\n",
       "\n",
       "    .dataframe tbody tr th {\n",
       "        vertical-align: top;\n",
       "    }\n",
       "</style>\n",
       "<table border=\"1\" class=\"dataframe\">\n",
       "  <thead>\n",
       "    <tr style=\"text-align: right;\">\n",
       "      <th></th>\n",
       "      <th>area_code</th>\n",
       "      <th>city</th>\n",
       "      <th>continent</th>\n",
       "      <th>country_code</th>\n",
       "      <th>country_code3</th>\n",
       "      <th>country_name</th>\n",
       "      <th>dma_code</th>\n",
       "      <th>latitude</th>\n",
       "      <th>longitude</th>\n",
       "      <th>metro_code</th>\n",
       "      <th>postal_code</th>\n",
       "      <th>region_code</th>\n",
       "      <th>time_zone</th>\n",
       "    </tr>\n",
       "  </thead>\n",
       "  <tbody>\n",
       "    <tr>\n",
       "      <th>2607:fb90:b02:3f0a:796c:7ae1:a5c1:296d</th>\n",
       "      <td>0</td>\n",
       "      <td>None</td>\n",
       "      <td>NA</td>\n",
       "      <td>US</td>\n",
       "      <td>USA</td>\n",
       "      <td>United States</td>\n",
       "      <td>0</td>\n",
       "      <td>37.751</td>\n",
       "      <td>-97.822</td>\n",
       "      <td>None</td>\n",
       "      <td>None</td>\n",
       "      <td>None</td>\n",
       "      <td>None</td>\n",
       "    </tr>\n",
       "    <tr>\n",
       "      <th>2607:fb90:b0a:525f:1c5b:c428:a8ed:ac42</th>\n",
       "      <td>0</td>\n",
       "      <td>None</td>\n",
       "      <td>NA</td>\n",
       "      <td>US</td>\n",
       "      <td>USA</td>\n",
       "      <td>United States</td>\n",
       "      <td>0</td>\n",
       "      <td>37.751</td>\n",
       "      <td>-97.822</td>\n",
       "      <td>None</td>\n",
       "      <td>None</td>\n",
       "      <td>None</td>\n",
       "      <td>None</td>\n",
       "    </tr>\n",
       "    <tr>\n",
       "      <th>2607:fb90:b02:3eac:7a46:e5c:a14a:9c3b</th>\n",
       "      <td>0</td>\n",
       "      <td>None</td>\n",
       "      <td>NA</td>\n",
       "      <td>US</td>\n",
       "      <td>USA</td>\n",
       "      <td>United States</td>\n",
       "      <td>0</td>\n",
       "      <td>37.751</td>\n",
       "      <td>-97.822</td>\n",
       "      <td>None</td>\n",
       "      <td>None</td>\n",
       "      <td>None</td>\n",
       "      <td>None</td>\n",
       "    </tr>\n",
       "    <tr>\n",
       "      <th>2600:1007:b112:b4ae:b497:e6ee:237:3d64</th>\n",
       "      <td>0</td>\n",
       "      <td>None</td>\n",
       "      <td>NA</td>\n",
       "      <td>US</td>\n",
       "      <td>USA</td>\n",
       "      <td>United States</td>\n",
       "      <td>0</td>\n",
       "      <td>37.751</td>\n",
       "      <td>-97.822</td>\n",
       "      <td>None</td>\n",
       "      <td>None</td>\n",
       "      <td>None</td>\n",
       "      <td>None</td>\n",
       "    </tr>\n",
       "    <tr>\n",
       "      <th>2602:306:c466:2350:700e:39ad:b7d4:d750</th>\n",
       "      <td>0</td>\n",
       "      <td>None</td>\n",
       "      <td>NA</td>\n",
       "      <td>US</td>\n",
       "      <td>USA</td>\n",
       "      <td>United States</td>\n",
       "      <td>0</td>\n",
       "      <td>37.751</td>\n",
       "      <td>-97.822</td>\n",
       "      <td>None</td>\n",
       "      <td>None</td>\n",
       "      <td>None</td>\n",
       "      <td>None</td>\n",
       "    </tr>\n",
       "  </tbody>\n",
       "</table>\n",
       "</div>"
      ],
      "text/plain": [
       "                                        area_code  city continent  \\\n",
       "2607:fb90:b02:3f0a:796c:7ae1:a5c1:296d          0  None        NA   \n",
       "2607:fb90:b0a:525f:1c5b:c428:a8ed:ac42          0  None        NA   \n",
       "2607:fb90:b02:3eac:7a46:e5c:a14a:9c3b           0  None        NA   \n",
       "2600:1007:b112:b4ae:b497:e6ee:237:3d64          0  None        NA   \n",
       "2602:306:c466:2350:700e:39ad:b7d4:d750          0  None        NA   \n",
       "\n",
       "                                       country_code country_code3  \\\n",
       "2607:fb90:b02:3f0a:796c:7ae1:a5c1:296d           US           USA   \n",
       "2607:fb90:b0a:525f:1c5b:c428:a8ed:ac42           US           USA   \n",
       "2607:fb90:b02:3eac:7a46:e5c:a14a:9c3b            US           USA   \n",
       "2600:1007:b112:b4ae:b497:e6ee:237:3d64           US           USA   \n",
       "2602:306:c466:2350:700e:39ad:b7d4:d750           US           USA   \n",
       "\n",
       "                                         country_name  dma_code  latitude  \\\n",
       "2607:fb90:b02:3f0a:796c:7ae1:a5c1:296d  United States         0    37.751   \n",
       "2607:fb90:b0a:525f:1c5b:c428:a8ed:ac42  United States         0    37.751   \n",
       "2607:fb90:b02:3eac:7a46:e5c:a14a:9c3b   United States         0    37.751   \n",
       "2600:1007:b112:b4ae:b497:e6ee:237:3d64  United States         0    37.751   \n",
       "2602:306:c466:2350:700e:39ad:b7d4:d750  United States         0    37.751   \n",
       "\n",
       "                                        longitude metro_code postal_code  \\\n",
       "2607:fb90:b02:3f0a:796c:7ae1:a5c1:296d    -97.822       None        None   \n",
       "2607:fb90:b0a:525f:1c5b:c428:a8ed:ac42    -97.822       None        None   \n",
       "2607:fb90:b02:3eac:7a46:e5c:a14a:9c3b     -97.822       None        None   \n",
       "2600:1007:b112:b4ae:b497:e6ee:237:3d64    -97.822       None        None   \n",
       "2602:306:c466:2350:700e:39ad:b7d4:d750    -97.822       None        None   \n",
       "\n",
       "                                       region_code time_zone  \n",
       "2607:fb90:b02:3f0a:796c:7ae1:a5c1:296d        None      None  \n",
       "2607:fb90:b0a:525f:1c5b:c428:a8ed:ac42        None      None  \n",
       "2607:fb90:b02:3eac:7a46:e5c:a14a:9c3b         None      None  \n",
       "2600:1007:b112:b4ae:b497:e6ee:237:3d64        None      None  \n",
       "2602:306:c466:2350:700e:39ad:b7d4:d750        None      None  "
      ]
     },
     "execution_count": 235,
     "metadata": {},
     "output_type": "execute_result"
    }
   ],
   "source": [
    "ipv6_df.head()"
   ]
  },
  {
   "cell_type": "code",
   "execution_count": 236,
   "metadata": {},
   "outputs": [
    {
     "data": {
      "text/html": [
       "<div>\n",
       "<style>\n",
       "    .dataframe thead tr:only-child th {\n",
       "        text-align: right;\n",
       "    }\n",
       "\n",
       "    .dataframe thead th {\n",
       "        text-align: left;\n",
       "    }\n",
       "\n",
       "    .dataframe tbody tr th {\n",
       "        vertical-align: top;\n",
       "    }\n",
       "</style>\n",
       "<table border=\"1\" class=\"dataframe\">\n",
       "  <thead>\n",
       "    <tr style=\"text-align: right;\">\n",
       "      <th></th>\n",
       "      <th>area_code</th>\n",
       "      <th>city</th>\n",
       "      <th>continent</th>\n",
       "      <th>country_code</th>\n",
       "      <th>country_code3</th>\n",
       "      <th>country_name</th>\n",
       "      <th>dma_code</th>\n",
       "      <th>latitude</th>\n",
       "      <th>longitude</th>\n",
       "      <th>metro_code</th>\n",
       "      <th>postal_code</th>\n",
       "      <th>region_code</th>\n",
       "      <th>time_zone</th>\n",
       "    </tr>\n",
       "  </thead>\n",
       "  <tbody>\n",
       "    <tr>\n",
       "      <th>70.44.66.3</th>\n",
       "      <td>610.0</td>\n",
       "      <td>Lehighton</td>\n",
       "      <td>NA</td>\n",
       "      <td>US</td>\n",
       "      <td>USA</td>\n",
       "      <td>United States</td>\n",
       "      <td>577.0</td>\n",
       "      <td>40.7999</td>\n",
       "      <td>-75.7339</td>\n",
       "      <td>Wilkes Barre-Scranton, PA</td>\n",
       "      <td>18235</td>\n",
       "      <td>PA</td>\n",
       "      <td>America/New_York</td>\n",
       "    </tr>\n",
       "    <tr>\n",
       "      <th>85.1.237.251</th>\n",
       "      <td>0.0</td>\n",
       "      <td>Basel</td>\n",
       "      <td>EU</td>\n",
       "      <td>CH</td>\n",
       "      <td>CHE</td>\n",
       "      <td>Switzerland</td>\n",
       "      <td>0.0</td>\n",
       "      <td>47.5584</td>\n",
       "      <td>7.5733</td>\n",
       "      <td>None</td>\n",
       "      <td>4057</td>\n",
       "      <td>04</td>\n",
       "      <td>Europe/Zurich</td>\n",
       "    </tr>\n",
       "    <tr>\n",
       "      <th>72.198.169.59</th>\n",
       "      <td>405.0</td>\n",
       "      <td>Oklahoma City</td>\n",
       "      <td>NA</td>\n",
       "      <td>US</td>\n",
       "      <td>USA</td>\n",
       "      <td>United States</td>\n",
       "      <td>650.0</td>\n",
       "      <td>35.5154</td>\n",
       "      <td>-97.5276</td>\n",
       "      <td>Oklahoma City, OK</td>\n",
       "      <td>73118</td>\n",
       "      <td>OK</td>\n",
       "      <td>America/Chicago</td>\n",
       "    </tr>\n",
       "    <tr>\n",
       "      <th>76.114.88.227</th>\n",
       "      <td>615.0</td>\n",
       "      <td>Hendersonville</td>\n",
       "      <td>NA</td>\n",
       "      <td>US</td>\n",
       "      <td>USA</td>\n",
       "      <td>United States</td>\n",
       "      <td>659.0</td>\n",
       "      <td>36.3479</td>\n",
       "      <td>-86.6005</td>\n",
       "      <td>Nashville, TN</td>\n",
       "      <td>37075</td>\n",
       "      <td>TN</td>\n",
       "      <td>America/Chicago</td>\n",
       "    </tr>\n",
       "    <tr>\n",
       "      <th>108.55.66.48</th>\n",
       "      <td>717.0</td>\n",
       "      <td>Lancaster</td>\n",
       "      <td>NA</td>\n",
       "      <td>US</td>\n",
       "      <td>USA</td>\n",
       "      <td>United States</td>\n",
       "      <td>566.0</td>\n",
       "      <td>40.0754</td>\n",
       "      <td>-76.3189</td>\n",
       "      <td>Harrisburg-Lancaster-Lebanon-York, PA</td>\n",
       "      <td>17601</td>\n",
       "      <td>PA</td>\n",
       "      <td>America/New_York</td>\n",
       "    </tr>\n",
       "  </tbody>\n",
       "</table>\n",
       "</div>"
      ],
      "text/plain": [
       "               area_code            city continent country_code country_code3  \\\n",
       "70.44.66.3         610.0       Lehighton        NA           US           USA   \n",
       "85.1.237.251         0.0           Basel        EU           CH           CHE   \n",
       "72.198.169.59      405.0   Oklahoma City        NA           US           USA   \n",
       "76.114.88.227      615.0  Hendersonville        NA           US           USA   \n",
       "108.55.66.48       717.0       Lancaster        NA           US           USA   \n",
       "\n",
       "                country_name  dma_code  latitude  longitude  \\\n",
       "70.44.66.3     United States     577.0   40.7999   -75.7339   \n",
       "85.1.237.251     Switzerland       0.0   47.5584     7.5733   \n",
       "72.198.169.59  United States     650.0   35.5154   -97.5276   \n",
       "76.114.88.227  United States     659.0   36.3479   -86.6005   \n",
       "108.55.66.48   United States     566.0   40.0754   -76.3189   \n",
       "\n",
       "                                          metro_code postal_code region_code  \\\n",
       "70.44.66.3                 Wilkes Barre-Scranton, PA       18235          PA   \n",
       "85.1.237.251                                    None        4057          04   \n",
       "72.198.169.59                      Oklahoma City, OK       73118          OK   \n",
       "76.114.88.227                          Nashville, TN       37075          TN   \n",
       "108.55.66.48   Harrisburg-Lancaster-Lebanon-York, PA       17601          PA   \n",
       "\n",
       "                      time_zone  \n",
       "70.44.66.3     America/New_York  \n",
       "85.1.237.251      Europe/Zurich  \n",
       "72.198.169.59   America/Chicago  \n",
       "76.114.88.227   America/Chicago  \n",
       "108.55.66.48   America/New_York  "
      ]
     },
     "execution_count": 236,
     "metadata": {},
     "output_type": "execute_result"
    }
   ],
   "source": [
    "# since we are not able as of right now to pull ipV6 address we will just work with ipV4 DF\n",
    "\n",
    "ipv4_df.head()"
   ]
  },
  {
   "cell_type": "code",
   "execution_count": 237,
   "metadata": {
    "collapsed": true
   },
   "outputs": [],
   "source": [
    "ipv4_df.drop('continent', axis=1, inplace=True)"
   ]
  },
  {
   "cell_type": "code",
   "execution_count": 238,
   "metadata": {
    "collapsed": true
   },
   "outputs": [],
   "source": [
    "ipv4_df.drop('dma_code', axis=1, inplace=True)\n"
   ]
  },
  {
   "cell_type": "code",
   "execution_count": 239,
   "metadata": {
    "collapsed": true
   },
   "outputs": [],
   "source": [
    "ipv4_df.drop('country_code3', axis=1, inplace=True)\n"
   ]
  },
  {
   "cell_type": "code",
   "execution_count": 240,
   "metadata": {},
   "outputs": [
    {
     "name": "stdout",
     "output_type": "stream",
     "text": [
      "<class 'pandas.core.frame.DataFrame'>\n",
      "Index: 24923 entries, 70.44.66.3 to 71.205.201.30\n",
      "Data columns (total 10 columns):\n",
      "area_code       24851 non-null float64\n",
      "city            20598 non-null object\n",
      "country_code    24851 non-null object\n",
      "country_name    24851 non-null object\n",
      "latitude        24851 non-null float64\n",
      "longitude       24851 non-null float64\n",
      "metro_code      14561 non-null object\n",
      "postal_code     19763 non-null object\n",
      "region_code     20939 non-null object\n",
      "time_zone       21508 non-null object\n",
      "dtypes: float64(3), object(7)\n",
      "memory usage: 2.1+ MB\n"
     ]
    }
   ],
   "source": [
    "ipv4_df.info()"
   ]
  },
  {
   "cell_type": "code",
   "execution_count": 241,
   "metadata": {},
   "outputs": [
    {
     "data": {
      "text/plain": [
       "array(['', 'lena.mumen@gmail.com', 'thriftathome@gmail.com', ...,\n",
       "       'cwadler@comcast.net', 's.tinsley@aol.com', 'Misi.ballard@gmail.com'], dtype=object)"
      ]
     },
     "execution_count": 241,
     "metadata": {},
     "output_type": "execute_result"
    }
   ],
   "source": [
    "unique_email"
   ]
  },
  {
   "cell_type": "code",
   "execution_count": 242,
   "metadata": {},
   "outputs": [
    {
     "data": {
      "text/plain": [
       "'2.2.3'"
      ]
     },
     "execution_count": 242,
     "metadata": {},
     "output_type": "execute_result"
    }
   ],
   "source": [
    "import plotly\n",
    "plotly.tools.set_credentials_file(username=plotlyuser, api_key=plotlyapi)\n",
    "plotly.__version__\n"
   ]
  },
  {
   "cell_type": "code",
   "execution_count": 243,
   "metadata": {
    "collapsed": true
   },
   "outputs": [],
   "source": [
    "import plotly.plotly as py\n",
    "from plotly.graph_objs import *\n",
    "\n",
    "mapbox_access_token = mapbox"
   ]
  },
  {
   "cell_type": "code",
   "execution_count": 244,
   "metadata": {},
   "outputs": [
    {
     "data": {
      "text/html": [
       "<iframe id=\"igraph\" scrolling=\"no\" style=\"border:none;\" seamless=\"seamless\" src=\"https://plot.ly/~tespintom/6.embed\" height=\"525px\" width=\"100%\"></iframe>"
      ],
      "text/plain": [
       "<plotly.tools.PlotlyDisplay object>"
      ]
     },
     "execution_count": 244,
     "metadata": {},
     "output_type": "execute_result"
    }
   ],
   "source": [
    "data = Data([\n",
    "    Scattermapbox(\n",
    "    lat=ipv4_df['latitude'].values, \n",
    "    lon=ipv4_df['longitude'].values,\n",
    "    mode='markers', \n",
    "    marker=Marker(\n",
    "    size=14\n",
    "    ),\n",
    "    text = ['Lehighton'],\n",
    "    )\n",
    "])\n",
    "\n",
    "layout=Layout(\n",
    "    autosize=True,\n",
    "    hovermode='closest',\n",
    "    mapbox=dict(\n",
    "        accesstoken = mapbox_access_token,\n",
    "        bearing = 0,\n",
    "        center=dict(\n",
    "            lat=38,\n",
    "            lon=-94\n",
    "     ),\n",
    "     pitch=0,\n",
    "     zoom=1\n",
    " ),\n",
    "              \n",
    " )\n",
    "\n",
    "fig = dict(data=data, layout=layout)\n",
    "py.iplot(fig, filename='Purl Comments.html')"
   ]
  },
  {
   "cell_type": "code",
   "execution_count": 247,
   "metadata": {},
   "outputs": [
    {
     "data": {
      "text/html": [
       "<div>\n",
       "<style>\n",
       "    .dataframe thead tr:only-child th {\n",
       "        text-align: right;\n",
       "    }\n",
       "\n",
       "    .dataframe thead th {\n",
       "        text-align: left;\n",
       "    }\n",
       "\n",
       "    .dataframe tbody tr th {\n",
       "        vertical-align: top;\n",
       "    }\n",
       "</style>\n",
       "<table border=\"1\" class=\"dataframe\">\n",
       "  <thead>\n",
       "    <tr style=\"text-align: right;\">\n",
       "      <th></th>\n",
       "      <th>area_code</th>\n",
       "      <th>city</th>\n",
       "      <th>country_code</th>\n",
       "      <th>country_name</th>\n",
       "      <th>latitude</th>\n",
       "      <th>longitude</th>\n",
       "      <th>metro_code</th>\n",
       "      <th>postal_code</th>\n",
       "      <th>region_code</th>\n",
       "      <th>time_zone</th>\n",
       "    </tr>\n",
       "  </thead>\n",
       "  <tbody>\n",
       "    <tr>\n",
       "      <th>70.44.66.3</th>\n",
       "      <td>610.0</td>\n",
       "      <td>Lehighton</td>\n",
       "      <td>US</td>\n",
       "      <td>United States</td>\n",
       "      <td>40.7999</td>\n",
       "      <td>-75.7339</td>\n",
       "      <td>Wilkes Barre-Scranton, PA</td>\n",
       "      <td>18235</td>\n",
       "      <td>PA</td>\n",
       "      <td>America/New_York</td>\n",
       "    </tr>\n",
       "    <tr>\n",
       "      <th>85.1.237.251</th>\n",
       "      <td>0.0</td>\n",
       "      <td>Basel</td>\n",
       "      <td>CH</td>\n",
       "      <td>Switzerland</td>\n",
       "      <td>47.5584</td>\n",
       "      <td>7.5733</td>\n",
       "      <td>None</td>\n",
       "      <td>4057</td>\n",
       "      <td>04</td>\n",
       "      <td>Europe/Zurich</td>\n",
       "    </tr>\n",
       "    <tr>\n",
       "      <th>72.198.169.59</th>\n",
       "      <td>405.0</td>\n",
       "      <td>Oklahoma City</td>\n",
       "      <td>US</td>\n",
       "      <td>United States</td>\n",
       "      <td>35.5154</td>\n",
       "      <td>-97.5276</td>\n",
       "      <td>Oklahoma City, OK</td>\n",
       "      <td>73118</td>\n",
       "      <td>OK</td>\n",
       "      <td>America/Chicago</td>\n",
       "    </tr>\n",
       "    <tr>\n",
       "      <th>76.114.88.227</th>\n",
       "      <td>615.0</td>\n",
       "      <td>Hendersonville</td>\n",
       "      <td>US</td>\n",
       "      <td>United States</td>\n",
       "      <td>36.3479</td>\n",
       "      <td>-86.6005</td>\n",
       "      <td>Nashville, TN</td>\n",
       "      <td>37075</td>\n",
       "      <td>TN</td>\n",
       "      <td>America/Chicago</td>\n",
       "    </tr>\n",
       "    <tr>\n",
       "      <th>108.55.66.48</th>\n",
       "      <td>717.0</td>\n",
       "      <td>Lancaster</td>\n",
       "      <td>US</td>\n",
       "      <td>United States</td>\n",
       "      <td>40.0754</td>\n",
       "      <td>-76.3189</td>\n",
       "      <td>Harrisburg-Lancaster-Lebanon-York, PA</td>\n",
       "      <td>17601</td>\n",
       "      <td>PA</td>\n",
       "      <td>America/New_York</td>\n",
       "    </tr>\n",
       "    <tr>\n",
       "      <th>129.85.144.49</th>\n",
       "      <td>212.0</td>\n",
       "      <td>New York</td>\n",
       "      <td>US</td>\n",
       "      <td>United States</td>\n",
       "      <td>40.7694</td>\n",
       "      <td>-73.9609</td>\n",
       "      <td>New York, NY</td>\n",
       "      <td>10021</td>\n",
       "      <td>NY</td>\n",
       "      <td>America/New_York</td>\n",
       "    </tr>\n",
       "    <tr>\n",
       "      <th>24.102.229.143</th>\n",
       "      <td>717.0</td>\n",
       "      <td>Ephrata</td>\n",
       "      <td>US</td>\n",
       "      <td>United States</td>\n",
       "      <td>40.1757</td>\n",
       "      <td>-76.1658</td>\n",
       "      <td>Harrisburg-Lancaster-Lebanon-York, PA</td>\n",
       "      <td>17522</td>\n",
       "      <td>PA</td>\n",
       "      <td>America/New_York</td>\n",
       "    </tr>\n",
       "    <tr>\n",
       "      <th>70.67.140.53</th>\n",
       "      <td>0.0</td>\n",
       "      <td>Courtenay</td>\n",
       "      <td>CA</td>\n",
       "      <td>Canada</td>\n",
       "      <td>49.6585</td>\n",
       "      <td>-124.9835</td>\n",
       "      <td>None</td>\n",
       "      <td>V9N</td>\n",
       "      <td>BC</td>\n",
       "      <td>America/Vancouver</td>\n",
       "    </tr>\n",
       "    <tr>\n",
       "      <th>99.247.66.91</th>\n",
       "      <td>0.0</td>\n",
       "      <td>Ottawa</td>\n",
       "      <td>CA</td>\n",
       "      <td>Canada</td>\n",
       "      <td>45.3645</td>\n",
       "      <td>-75.7934</td>\n",
       "      <td>None</td>\n",
       "      <td>K2B</td>\n",
       "      <td>ON</td>\n",
       "      <td>America/Toronto</td>\n",
       "    </tr>\n",
       "    <tr>\n",
       "      <th>209.197.161.101</th>\n",
       "      <td>0.0</td>\n",
       "      <td>Toronto</td>\n",
       "      <td>CA</td>\n",
       "      <td>Canada</td>\n",
       "      <td>43.6655</td>\n",
       "      <td>-79.4204</td>\n",
       "      <td>None</td>\n",
       "      <td>M6G</td>\n",
       "      <td>ON</td>\n",
       "      <td>America/Toronto</td>\n",
       "    </tr>\n",
       "  </tbody>\n",
       "</table>\n",
       "</div>"
      ],
      "text/plain": [
       "                 area_code            city country_code   country_name  \\\n",
       "70.44.66.3           610.0       Lehighton           US  United States   \n",
       "85.1.237.251           0.0           Basel           CH    Switzerland   \n",
       "72.198.169.59        405.0   Oklahoma City           US  United States   \n",
       "76.114.88.227        615.0  Hendersonville           US  United States   \n",
       "108.55.66.48         717.0       Lancaster           US  United States   \n",
       "129.85.144.49        212.0        New York           US  United States   \n",
       "24.102.229.143       717.0         Ephrata           US  United States   \n",
       "70.67.140.53           0.0       Courtenay           CA         Canada   \n",
       "99.247.66.91           0.0          Ottawa           CA         Canada   \n",
       "209.197.161.101        0.0         Toronto           CA         Canada   \n",
       "\n",
       "                 latitude  longitude                             metro_code  \\\n",
       "70.44.66.3        40.7999   -75.7339              Wilkes Barre-Scranton, PA   \n",
       "85.1.237.251      47.5584     7.5733                                   None   \n",
       "72.198.169.59     35.5154   -97.5276                      Oklahoma City, OK   \n",
       "76.114.88.227     36.3479   -86.6005                          Nashville, TN   \n",
       "108.55.66.48      40.0754   -76.3189  Harrisburg-Lancaster-Lebanon-York, PA   \n",
       "129.85.144.49     40.7694   -73.9609                           New York, NY   \n",
       "24.102.229.143    40.1757   -76.1658  Harrisburg-Lancaster-Lebanon-York, PA   \n",
       "70.67.140.53      49.6585  -124.9835                                   None   \n",
       "99.247.66.91      45.3645   -75.7934                                   None   \n",
       "209.197.161.101   43.6655   -79.4204                                   None   \n",
       "\n",
       "                postal_code region_code          time_zone  \n",
       "70.44.66.3            18235          PA   America/New_York  \n",
       "85.1.237.251           4057          04      Europe/Zurich  \n",
       "72.198.169.59         73118          OK    America/Chicago  \n",
       "76.114.88.227         37075          TN    America/Chicago  \n",
       "108.55.66.48          17601          PA   America/New_York  \n",
       "129.85.144.49         10021          NY   America/New_York  \n",
       "24.102.229.143        17522          PA   America/New_York  \n",
       "70.67.140.53            V9N          BC  America/Vancouver  \n",
       "99.247.66.91            K2B          ON    America/Toronto  \n",
       "209.197.161.101         M6G          ON    America/Toronto  "
      ]
     },
     "execution_count": 247,
     "metadata": {},
     "output_type": "execute_result"
    }
   ],
   "source": [
    "ipv4_df.head(10)"
   ]
  },
  {
   "cell_type": "code",
   "execution_count": 248,
   "metadata": {},
   "outputs": [
    {
     "data": {
      "text/html": [
       "<div>\n",
       "<style>\n",
       "    .dataframe thead tr:only-child th {\n",
       "        text-align: right;\n",
       "    }\n",
       "\n",
       "    .dataframe thead th {\n",
       "        text-align: left;\n",
       "    }\n",
       "\n",
       "    .dataframe tbody tr th {\n",
       "        vertical-align: top;\n",
       "    }\n",
       "</style>\n",
       "<table border=\"1\" class=\"dataframe\">\n",
       "  <thead>\n",
       "    <tr style=\"text-align: right;\">\n",
       "      <th></th>\n",
       "      <th>area_code</th>\n",
       "      <th>city</th>\n",
       "      <th>country_code</th>\n",
       "      <th>country_name</th>\n",
       "      <th>latitude</th>\n",
       "      <th>longitude</th>\n",
       "      <th>metro_code</th>\n",
       "      <th>postal_code</th>\n",
       "      <th>region_code</th>\n",
       "      <th>time_zone</th>\n",
       "    </tr>\n",
       "  </thead>\n",
       "  <tbody>\n",
       "    <tr>\n",
       "      <th>70.44.66.3</th>\n",
       "      <td>610.0</td>\n",
       "      <td>Lehighton</td>\n",
       "      <td>US</td>\n",
       "      <td>United States</td>\n",
       "      <td>40.7999</td>\n",
       "      <td>-75.7339</td>\n",
       "      <td>Wilkes Barre-Scranton, PA</td>\n",
       "      <td>18235</td>\n",
       "      <td>PA</td>\n",
       "      <td>America/New_York</td>\n",
       "    </tr>\n",
       "    <tr>\n",
       "      <th>72.198.169.59</th>\n",
       "      <td>405.0</td>\n",
       "      <td>Oklahoma City</td>\n",
       "      <td>US</td>\n",
       "      <td>United States</td>\n",
       "      <td>35.5154</td>\n",
       "      <td>-97.5276</td>\n",
       "      <td>Oklahoma City, OK</td>\n",
       "      <td>73118</td>\n",
       "      <td>OK</td>\n",
       "      <td>America/Chicago</td>\n",
       "    </tr>\n",
       "    <tr>\n",
       "      <th>76.114.88.227</th>\n",
       "      <td>615.0</td>\n",
       "      <td>Hendersonville</td>\n",
       "      <td>US</td>\n",
       "      <td>United States</td>\n",
       "      <td>36.3479</td>\n",
       "      <td>-86.6005</td>\n",
       "      <td>Nashville, TN</td>\n",
       "      <td>37075</td>\n",
       "      <td>TN</td>\n",
       "      <td>America/Chicago</td>\n",
       "    </tr>\n",
       "    <tr>\n",
       "      <th>108.55.66.48</th>\n",
       "      <td>717.0</td>\n",
       "      <td>Lancaster</td>\n",
       "      <td>US</td>\n",
       "      <td>United States</td>\n",
       "      <td>40.0754</td>\n",
       "      <td>-76.3189</td>\n",
       "      <td>Harrisburg-Lancaster-Lebanon-York, PA</td>\n",
       "      <td>17601</td>\n",
       "      <td>PA</td>\n",
       "      <td>America/New_York</td>\n",
       "    </tr>\n",
       "    <tr>\n",
       "      <th>129.85.144.49</th>\n",
       "      <td>212.0</td>\n",
       "      <td>New York</td>\n",
       "      <td>US</td>\n",
       "      <td>United States</td>\n",
       "      <td>40.7694</td>\n",
       "      <td>-73.9609</td>\n",
       "      <td>New York, NY</td>\n",
       "      <td>10021</td>\n",
       "      <td>NY</td>\n",
       "      <td>America/New_York</td>\n",
       "    </tr>\n",
       "  </tbody>\n",
       "</table>\n",
       "</div>"
      ],
      "text/plain": [
       "               area_code            city country_code   country_name  \\\n",
       "70.44.66.3         610.0       Lehighton           US  United States   \n",
       "72.198.169.59      405.0   Oklahoma City           US  United States   \n",
       "76.114.88.227      615.0  Hendersonville           US  United States   \n",
       "108.55.66.48       717.0       Lancaster           US  United States   \n",
       "129.85.144.49      212.0        New York           US  United States   \n",
       "\n",
       "               latitude  longitude                             metro_code  \\\n",
       "70.44.66.3      40.7999   -75.7339              Wilkes Barre-Scranton, PA   \n",
       "72.198.169.59   35.5154   -97.5276                      Oklahoma City, OK   \n",
       "76.114.88.227   36.3479   -86.6005                          Nashville, TN   \n",
       "108.55.66.48    40.0754   -76.3189  Harrisburg-Lancaster-Lebanon-York, PA   \n",
       "129.85.144.49   40.7694   -73.9609                           New York, NY   \n",
       "\n",
       "              postal_code region_code         time_zone  \n",
       "70.44.66.3          18235          PA  America/New_York  \n",
       "72.198.169.59       73118          OK   America/Chicago  \n",
       "76.114.88.227       37075          TN   America/Chicago  \n",
       "108.55.66.48        17601          PA  America/New_York  \n",
       "129.85.144.49       10021          NY  America/New_York  "
      ]
     },
     "execution_count": 248,
     "metadata": {},
     "output_type": "execute_result"
    }
   ],
   "source": [
    "# comment volume by state\n",
    "\n",
    "usa_df = ipv4_df[ipv4_df.country_name.str.find('United States') != -1]\n",
    "usa_df.head()"
   ]
  },
  {
   "cell_type": "code",
   "execution_count": 249,
   "metadata": {
    "collapsed": true
   },
   "outputs": [],
   "source": [
    "comment_count = {}\n",
    "\n",
    "for s in usa_df.region_code:\n",
    "    if s not in comment_count:\n",
    "        comment_count[s] = 1\n",
    "    else:\n",
    "        comment_count[s] += 1"
   ]
  },
  {
   "cell_type": "code",
   "execution_count": 250,
   "metadata": {
    "collapsed": true
   },
   "outputs": [],
   "source": [
    "comment_state_df = pd.DataFrame(list(comment_count.items()), columns=['State', 'Count'])"
   ]
  },
  {
   "cell_type": "code",
   "execution_count": 251,
   "metadata": {
    "collapsed": true
   },
   "outputs": [],
   "source": [
    "comment_state_df.drop(comment_state_df.index[19], axis=0, inplace=True)"
   ]
  },
  {
   "cell_type": "code",
   "execution_count": 252,
   "metadata": {
    "collapsed": true
   },
   "outputs": [],
   "source": [
    "comment_state_df.drop(comment_state_df.index[52], axis=0, inplace=True)"
   ]
  },
  {
   "cell_type": "code",
   "execution_count": 253,
   "metadata": {},
   "outputs": [
    {
     "name": "stdout",
     "output_type": "stream",
     "text": [
      "<class 'pandas.core.frame.DataFrame'>\n",
      "Int64Index: 53 entries, 0 to 54\n",
      "Data columns (total 2 columns):\n",
      "State    52 non-null object\n",
      "Count    53 non-null int64\n",
      "dtypes: int64(1), object(1)\n",
      "memory usage: 1.2+ KB\n"
     ]
    }
   ],
   "source": [
    "comment_state_df.info()"
   ]
  },
  {
   "cell_type": "code",
   "execution_count": 254,
   "metadata": {},
   "outputs": [
    {
     "data": {
      "text/html": [
       "<div>\n",
       "<style>\n",
       "    .dataframe thead tr:only-child th {\n",
       "        text-align: right;\n",
       "    }\n",
       "\n",
       "    .dataframe thead th {\n",
       "        text-align: left;\n",
       "    }\n",
       "\n",
       "    .dataframe tbody tr th {\n",
       "        vertical-align: top;\n",
       "    }\n",
       "</style>\n",
       "<table border=\"1\" class=\"dataframe\">\n",
       "  <thead>\n",
       "    <tr style=\"text-align: right;\">\n",
       "      <th></th>\n",
       "      <th>State</th>\n",
       "      <th>Count</th>\n",
       "    </tr>\n",
       "  </thead>\n",
       "  <tbody>\n",
       "    <tr>\n",
       "      <th>0</th>\n",
       "      <td>PA</td>\n",
       "      <td>600</td>\n",
       "    </tr>\n",
       "    <tr>\n",
       "      <th>1</th>\n",
       "      <td>OK</td>\n",
       "      <td>105</td>\n",
       "    </tr>\n",
       "    <tr>\n",
       "      <th>2</th>\n",
       "      <td>TN</td>\n",
       "      <td>214</td>\n",
       "    </tr>\n",
       "    <tr>\n",
       "      <th>3</th>\n",
       "      <td>NY</td>\n",
       "      <td>1667</td>\n",
       "    </tr>\n",
       "    <tr>\n",
       "      <th>4</th>\n",
       "      <td>FL</td>\n",
       "      <td>470</td>\n",
       "    </tr>\n",
       "  </tbody>\n",
       "</table>\n",
       "</div>"
      ],
      "text/plain": [
       "  State  Count\n",
       "0    PA    600\n",
       "1    OK    105\n",
       "2    TN    214\n",
       "3    NY   1667\n",
       "4    FL    470"
      ]
     },
     "execution_count": 254,
     "metadata": {},
     "output_type": "execute_result"
    }
   ],
   "source": [
    "comment_state_df.dropna(axis=0, how='any').head()"
   ]
  },
  {
   "cell_type": "code",
   "execution_count": 255,
   "metadata": {},
   "outputs": [
    {
     "data": {
      "text/html": [
       "<div>\n",
       "<style>\n",
       "    .dataframe thead tr:only-child th {\n",
       "        text-align: right;\n",
       "    }\n",
       "\n",
       "    .dataframe thead th {\n",
       "        text-align: left;\n",
       "    }\n",
       "\n",
       "    .dataframe tbody tr th {\n",
       "        vertical-align: top;\n",
       "    }\n",
       "</style>\n",
       "<table border=\"1\" class=\"dataframe\">\n",
       "  <thead>\n",
       "    <tr style=\"text-align: right;\">\n",
       "      <th></th>\n",
       "      <th>State</th>\n",
       "      <th>Count</th>\n",
       "    </tr>\n",
       "  </thead>\n",
       "  <tbody>\n",
       "    <tr>\n",
       "      <th>0</th>\n",
       "      <td>PA</td>\n",
       "      <td>600</td>\n",
       "    </tr>\n",
       "    <tr>\n",
       "      <th>1</th>\n",
       "      <td>OK</td>\n",
       "      <td>105</td>\n",
       "    </tr>\n",
       "    <tr>\n",
       "      <th>2</th>\n",
       "      <td>TN</td>\n",
       "      <td>214</td>\n",
       "    </tr>\n",
       "    <tr>\n",
       "      <th>3</th>\n",
       "      <td>NY</td>\n",
       "      <td>1667</td>\n",
       "    </tr>\n",
       "    <tr>\n",
       "      <th>4</th>\n",
       "      <td>FL</td>\n",
       "      <td>470</td>\n",
       "    </tr>\n",
       "  </tbody>\n",
       "</table>\n",
       "</div>"
      ],
      "text/plain": [
       "  State  Count\n",
       "0    PA    600\n",
       "1    OK    105\n",
       "2    TN    214\n",
       "3    NY   1667\n",
       "4    FL    470"
      ]
     },
     "execution_count": 255,
     "metadata": {},
     "output_type": "execute_result"
    }
   ],
   "source": [
    "comment_state_df.reset_index(drop=True).head()"
   ]
  },
  {
   "cell_type": "code",
   "execution_count": 256,
   "metadata": {},
   "outputs": [
    {
     "data": {
      "text/html": [
       "<iframe id=\"igraph\" scrolling=\"no\" style=\"border:none;\" seamless=\"seamless\" src=\"https://plot.ly/~tespintom/8.embed\" height=\"525px\" width=\"100%\"></iframe>"
      ],
      "text/plain": [
       "<plotly.tools.PlotlyDisplay object>"
      ]
     },
     "execution_count": 256,
     "metadata": {},
     "output_type": "execute_result"
    }
   ],
   "source": [
    "scl = [[0.0, 'rgb(242,240,247)'],[0.2, 'rgb(218,218,235)'],[0.4, 'rgb(188,189,220)'],\\\n",
    "            [0.6, 'rgb(158,154,200)'],[0.8, 'rgb(117,107,177)'],[1.0, 'rgb(84,39,143)']]\n",
    "\n",
    "data = [ dict(\n",
    "        type='choropleth',\n",
    "        colorscale = scl,\n",
    "        autocolorscale = False,\n",
    "        locations = comment_state_df['State'],\n",
    "        z = comment_state_df['Count'].astype(float),\n",
    "        locationmode = 'USA-states',\n",
    "    #    text = statedf['text'],\n",
    "        marker = dict(\n",
    "            line = dict (\n",
    "                color = 'rgb(255,255,255)',\n",
    "                width = 2\n",
    "            )\n",
    "        ),\n",
    "        colorbar = dict(\n",
    "            title = \"Comment Volume\"\n",
    "        )\n",
    "    ) ]\n",
    "\n",
    "layout = dict(\n",
    "        title = 'Comment Value Grade',\n",
    "        geo = dict(\n",
    "            scope='usa',\n",
    "            projection=dict( type='albers usa' ),\n",
    "            showlakes = True,\n",
    "            lakecolor = 'rgb(255, 255, 255)',\n",
    "        ),\n",
    "    )\n",
    "    \n",
    "fig = dict(data=data, layout=layout)\n",
    "py.iplot(fig, filename='Purl Comments_2.html')"
   ]
  },
  {
   "cell_type": "code",
   "execution_count": 261,
   "metadata": {},
   "outputs": [
    {
     "data": {
      "text/plain": [
       "                           7544\n",
       "tamzyn@pastillerose.com      55\n",
       "julietremain@att.net         46\n",
       "emnoschese@yahoo.com         44\n",
       "dancingtoes27@gmail.com      37\n",
       "Name: comment_author_email, dtype: int64"
      ]
     },
     "execution_count": 261,
     "metadata": {},
     "output_type": "execute_result"
    }
   ],
   "source": [
    "comment_wo_response.comment_author_email.value_counts().head()"
   ]
  },
  {
   "cell_type": "code",
   "execution_count": 123,
   "metadata": {},
   "outputs": [
    {
     "data": {
      "text/html": [
       "<div>\n",
       "<style>\n",
       "    .dataframe thead tr:only-child th {\n",
       "        text-align: right;\n",
       "    }\n",
       "\n",
       "    .dataframe thead th {\n",
       "        text-align: left;\n",
       "    }\n",
       "\n",
       "    .dataframe tbody tr th {\n",
       "        vertical-align: top;\n",
       "    }\n",
       "</style>\n",
       "<table border=\"1\" class=\"dataframe\">\n",
       "  <thead>\n",
       "    <tr style=\"text-align: right;\">\n",
       "      <th></th>\n",
       "      <th>comment_ID</th>\n",
       "      <th>comment_post_ID</th>\n",
       "      <th>comment_author</th>\n",
       "      <th>comment_author_email</th>\n",
       "      <th>comment_author_url</th>\n",
       "      <th>comment_author_IP</th>\n",
       "      <th>comment_date</th>\n",
       "      <th>comment_date_gmt</th>\n",
       "      <th>comment_content</th>\n",
       "      <th>comment_approved</th>\n",
       "      <th>Sentiment</th>\n",
       "      <th>Sentiment_values</th>\n",
       "    </tr>\n",
       "  </thead>\n",
       "  <tbody>\n",
       "    <tr>\n",
       "      <th>7256</th>\n",
       "      <td>7268</td>\n",
       "      <td>3887</td>\n",
       "      <td>jen</td>\n",
       "      <td>jenaflower@gmail.com</td>\n",
       "      <td></td>\n",
       "      <td>76.234.54.110</td>\n",
       "      <td>2013-10-09 17:55:49</td>\n",
       "      <td>2013-10-09 17:55:49</td>\n",
       "      <td>Hi Colleen!  &lt;br/&gt;&lt;br/&gt;I think that the small ...</td>\n",
       "      <td>1</td>\n",
       "      <td>1</td>\n",
       "      <td>0.064286</td>\n",
       "    </tr>\n",
       "    <tr>\n",
       "      <th>8119</th>\n",
       "      <td>8132</td>\n",
       "      <td>5023</td>\n",
       "      <td>jen</td>\n",
       "      <td>jenaflower@gmail.com</td>\n",
       "      <td></td>\n",
       "      <td>76.168.234.184</td>\n",
       "      <td>2011-03-21 14:04:22</td>\n",
       "      <td>2011-03-21 14:04:22</td>\n",
       "      <td>Hi Karen!&lt;br/&gt;&lt;br/&gt;The bunny pattern is writte...</td>\n",
       "      <td>1</td>\n",
       "      <td>1</td>\n",
       "      <td>0.200000</td>\n",
       "    </tr>\n",
       "    <tr>\n",
       "      <th>8128</th>\n",
       "      <td>8141</td>\n",
       "      <td>5023</td>\n",
       "      <td>jen</td>\n",
       "      <td>jenaflower@gmail.com</td>\n",
       "      <td></td>\n",
       "      <td>76.168.234.243</td>\n",
       "      <td>2011-04-01 15:51:55</td>\n",
       "      <td>2011-04-01 15:51:55</td>\n",
       "      <td>Hi Brenda,&lt;br/&gt;&lt;br/&gt;For the back of the neck y...</td>\n",
       "      <td>1</td>\n",
       "      <td>1</td>\n",
       "      <td>0.281061</td>\n",
       "    </tr>\n",
       "    <tr>\n",
       "      <th>8636</th>\n",
       "      <td>8649</td>\n",
       "      <td>5524</td>\n",
       "      <td>jen</td>\n",
       "      <td>jenaflower@gmail.com</td>\n",
       "      <td>http://jenandray.squarespace.com</td>\n",
       "      <td>76.168.233.160</td>\n",
       "      <td>2010-10-01 03:46:04</td>\n",
       "      <td>2010-10-01 03:46:04</td>\n",
       "      <td>aww... thanks angela!    &lt;br/&gt;&lt;br/&gt;jen</td>\n",
       "      <td>1</td>\n",
       "      <td>1</td>\n",
       "      <td>0.250000</td>\n",
       "    </tr>\n",
       "    <tr>\n",
       "      <th>8830</th>\n",
       "      <td>8843</td>\n",
       "      <td>5856</td>\n",
       "      <td>jen</td>\n",
       "      <td>jenaflower@gmail.com</td>\n",
       "      <td></td>\n",
       "      <td>76.234.54.110</td>\n",
       "      <td>2010-06-25 21:32:09</td>\n",
       "      <td>2010-06-25 21:32:09</td>\n",
       "      <td>that is one cute puppy!!!</td>\n",
       "      <td>1</td>\n",
       "      <td>1</td>\n",
       "      <td>0.500000</td>\n",
       "    </tr>\n",
       "    <tr>\n",
       "      <th>8894</th>\n",
       "      <td>8907</td>\n",
       "      <td>5943</td>\n",
       "      <td>jen</td>\n",
       "      <td>jenaflower@gmail.com</td>\n",
       "      <td>http://jenandray.squarespace.com</td>\n",
       "      <td>76.168.233.160</td>\n",
       "      <td>2010-05-24 15:22:45</td>\n",
       "      <td>2010-05-24 15:22:45</td>\n",
       "      <td>of course your niece will love this blanket!! ...</td>\n",
       "      <td>1</td>\n",
       "      <td>1</td>\n",
       "      <td>0.500000</td>\n",
       "    </tr>\n",
       "    <tr>\n",
       "      <th>9004</th>\n",
       "      <td>9017</td>\n",
       "      <td>6229</td>\n",
       "      <td>jen</td>\n",
       "      <td>jenaflower@gmail.com</td>\n",
       "      <td>http://jenandray.squarespace.com</td>\n",
       "      <td>76.168.233.160</td>\n",
       "      <td>2010-03-01 15:03:44</td>\n",
       "      <td>2010-03-01 15:03:44</td>\n",
       "      <td>thank you everyone for your congratulations!  ...</td>\n",
       "      <td>1</td>\n",
       "      <td>1</td>\n",
       "      <td>0.133333</td>\n",
       "    </tr>\n",
       "    <tr>\n",
       "      <th>9010</th>\n",
       "      <td>9023</td>\n",
       "      <td>6229</td>\n",
       "      <td>jen</td>\n",
       "      <td>jenaflower@gmail.com</td>\n",
       "      <td></td>\n",
       "      <td>76.234.54.110</td>\n",
       "      <td>2013-09-11 17:27:08</td>\n",
       "      <td>2013-09-11 17:27:08</td>\n",
       "      <td>Hi FAK,&lt;br/&gt;&lt;br/&gt;I used the Sweet Dreams Cotto...</td>\n",
       "      <td>1</td>\n",
       "      <td>1</td>\n",
       "      <td>0.181385</td>\n",
       "    </tr>\n",
       "    <tr>\n",
       "      <th>9114</th>\n",
       "      <td>9127</td>\n",
       "      <td>6261</td>\n",
       "      <td>jen</td>\n",
       "      <td>jenaflower@gmail.com</td>\n",
       "      <td></td>\n",
       "      <td>76.234.54.110</td>\n",
       "      <td>2010-02-08 22:41:34</td>\n",
       "      <td>2010-02-08 22:41:34</td>\n",
       "      <td>i think that seattle baby would LOVE these ele...</td>\n",
       "      <td>1</td>\n",
       "      <td>1</td>\n",
       "      <td>0.500000</td>\n",
       "    </tr>\n",
       "    <tr>\n",
       "      <th>9627</th>\n",
       "      <td>9640</td>\n",
       "      <td>7287</td>\n",
       "      <td>jen</td>\n",
       "      <td>jenaflower@gmail.com</td>\n",
       "      <td>http://jenandray.squarespace.com</td>\n",
       "      <td>76.87.32.2</td>\n",
       "      <td>2008-12-29 21:16:00</td>\n",
       "      <td>2008-12-30 02:16:00</td>\n",
       "      <td>thank you everyone for all your lovely comment...</td>\n",
       "      <td>1</td>\n",
       "      <td>1</td>\n",
       "      <td>0.500000</td>\n",
       "    </tr>\n",
       "    <tr>\n",
       "      <th>9650</th>\n",
       "      <td>9663</td>\n",
       "      <td>7287</td>\n",
       "      <td>jen</td>\n",
       "      <td>jenaflower@gmail.com</td>\n",
       "      <td>http://jenandray.squarespace.com</td>\n",
       "      <td>76.87.32.2</td>\n",
       "      <td>2009-01-12 16:00:07</td>\n",
       "      <td>2009-01-12 16:00:07</td>\n",
       "      <td>hi michelle,&lt;br/&gt;&lt;br/&gt;the 4th and 6th fabrics ...</td>\n",
       "      <td>1</td>\n",
       "      <td>0</td>\n",
       "      <td>0.000000</td>\n",
       "    </tr>\n",
       "    <tr>\n",
       "      <th>9655</th>\n",
       "      <td>9668</td>\n",
       "      <td>7287</td>\n",
       "      <td>jen</td>\n",
       "      <td>jenaflower@gmail.com</td>\n",
       "      <td>http://jenandray.squarespace.com</td>\n",
       "      <td>76.87.32.2</td>\n",
       "      <td>2009-01-22 15:23:41</td>\n",
       "      <td>2009-01-22 15:23:41</td>\n",
       "      <td>hi felicity,&lt;br/&gt;&lt;br/&gt;i had spoonflower ( &lt;a r...</td>\n",
       "      <td>1</td>\n",
       "      <td>1</td>\n",
       "      <td>0.167143</td>\n",
       "    </tr>\n",
       "    <tr>\n",
       "      <th>10290</th>\n",
       "      <td>10306</td>\n",
       "      <td>8306</td>\n",
       "      <td>jen</td>\n",
       "      <td>jenaflower@gmail.com</td>\n",
       "      <td>http://purlsoho.com</td>\n",
       "      <td>75.85.61.203</td>\n",
       "      <td>2007-09-08 19:57:09</td>\n",
       "      <td>2007-09-08 19:57:09</td>\n",
       "      <td>yay!  we are waiting on pins and needles (pun ...</td>\n",
       "      <td>1</td>\n",
       "      <td>0</td>\n",
       "      <td>0.000000</td>\n",
       "    </tr>\n",
       "    <tr>\n",
       "      <th>10474</th>\n",
       "      <td>10490</td>\n",
       "      <td>8562</td>\n",
       "      <td>jen</td>\n",
       "      <td>jenaflower@gmail.com</td>\n",
       "      <td></td>\n",
       "      <td>76.234.54.110</td>\n",
       "      <td>2013-06-11 22:48:22</td>\n",
       "      <td>2013-06-11 22:48:22</td>\n",
       "      <td>My daughter is OBSESSED with Crafty Chloe!!  S...</td>\n",
       "      <td>1</td>\n",
       "      <td>-1</td>\n",
       "      <td>-0.033333</td>\n",
       "    </tr>\n",
       "  </tbody>\n",
       "</table>\n",
       "</div>"
      ],
      "text/plain": [
       "       comment_ID  comment_post_ID comment_author  comment_author_email  \\\n",
       "7256         7268             3887            jen  jenaflower@gmail.com   \n",
       "8119         8132             5023            jen  jenaflower@gmail.com   \n",
       "8128         8141             5023            jen  jenaflower@gmail.com   \n",
       "8636         8649             5524            jen  jenaflower@gmail.com   \n",
       "8830         8843             5856            jen  jenaflower@gmail.com   \n",
       "8894         8907             5943            jen  jenaflower@gmail.com   \n",
       "9004         9017             6229            jen  jenaflower@gmail.com   \n",
       "9010         9023             6229            jen  jenaflower@gmail.com   \n",
       "9114         9127             6261            jen  jenaflower@gmail.com   \n",
       "9627         9640             7287            jen  jenaflower@gmail.com   \n",
       "9650         9663             7287            jen  jenaflower@gmail.com   \n",
       "9655         9668             7287            jen  jenaflower@gmail.com   \n",
       "10290       10306             8306            jen  jenaflower@gmail.com   \n",
       "10474       10490             8562            jen  jenaflower@gmail.com   \n",
       "\n",
       "                     comment_author_url comment_author_IP        comment_date  \\\n",
       "7256                                        76.234.54.110 2013-10-09 17:55:49   \n",
       "8119                                       76.168.234.184 2011-03-21 14:04:22   \n",
       "8128                                       76.168.234.243 2011-04-01 15:51:55   \n",
       "8636   http://jenandray.squarespace.com    76.168.233.160 2010-10-01 03:46:04   \n",
       "8830                                        76.234.54.110 2010-06-25 21:32:09   \n",
       "8894   http://jenandray.squarespace.com    76.168.233.160 2010-05-24 15:22:45   \n",
       "9004   http://jenandray.squarespace.com    76.168.233.160 2010-03-01 15:03:44   \n",
       "9010                                        76.234.54.110 2013-09-11 17:27:08   \n",
       "9114                                        76.234.54.110 2010-02-08 22:41:34   \n",
       "9627   http://jenandray.squarespace.com        76.87.32.2 2008-12-29 21:16:00   \n",
       "9650   http://jenandray.squarespace.com        76.87.32.2 2009-01-12 16:00:07   \n",
       "9655   http://jenandray.squarespace.com        76.87.32.2 2009-01-22 15:23:41   \n",
       "10290               http://purlsoho.com      75.85.61.203 2007-09-08 19:57:09   \n",
       "10474                                       76.234.54.110 2013-06-11 22:48:22   \n",
       "\n",
       "         comment_date_gmt                                    comment_content  \\\n",
       "7256  2013-10-09 17:55:49  Hi Colleen!  <br/><br/>I think that the small ...   \n",
       "8119  2011-03-21 14:04:22  Hi Karen!<br/><br/>The bunny pattern is writte...   \n",
       "8128  2011-04-01 15:51:55  Hi Brenda,<br/><br/>For the back of the neck y...   \n",
       "8636  2010-10-01 03:46:04             aww... thanks angela!    <br/><br/>jen   \n",
       "8830  2010-06-25 21:32:09                          that is one cute puppy!!!   \n",
       "8894  2010-05-24 15:22:45  of course your niece will love this blanket!! ...   \n",
       "9004  2010-03-01 15:03:44  thank you everyone for your congratulations!  ...   \n",
       "9010  2013-09-11 17:27:08  Hi FAK,<br/><br/>I used the Sweet Dreams Cotto...   \n",
       "9114  2010-02-08 22:41:34  i think that seattle baby would LOVE these ele...   \n",
       "9627  2008-12-30 02:16:00  thank you everyone for all your lovely comment...   \n",
       "9650  2009-01-12 16:00:07  hi michelle,<br/><br/>the 4th and 6th fabrics ...   \n",
       "9655  2009-01-22 15:23:41  hi felicity,<br/><br/>i had spoonflower ( <a r...   \n",
       "10290 2007-09-08 19:57:09  yay!  we are waiting on pins and needles (pun ...   \n",
       "10474 2013-06-11 22:48:22  My daughter is OBSESSED with Crafty Chloe!!  S...   \n",
       "\n",
       "      comment_approved  Sentiment  Sentiment_values  \n",
       "7256                 1          1          0.064286  \n",
       "8119                 1          1          0.200000  \n",
       "8128                 1          1          0.281061  \n",
       "8636                 1          1          0.250000  \n",
       "8830                 1          1          0.500000  \n",
       "8894                 1          1          0.500000  \n",
       "9004                 1          1          0.133333  \n",
       "9010                 1          1          0.181385  \n",
       "9114                 1          1          0.500000  \n",
       "9627                 1          1          0.500000  \n",
       "9650                 1          0          0.000000  \n",
       "9655                 1          1          0.167143  \n",
       "10290                1          0          0.000000  \n",
       "10474                1         -1         -0.033333  "
      ]
     },
     "execution_count": 123,
     "metadata": {},
     "output_type": "execute_result"
    }
   ],
   "source": [
    "comment_wo_response[comment_wo_response['comment_author_email'] == 'jenaflower@gmail.com']"
   ]
  },
  {
   "cell_type": "code",
   "execution_count": 267,
   "metadata": {
    "collapsed": true
   },
   "outputs": [],
   "source": [
    "comment_wo_response.to_csv('comment_wo_re.csv')"
   ]
  },
  {
   "cell_type": "code",
   "execution_count": 269,
   "metadata": {},
   "outputs": [],
   "source": [
    "ipv4_df.to_csv('ipv4_df.csv')"
   ]
  },
  {
   "cell_type": "code",
   "execution_count": null,
   "metadata": {
    "collapsed": true
   },
   "outputs": [],
   "source": []
  }
 ],
 "metadata": {
  "kernelspec": {
   "display_name": "Python 3",
   "language": "python",
   "name": "python3"
  },
  "language_info": {
   "codemirror_mode": {
    "name": "ipython",
    "version": 3
   },
   "file_extension": ".py",
   "mimetype": "text/x-python",
   "name": "python",
   "nbconvert_exporter": "python",
   "pygments_lexer": "ipython3",
   "version": "3.6.3"
  }
 },
 "nbformat": 4,
 "nbformat_minor": 2
}
