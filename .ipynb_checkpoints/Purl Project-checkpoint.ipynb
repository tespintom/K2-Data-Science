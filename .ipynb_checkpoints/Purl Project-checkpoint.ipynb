{
 "cells": [
  {
   "cell_type": "markdown",
   "metadata": {},
   "source": [
    "You may have to do `pip install mysql-connector-python-rf`"
   ]
  },
  {
   "cell_type": "code",
   "execution_count": 9,
   "metadata": {},
   "outputs": [],
   "source": [
    "import mysql.connector\n",
    "\n",
    "cnx = mysql.connector.connect(user='root', password='123456', host='127.0.0.1', database='purl_mage_to_anonimize')\n",
    "cursor = cnx.cursor()\n",
    "query = (\"SELECT store_id, code FROM core_store LIMIT 15\")\n",
    "cursor.execute(query)"
   ]
  },
  {
   "cell_type": "code",
   "execution_count": 10,
   "metadata": {},
   "outputs": [
    {
     "name": "stdout",
     "output_type": "stream",
     "text": [
      "Store ID: 0 and Code: admin \n",
      "Store ID: 2 and Code: api \n",
      "Store ID: 1 and Code: default \n"
     ]
    }
   ],
   "source": [
    "for (store_id, code) in cursor:\n",
    "    print(\"Store ID: {} and Code: {} \".format(store_id, code))"
   ]
  },
  {
   "cell_type": "code",
   "execution_count": 11,
   "metadata": {
    "collapsed": true
   },
   "outputs": [],
   "source": [
    "cursor.close()\n",
    "cnx.close()"
   ]
  },
  {
   "cell_type": "markdown",
   "metadata": {},
   "source": [
    "Check out this documentation for more details on how to use the module.\n",
    "\n",
    "https://dev.mysql.com/doc/connector-python/en/connector-python-example-cursor-select.html"
   ]
  }
 ],
 "metadata": {
  "anaconda-cloud": {},
  "kernelspec": {
   "display_name": "Python 3",
   "language": "python",
   "name": "python3"
  },
  "language_info": {
   "codemirror_mode": {
    "name": "ipython",
    "version": 3
   },
   "file_extension": ".py",
   "mimetype": "text/x-python",
   "name": "python",
   "nbconvert_exporter": "python",
   "pygments_lexer": "ipython3",
   "version": "3.6.3"
  }
 },
 "nbformat": 4,
 "nbformat_minor": 1
}
