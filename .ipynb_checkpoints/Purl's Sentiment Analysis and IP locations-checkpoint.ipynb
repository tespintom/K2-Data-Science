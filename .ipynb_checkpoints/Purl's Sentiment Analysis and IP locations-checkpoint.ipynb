{
 "cells": [
  {
   "cell_type": "code",
   "execution_count": 1,
   "metadata": {
    "collapsed": true
   },
   "outputs": [],
   "source": [
    "import pandas as pd \n",
    "import mysql.connector\n",
    "import io\n",
    "import numpy as np\n"
   ]
  },
  {
   "cell_type": "code",
   "execution_count": 2,
   "metadata": {
    "collapsed": true
   },
   "outputs": [],
   "source": [
    "conn = mysql.connector.connect(user='root', password='123456', host='127.0.0.1', \n",
    "                              database = 'purl_wordpress_to_anonimize')\n",
    "comments = pd.read_sql('SELECT * from jux0gx_comments', con=conn)\n"
   ]
  },
  {
   "cell_type": "code",
   "execution_count": 3,
   "metadata": {},
   "outputs": [
    {
     "data": {
      "text/html": [
       "<div>\n",
       "<style>\n",
       "    .dataframe thead tr:only-child th {\n",
       "        text-align: right;\n",
       "    }\n",
       "\n",
       "    .dataframe thead th {\n",
       "        text-align: left;\n",
       "    }\n",
       "\n",
       "    .dataframe tbody tr th {\n",
       "        vertical-align: top;\n",
       "    }\n",
       "</style>\n",
       "<table border=\"1\" class=\"dataframe\">\n",
       "  <thead>\n",
       "    <tr style=\"text-align: right;\">\n",
       "      <th></th>\n",
       "      <th>comment_ID</th>\n",
       "      <th>comment_post_ID</th>\n",
       "      <th>comment_author</th>\n",
       "      <th>comment_author_email</th>\n",
       "      <th>comment_author_url</th>\n",
       "      <th>comment_author_IP</th>\n",
       "      <th>comment_date</th>\n",
       "      <th>comment_date_gmt</th>\n",
       "      <th>comment_content</th>\n",
       "      <th>comment_karma</th>\n",
       "      <th>comment_approved</th>\n",
       "      <th>comment_agent</th>\n",
       "      <th>comment_type</th>\n",
       "      <th>comment_parent</th>\n",
       "      <th>user_id</th>\n",
       "    </tr>\n",
       "  </thead>\n",
       "  <tbody>\n",
       "    <tr>\n",
       "      <th>0</th>\n",
       "      <td>2</td>\n",
       "      <td>23</td>\n",
       "      <td>emily p</td>\n",
       "      <td></td>\n",
       "      <td></td>\n",
       "      <td>70.44.66.3</td>\n",
       "      <td>2014-07-24 12:54:46</td>\n",
       "      <td>2014-07-24 12:54:46</td>\n",
       "      <td>These are fantastic! I have been looking for s...</td>\n",
       "      <td>0</td>\n",
       "      <td>1</td>\n",
       "      <td></td>\n",
       "      <td></td>\n",
       "      <td>0</td>\n",
       "      <td>0</td>\n",
       "    </tr>\n",
       "    <tr>\n",
       "      <th>1</th>\n",
       "      <td>3</td>\n",
       "      <td>23</td>\n",
       "      <td>Lena</td>\n",
       "      <td>lena.mumen@gmail.com</td>\n",
       "      <td>http://www.mrsgarlichead.com</td>\n",
       "      <td>85.1.237.251</td>\n",
       "      <td>2014-07-24 13:24:02</td>\n",
       "      <td>2014-07-24 13:24:02</td>\n",
       "      <td>Oh these are lovely. I love the tulip hem, I h...</td>\n",
       "      <td>0</td>\n",
       "      <td>1</td>\n",
       "      <td></td>\n",
       "      <td></td>\n",
       "      <td>0</td>\n",
       "      <td>0</td>\n",
       "    </tr>\n",
       "    <tr>\n",
       "      <th>2</th>\n",
       "      <td>4</td>\n",
       "      <td>23</td>\n",
       "      <td>Katie</td>\n",
       "      <td></td>\n",
       "      <td></td>\n",
       "      <td>72.198.169.59</td>\n",
       "      <td>2014-07-24 15:33:46</td>\n",
       "      <td>2014-07-24 15:33:46</td>\n",
       "      <td>Love these shorts!! This may be a silly questi...</td>\n",
       "      <td>0</td>\n",
       "      <td>1</td>\n",
       "      <td></td>\n",
       "      <td></td>\n",
       "      <td>0</td>\n",
       "      <td>0</td>\n",
       "    </tr>\n",
       "    <tr>\n",
       "      <th>3</th>\n",
       "      <td>5</td>\n",
       "      <td>23</td>\n",
       "      <td>jessica</td>\n",
       "      <td></td>\n",
       "      <td></td>\n",
       "      <td>76.114.88.227</td>\n",
       "      <td>2014-07-24 15:46:05</td>\n",
       "      <td>2014-07-24 15:46:05</td>\n",
       "      <td>so sad, yet another pattern not big enough for...</td>\n",
       "      <td>0</td>\n",
       "      <td>1</td>\n",
       "      <td></td>\n",
       "      <td></td>\n",
       "      <td>0</td>\n",
       "      <td>0</td>\n",
       "    </tr>\n",
       "    <tr>\n",
       "      <th>4</th>\n",
       "      <td>6</td>\n",
       "      <td>23</td>\n",
       "      <td>Margo, Thrift at Home</td>\n",
       "      <td>thriftathome@gmail.com</td>\n",
       "      <td>http://thriftathome.blogspot.com</td>\n",
       "      <td>108.55.66.48</td>\n",
       "      <td>2014-07-24 18:19:31</td>\n",
       "      <td>2014-07-24 18:19:31</td>\n",
       "      <td>YES I am done with the gym!!! This year I&amp;#39;...</td>\n",
       "      <td>0</td>\n",
       "      <td>1</td>\n",
       "      <td></td>\n",
       "      <td></td>\n",
       "      <td>0</td>\n",
       "      <td>0</td>\n",
       "    </tr>\n",
       "  </tbody>\n",
       "</table>\n",
       "</div>"
      ],
      "text/plain": [
       "   comment_ID  comment_post_ID         comment_author    comment_author_email  \\\n",
       "0           2               23                emily p                           \n",
       "1           3               23                   Lena    lena.mumen@gmail.com   \n",
       "2           4               23                  Katie                           \n",
       "3           5               23                jessica                           \n",
       "4           6               23  Margo, Thrift at Home  thriftathome@gmail.com   \n",
       "\n",
       "                 comment_author_url comment_author_IP        comment_date  \\\n",
       "0                                          70.44.66.3 2014-07-24 12:54:46   \n",
       "1      http://www.mrsgarlichead.com      85.1.237.251 2014-07-24 13:24:02   \n",
       "2                                       72.198.169.59 2014-07-24 15:33:46   \n",
       "3                                       76.114.88.227 2014-07-24 15:46:05   \n",
       "4  http://thriftathome.blogspot.com      108.55.66.48 2014-07-24 18:19:31   \n",
       "\n",
       "     comment_date_gmt                                    comment_content  \\\n",
       "0 2014-07-24 12:54:46  These are fantastic! I have been looking for s...   \n",
       "1 2014-07-24 13:24:02  Oh these are lovely. I love the tulip hem, I h...   \n",
       "2 2014-07-24 15:33:46  Love these shorts!! This may be a silly questi...   \n",
       "3 2014-07-24 15:46:05  so sad, yet another pattern not big enough for...   \n",
       "4 2014-07-24 18:19:31  YES I am done with the gym!!! This year I&#39;...   \n",
       "\n",
       "   comment_karma comment_approved comment_agent comment_type  comment_parent  \\\n",
       "0              0                1                                          0   \n",
       "1              0                1                                          0   \n",
       "2              0                1                                          0   \n",
       "3              0                1                                          0   \n",
       "4              0                1                                          0   \n",
       "\n",
       "   user_id  \n",
       "0        0  \n",
       "1        0  \n",
       "2        0  \n",
       "3        0  \n",
       "4        0  "
      ]
     },
     "execution_count": 3,
     "metadata": {},
     "output_type": "execute_result"
    }
   ],
   "source": [
    "comments.head()\n"
   ]
  },
  {
   "cell_type": "code",
   "execution_count": 4,
   "metadata": {
    "collapsed": true
   },
   "outputs": [],
   "source": [
    "# close connection \n",
    "\n",
    "conn.close()"
   ]
  },
  {
   "cell_type": "code",
   "execution_count": 5,
   "metadata": {},
   "outputs": [
    {
     "name": "stdout",
     "output_type": "stream",
     "text": [
      "<class 'pandas.core.frame.DataFrame'>\n",
      "RangeIndex: 52845 entries, 0 to 52844\n",
      "Data columns (total 15 columns):\n",
      "comment_ID              52845 non-null int64\n",
      "comment_post_ID         52845 non-null int64\n",
      "comment_author          52845 non-null object\n",
      "comment_author_email    52845 non-null object\n",
      "comment_author_url      52845 non-null object\n",
      "comment_author_IP       52845 non-null object\n",
      "comment_date            52704 non-null datetime64[ns]\n",
      "comment_date_gmt        52698 non-null datetime64[ns]\n",
      "comment_content         52845 non-null object\n",
      "comment_karma           52845 non-null int64\n",
      "comment_approved        52845 non-null object\n",
      "comment_agent           52845 non-null object\n",
      "comment_type            52845 non-null object\n",
      "comment_parent          52845 non-null int64\n",
      "user_id                 52845 non-null int64\n",
      "dtypes: datetime64[ns](2), int64(5), object(8)\n",
      "memory usage: 6.0+ MB\n"
     ]
    }
   ],
   "source": [
    "comments.info()"
   ]
  },
  {
   "cell_type": "code",
   "execution_count": null,
   "metadata": {
    "collapsed": true
   },
   "outputs": [],
   "source": []
  },
  {
   "cell_type": "code",
   "execution_count": 6,
   "metadata": {},
   "outputs": [
    {
     "data": {
      "text/plain": [
       "array(['1', 'post-trashed', 'trash', '0', 'spam'], dtype=object)"
      ]
     },
     "execution_count": 6,
     "metadata": {},
     "output_type": "execute_result"
    }
   ],
   "source": [
    "comments['comment_approved'].unique()"
   ]
  },
  {
   "cell_type": "code",
   "execution_count": 7,
   "metadata": {},
   "outputs": [
    {
     "name": "stdout",
     "output_type": "stream",
     "text": [
      "comment_approved\n",
      "0                  19\n",
      "1               52363\n",
      "post-trashed        6\n",
      "spam              193\n",
      "trash             264\n",
      "dtype: int64\n"
     ]
    }
   ],
   "source": [
    "print(comments.groupby('comment_approved').size())"
   ]
  },
  {
   "cell_type": "code",
   "execution_count": 8,
   "metadata": {},
   "outputs": [
    {
     "data": {
      "image/png": "[encoded data removed]",
      "text/plain": [
       "<matplotlib.figure.Figure at 0x1160400f0>"
      ]
     },
     "metadata": {},
     "output_type": "display_data"
    }
   ],
   "source": [
    "import matplotlib.pyplot as plt\n",
    "%matplotlib inline\n",
    "import seaborn as sns \n",
    "sns.countplot(comments['comment_approved'], label='Count')\n",
    "plt.show()"
   ]
  },
  {
   "cell_type": "code",
   "execution_count": 9,
   "metadata": {
    "collapsed": true
   },
   "outputs": [],
   "source": [
    "# Lets visualize missing values:\n",
    "\n",
    "import missingno as msno\n"
   ]
  },
  {
   "cell_type": "code",
   "execution_count": 10,
   "metadata": {},
   "outputs": [
    {
     "data": {
      "image/png": "[encoded data removed]",
      "text/plain": [
       "<matplotlib.figure.Figure at 0x114c4f048>"
      ]
     },
     "metadata": {},
     "output_type": "display_data"
    }
   ],
   "source": [
    "msno.matrix(comments)"
   ]
  },
  {
   "cell_type": "code",
   "execution_count": 11,
   "metadata": {},
   "outputs": [
    {
     "data": {
      "image/png": "[encoded data removed]",
      "text/plain": [
       "<matplotlib.figure.Figure at 0x112486358>"
      ]
     },
     "metadata": {},
     "output_type": "display_data"
    }
   ],
   "source": [
    "msno.bar(comments)"
   ]
  },
  {
   "cell_type": "code",
   "execution_count": 12,
   "metadata": {},
   "outputs": [
    {
     "data": {
      "text/plain": [
       "array(['', 'pingback'], dtype=object)"
      ]
     },
     "execution_count": 12,
     "metadata": {},
     "output_type": "execute_result"
    }
   ],
   "source": [
    "comments.comment_type.unique()"
   ]
  },
  {
   "cell_type": "code",
   "execution_count": 13,
   "metadata": {},
   "outputs": [
    {
     "data": {
      "text/html": [
       "<div>\n",
       "<style>\n",
       "    .dataframe thead tr:only-child th {\n",
       "        text-align: right;\n",
       "    }\n",
       "\n",
       "    .dataframe thead th {\n",
       "        text-align: left;\n",
       "    }\n",
       "\n",
       "    .dataframe tbody tr th {\n",
       "        vertical-align: top;\n",
       "    }\n",
       "</style>\n",
       "<table border=\"1\" class=\"dataframe\">\n",
       "  <thead>\n",
       "    <tr style=\"text-align: right;\">\n",
       "      <th></th>\n",
       "      <th>comment_ID</th>\n",
       "      <th>comment_post_ID</th>\n",
       "      <th>comment_author</th>\n",
       "      <th>comment_author_email</th>\n",
       "      <th>comment_author_url</th>\n",
       "      <th>comment_author_IP</th>\n",
       "      <th>comment_date</th>\n",
       "      <th>comment_date_gmt</th>\n",
       "      <th>comment_content</th>\n",
       "      <th>comment_karma</th>\n",
       "      <th>comment_approved</th>\n",
       "      <th>comment_agent</th>\n",
       "      <th>comment_parent</th>\n",
       "      <th>user_id</th>\n",
       "    </tr>\n",
       "    <tr>\n",
       "      <th>comment_type</th>\n",
       "      <th></th>\n",
       "      <th></th>\n",
       "      <th></th>\n",
       "      <th></th>\n",
       "      <th></th>\n",
       "      <th></th>\n",
       "      <th></th>\n",
       "      <th></th>\n",
       "      <th></th>\n",
       "      <th></th>\n",
       "      <th></th>\n",
       "      <th></th>\n",
       "      <th></th>\n",
       "      <th></th>\n",
       "    </tr>\n",
       "  </thead>\n",
       "  <tbody>\n",
       "    <tr>\n",
       "      <th></th>\n",
       "      <td>52794</td>\n",
       "      <td>52794</td>\n",
       "      <td>52794</td>\n",
       "      <td>52794</td>\n",
       "      <td>52794</td>\n",
       "      <td>52794</td>\n",
       "      <td>52653</td>\n",
       "      <td>52647</td>\n",
       "      <td>52794</td>\n",
       "      <td>52794</td>\n",
       "      <td>52794</td>\n",
       "      <td>52794</td>\n",
       "      <td>52794</td>\n",
       "      <td>52794</td>\n",
       "    </tr>\n",
       "    <tr>\n",
       "      <th>pingback</th>\n",
       "      <td>51</td>\n",
       "      <td>51</td>\n",
       "      <td>51</td>\n",
       "      <td>51</td>\n",
       "      <td>51</td>\n",
       "      <td>51</td>\n",
       "      <td>51</td>\n",
       "      <td>51</td>\n",
       "      <td>51</td>\n",
       "      <td>51</td>\n",
       "      <td>51</td>\n",
       "      <td>51</td>\n",
       "      <td>51</td>\n",
       "      <td>51</td>\n",
       "    </tr>\n",
       "  </tbody>\n",
       "</table>\n",
       "</div>"
      ],
      "text/plain": [
       "              comment_ID  comment_post_ID  comment_author  \\\n",
       "comment_type                                                \n",
       "                   52794            52794           52794   \n",
       "pingback              51               51              51   \n",
       "\n",
       "              comment_author_email  comment_author_url  comment_author_IP  \\\n",
       "comment_type                                                                \n",
       "                             52794               52794              52794   \n",
       "pingback                        51                  51                 51   \n",
       "\n",
       "              comment_date  comment_date_gmt  comment_content  comment_karma  \\\n",
       "comment_type                                                                   \n",
       "                     52653             52647            52794          52794   \n",
       "pingback                51                51               51             51   \n",
       "\n",
       "              comment_approved  comment_agent  comment_parent  user_id  \n",
       "comment_type                                                            \n",
       "                         52794          52794           52794    52794  \n",
       "pingback                    51             51              51       51  "
      ]
     },
     "execution_count": 13,
     "metadata": {},
     "output_type": "execute_result"
    }
   ],
   "source": [
    "comments.groupby('comment_type').count()"
   ]
  },
  {
   "cell_type": "code",
   "execution_count": 14,
   "metadata": {},
   "outputs": [
    {
     "data": {
      "text/plain": [
       "comment_ID              3913\n",
       "comment_post_ID         3913\n",
       "comment_author          3913\n",
       "comment_author_email    3913\n",
       "comment_author_url      3913\n",
       "comment_author_IP       3913\n",
       "comment_date            3911\n",
       "comment_date_gmt        3911\n",
       "comment_content         3913\n",
       "comment_karma           3913\n",
       "comment_approved        3913\n",
       "comment_agent           3913\n",
       "comment_type            3913\n",
       "comment_parent          3913\n",
       "user_id                 3913\n",
       "dtype: int64"
      ]
     },
     "execution_count": 14,
     "metadata": {},
     "output_type": "execute_result"
    }
   ],
   "source": [
    "# find out how many response by purl bee\n",
    "comments[comments['comment_author'] == 'purl bee'].count()"
   ]
  },
  {
   "cell_type": "code",
   "execution_count": 15,
   "metadata": {},
   "outputs": [
    {
     "data": {
      "text/plain": [
       "comment_post_ID\n",
       "0          1\n",
       "19         4\n",
       "23       170\n",
       "43        15\n",
       "49        59\n",
       "61        64\n",
       "89        28\n",
       "100       21\n",
       "114       44\n",
       "130       33\n",
       "141      224\n",
       "157       24\n",
       "163        1\n",
       "167        8\n",
       "172       57\n",
       "194       50\n",
       "207       19\n",
       "222       33\n",
       "249       32\n",
       "269       44\n",
       "273       17\n",
       "286      192\n",
       "297       11\n",
       "312       17\n",
       "320       29\n",
       "326       17\n",
       "347       53\n",
       "384       27\n",
       "399      289\n",
       "412       70\n",
       "        ... \n",
       "42623     30\n",
       "42811      2\n",
       "42868     38\n",
       "43238      4\n",
       "43240     51\n",
       "43245     12\n",
       "43304     31\n",
       "43317     10\n",
       "43320     11\n",
       "43358     38\n",
       "43479     40\n",
       "43491    138\n",
       "43531     13\n",
       "43579      6\n",
       "43657      2\n",
       "43660      5\n",
       "43662     21\n",
       "44015    146\n",
       "44089     77\n",
       "44145      8\n",
       "44322     43\n",
       "44344      5\n",
       "44853     22\n",
       "45044     36\n",
       "45122      2\n",
       "45241      2\n",
       "45246      1\n",
       "45327     26\n",
       "45530      2\n",
       "45604     12\n",
       "Length: 1124, dtype: int64"
      ]
     },
     "execution_count": 15,
     "metadata": {},
     "output_type": "execute_result"
    }
   ],
   "source": [
    "comments.groupby('comment_post_ID').size()"
   ]
  },
  {
   "cell_type": "code",
   "execution_count": 16,
   "metadata": {},
   "outputs": [
    {
     "data": {
      "text/plain": [
       "0     39541\n",
       "27     2754\n",
       "32     2312\n",
       "3      1520\n",
       "2      1224\n",
       "26      959\n",
       "23      907\n",
       "21      733\n",
       "36      564\n",
       "6       464\n",
       "15      409\n",
       "19      399\n",
       "8       371\n",
       "7       242\n",
       "37      140\n",
       "40      114\n",
       "33       57\n",
       "31       53\n",
       "28       46\n",
       "5        32\n",
       "14        4\n",
       "Name: user_id, dtype: int64"
      ]
     },
     "execution_count": 16,
     "metadata": {},
     "output_type": "execute_result"
    }
   ],
   "source": [
    "comments.user_id.value_counts()"
   ]
  },
  {
   "cell_type": "code",
   "execution_count": 17,
   "metadata": {
    "collapsed": true
   },
   "outputs": [],
   "source": [
    "# lets drop columns we don't need\n",
    "columns = ['comment_karma', 'comment_agent', 'comment_type', 'comment_parent', 'user_id']\n",
    "cleaned_comments = comments.drop(columns, axis=1)"
   ]
  },
  {
   "cell_type": "code",
   "execution_count": 18,
   "metadata": {
    "collapsed": true
   },
   "outputs": [],
   "source": [
    "# get rid of spam comments\n",
    "spam = ['0', 'post-trashed', 'spam', 'trash']\n",
    "cleaned_comments = cleaned_comments[cleaned_comments.comment_approved != '0']\n"
   ]
  },
  {
   "cell_type": "code",
   "execution_count": 19,
   "metadata": {
    "collapsed": true
   },
   "outputs": [],
   "source": [
    "cleaned_comments = cleaned_comments[cleaned_comments.comment_approved != 'post-trashed']\n"
   ]
  },
  {
   "cell_type": "code",
   "execution_count": 20,
   "metadata": {
    "collapsed": true
   },
   "outputs": [],
   "source": [
    "cleaned_comments = cleaned_comments[cleaned_comments.comment_approved != 'spam']\n"
   ]
  },
  {
   "cell_type": "code",
   "execution_count": 21,
   "metadata": {
    "collapsed": true
   },
   "outputs": [],
   "source": [
    "cleaned_comments = cleaned_comments[cleaned_comments.comment_approved != 'trash']\n"
   ]
  },
  {
   "cell_type": "code",
   "execution_count": 22,
   "metadata": {},
   "outputs": [
    {
     "name": "stdout",
     "output_type": "stream",
     "text": [
      "<class 'pandas.core.frame.DataFrame'>\n",
      "Int64Index: 52363 entries, 0 to 52829\n",
      "Data columns (total 10 columns):\n",
      "comment_ID              52363 non-null int64\n",
      "comment_post_ID         52363 non-null int64\n",
      "comment_author          52363 non-null object\n",
      "comment_author_email    52363 non-null object\n",
      "comment_author_url      52363 non-null object\n",
      "comment_author_IP       52363 non-null object\n",
      "comment_date            52222 non-null datetime64[ns]\n",
      "comment_date_gmt        52216 non-null datetime64[ns]\n",
      "comment_content         52363 non-null object\n",
      "comment_approved        52363 non-null object\n",
      "dtypes: datetime64[ns](2), int64(2), object(6)\n",
      "memory usage: 4.4+ MB\n"
     ]
    }
   ],
   "source": [
    "cleaned_comments.info()"
   ]
  },
  {
   "cell_type": "code",
   "execution_count": 23,
   "metadata": {},
   "outputs": [
    {
     "data": {
      "text/html": [
       "<div>\n",
       "<style>\n",
       "    .dataframe thead tr:only-child th {\n",
       "        text-align: right;\n",
       "    }\n",
       "\n",
       "    .dataframe thead th {\n",
       "        text-align: left;\n",
       "    }\n",
       "\n",
       "    .dataframe tbody tr th {\n",
       "        vertical-align: top;\n",
       "    }\n",
       "</style>\n",
       "<table border=\"1\" class=\"dataframe\">\n",
       "  <thead>\n",
       "    <tr style=\"text-align: right;\">\n",
       "      <th></th>\n",
       "      <th>comment_ID</th>\n",
       "      <th>comment_post_ID</th>\n",
       "      <th>comment_author</th>\n",
       "      <th>comment_author_email</th>\n",
       "      <th>comment_author_url</th>\n",
       "      <th>comment_author_IP</th>\n",
       "      <th>comment_date</th>\n",
       "      <th>comment_date_gmt</th>\n",
       "      <th>comment_content</th>\n",
       "      <th>comment_approved</th>\n",
       "    </tr>\n",
       "  </thead>\n",
       "  <tbody>\n",
       "    <tr>\n",
       "      <th>0</th>\n",
       "      <td>2</td>\n",
       "      <td>23</td>\n",
       "      <td>emily p</td>\n",
       "      <td></td>\n",
       "      <td></td>\n",
       "      <td>70.44.66.3</td>\n",
       "      <td>2014-07-24 12:54:46</td>\n",
       "      <td>2014-07-24 12:54:46</td>\n",
       "      <td>These are fantastic! I have been looking for s...</td>\n",
       "      <td>1</td>\n",
       "    </tr>\n",
       "    <tr>\n",
       "      <th>1</th>\n",
       "      <td>3</td>\n",
       "      <td>23</td>\n",
       "      <td>Lena</td>\n",
       "      <td>lena.mumen@gmail.com</td>\n",
       "      <td>http://www.mrsgarlichead.com</td>\n",
       "      <td>85.1.237.251</td>\n",
       "      <td>2014-07-24 13:24:02</td>\n",
       "      <td>2014-07-24 13:24:02</td>\n",
       "      <td>Oh these are lovely. I love the tulip hem, I h...</td>\n",
       "      <td>1</td>\n",
       "    </tr>\n",
       "    <tr>\n",
       "      <th>2</th>\n",
       "      <td>4</td>\n",
       "      <td>23</td>\n",
       "      <td>Katie</td>\n",
       "      <td></td>\n",
       "      <td></td>\n",
       "      <td>72.198.169.59</td>\n",
       "      <td>2014-07-24 15:33:46</td>\n",
       "      <td>2014-07-24 15:33:46</td>\n",
       "      <td>Love these shorts!! This may be a silly questi...</td>\n",
       "      <td>1</td>\n",
       "    </tr>\n",
       "    <tr>\n",
       "      <th>3</th>\n",
       "      <td>5</td>\n",
       "      <td>23</td>\n",
       "      <td>jessica</td>\n",
       "      <td></td>\n",
       "      <td></td>\n",
       "      <td>76.114.88.227</td>\n",
       "      <td>2014-07-24 15:46:05</td>\n",
       "      <td>2014-07-24 15:46:05</td>\n",
       "      <td>so sad, yet another pattern not big enough for...</td>\n",
       "      <td>1</td>\n",
       "    </tr>\n",
       "    <tr>\n",
       "      <th>4</th>\n",
       "      <td>6</td>\n",
       "      <td>23</td>\n",
       "      <td>Margo, Thrift at Home</td>\n",
       "      <td>thriftathome@gmail.com</td>\n",
       "      <td>http://thriftathome.blogspot.com</td>\n",
       "      <td>108.55.66.48</td>\n",
       "      <td>2014-07-24 18:19:31</td>\n",
       "      <td>2014-07-24 18:19:31</td>\n",
       "      <td>YES I am done with the gym!!! This year I&amp;#39;...</td>\n",
       "      <td>1</td>\n",
       "    </tr>\n",
       "  </tbody>\n",
       "</table>\n",
       "</div>"
      ],
      "text/plain": [
       "   comment_ID  comment_post_ID         comment_author    comment_author_email  \\\n",
       "0           2               23                emily p                           \n",
       "1           3               23                   Lena    lena.mumen@gmail.com   \n",
       "2           4               23                  Katie                           \n",
       "3           5               23                jessica                           \n",
       "4           6               23  Margo, Thrift at Home  thriftathome@gmail.com   \n",
       "\n",
       "                 comment_author_url comment_author_IP        comment_date  \\\n",
       "0                                          70.44.66.3 2014-07-24 12:54:46   \n",
       "1      http://www.mrsgarlichead.com      85.1.237.251 2014-07-24 13:24:02   \n",
       "2                                       72.198.169.59 2014-07-24 15:33:46   \n",
       "3                                       76.114.88.227 2014-07-24 15:46:05   \n",
       "4  http://thriftathome.blogspot.com      108.55.66.48 2014-07-24 18:19:31   \n",
       "\n",
       "     comment_date_gmt                                    comment_content  \\\n",
       "0 2014-07-24 12:54:46  These are fantastic! I have been looking for s...   \n",
       "1 2014-07-24 13:24:02  Oh these are lovely. I love the tulip hem, I h...   \n",
       "2 2014-07-24 15:33:46  Love these shorts!! This may be a silly questi...   \n",
       "3 2014-07-24 15:46:05  so sad, yet another pattern not big enough for...   \n",
       "4 2014-07-24 18:19:31  YES I am done with the gym!!! This year I&#39;...   \n",
       "\n",
       "  comment_approved  \n",
       "0                1  \n",
       "1                1  \n",
       "2                1  \n",
       "3                1  \n",
       "4                1  "
      ]
     },
     "execution_count": 23,
     "metadata": {},
     "output_type": "execute_result"
    }
   ],
   "source": [
    "cleaned_comments.head()"
   ]
  },
  {
   "cell_type": "code",
   "execution_count": 24,
   "metadata": {},
   "outputs": [
    {
     "data": {
      "text/plain": [
       "array(['1'], dtype=object)"
      ]
     },
     "execution_count": 24,
     "metadata": {},
     "output_type": "execute_result"
    }
   ],
   "source": [
    "cleaned_comments.comment_approved.unique()"
   ]
  },
  {
   "cell_type": "code",
   "execution_count": 25,
   "metadata": {
    "collapsed": true
   },
   "outputs": [],
   "source": [
    "# lets removed rows that contain response to each of the comments: \n",
    "\n",
    "comment_wo_response = cleaned_comments[cleaned_comments.comment_author != 'purl bee']"
   ]
  },
  {
   "cell_type": "code",
   "execution_count": 26,
   "metadata": {},
   "outputs": [
    {
     "data": {
      "text/plain": [
       "comment_ID              48450\n",
       "comment_post_ID         48450\n",
       "comment_author          48450\n",
       "comment_author_email    48450\n",
       "comment_author_url      48450\n",
       "comment_author_IP       48450\n",
       "comment_date            48311\n",
       "comment_date_gmt        48305\n",
       "comment_content         48450\n",
       "comment_approved        48450\n",
       "dtype: int64"
      ]
     },
     "execution_count": 26,
     "metadata": {},
     "output_type": "execute_result"
    }
   ],
   "source": [
    "comment_wo_response.count()"
   ]
  },
  {
   "cell_type": "code",
   "execution_count": 27,
   "metadata": {},
   "outputs": [
    {
     "data": {
      "text/html": [
       "<div>\n",
       "<style>\n",
       "    .dataframe thead tr:only-child th {\n",
       "        text-align: right;\n",
       "    }\n",
       "\n",
       "    .dataframe thead th {\n",
       "        text-align: left;\n",
       "    }\n",
       "\n",
       "    .dataframe tbody tr th {\n",
       "        vertical-align: top;\n",
       "    }\n",
       "</style>\n",
       "<table border=\"1\" class=\"dataframe\">\n",
       "  <thead>\n",
       "    <tr style=\"text-align: right;\">\n",
       "      <th></th>\n",
       "      <th>comment_ID</th>\n",
       "      <th>comment_post_ID</th>\n",
       "      <th>comment_author</th>\n",
       "      <th>comment_author_email</th>\n",
       "      <th>comment_author_url</th>\n",
       "      <th>comment_author_IP</th>\n",
       "      <th>comment_date</th>\n",
       "      <th>comment_date_gmt</th>\n",
       "      <th>comment_content</th>\n",
       "      <th>comment_approved</th>\n",
       "    </tr>\n",
       "  </thead>\n",
       "  <tbody>\n",
       "    <tr>\n",
       "      <th>0</th>\n",
       "      <td>2</td>\n",
       "      <td>23</td>\n",
       "      <td>emily p</td>\n",
       "      <td></td>\n",
       "      <td></td>\n",
       "      <td>70.44.66.3</td>\n",
       "      <td>2014-07-24 12:54:46</td>\n",
       "      <td>2014-07-24 12:54:46</td>\n",
       "      <td>These are fantastic! I have been looking for s...</td>\n",
       "      <td>1</td>\n",
       "    </tr>\n",
       "    <tr>\n",
       "      <th>1</th>\n",
       "      <td>3</td>\n",
       "      <td>23</td>\n",
       "      <td>Lena</td>\n",
       "      <td>lena.mumen@gmail.com</td>\n",
       "      <td>http://www.mrsgarlichead.com</td>\n",
       "      <td>85.1.237.251</td>\n",
       "      <td>2014-07-24 13:24:02</td>\n",
       "      <td>2014-07-24 13:24:02</td>\n",
       "      <td>Oh these are lovely. I love the tulip hem, I h...</td>\n",
       "      <td>1</td>\n",
       "    </tr>\n",
       "    <tr>\n",
       "      <th>2</th>\n",
       "      <td>4</td>\n",
       "      <td>23</td>\n",
       "      <td>Katie</td>\n",
       "      <td></td>\n",
       "      <td></td>\n",
       "      <td>72.198.169.59</td>\n",
       "      <td>2014-07-24 15:33:46</td>\n",
       "      <td>2014-07-24 15:33:46</td>\n",
       "      <td>Love these shorts!! This may be a silly questi...</td>\n",
       "      <td>1</td>\n",
       "    </tr>\n",
       "    <tr>\n",
       "      <th>3</th>\n",
       "      <td>5</td>\n",
       "      <td>23</td>\n",
       "      <td>jessica</td>\n",
       "      <td></td>\n",
       "      <td></td>\n",
       "      <td>76.114.88.227</td>\n",
       "      <td>2014-07-24 15:46:05</td>\n",
       "      <td>2014-07-24 15:46:05</td>\n",
       "      <td>so sad, yet another pattern not big enough for...</td>\n",
       "      <td>1</td>\n",
       "    </tr>\n",
       "    <tr>\n",
       "      <th>4</th>\n",
       "      <td>6</td>\n",
       "      <td>23</td>\n",
       "      <td>Margo, Thrift at Home</td>\n",
       "      <td>thriftathome@gmail.com</td>\n",
       "      <td>http://thriftathome.blogspot.com</td>\n",
       "      <td>108.55.66.48</td>\n",
       "      <td>2014-07-24 18:19:31</td>\n",
       "      <td>2014-07-24 18:19:31</td>\n",
       "      <td>YES I am done with the gym!!! This year I&amp;#39;...</td>\n",
       "      <td>1</td>\n",
       "    </tr>\n",
       "  </tbody>\n",
       "</table>\n",
       "</div>"
      ],
      "text/plain": [
       "   comment_ID  comment_post_ID         comment_author    comment_author_email  \\\n",
       "0           2               23                emily p                           \n",
       "1           3               23                   Lena    lena.mumen@gmail.com   \n",
       "2           4               23                  Katie                           \n",
       "3           5               23                jessica                           \n",
       "4           6               23  Margo, Thrift at Home  thriftathome@gmail.com   \n",
       "\n",
       "                 comment_author_url comment_author_IP        comment_date  \\\n",
       "0                                          70.44.66.3 2014-07-24 12:54:46   \n",
       "1      http://www.mrsgarlichead.com      85.1.237.251 2014-07-24 13:24:02   \n",
       "2                                       72.198.169.59 2014-07-24 15:33:46   \n",
       "3                                       76.114.88.227 2014-07-24 15:46:05   \n",
       "4  http://thriftathome.blogspot.com      108.55.66.48 2014-07-24 18:19:31   \n",
       "\n",
       "     comment_date_gmt                                    comment_content  \\\n",
       "0 2014-07-24 12:54:46  These are fantastic! I have been looking for s...   \n",
       "1 2014-07-24 13:24:02  Oh these are lovely. I love the tulip hem, I h...   \n",
       "2 2014-07-24 15:33:46  Love these shorts!! This may be a silly questi...   \n",
       "3 2014-07-24 15:46:05  so sad, yet another pattern not big enough for...   \n",
       "4 2014-07-24 18:19:31  YES I am done with the gym!!! This year I&#39;...   \n",
       "\n",
       "  comment_approved  \n",
       "0                1  \n",
       "1                1  \n",
       "2                1  \n",
       "3                1  \n",
       "4                1  "
      ]
     },
     "execution_count": 27,
     "metadata": {},
     "output_type": "execute_result"
    }
   ],
   "source": [
    "comment_wo_response.head()"
   ]
  },
  {
   "cell_type": "code",
   "execution_count": 28,
   "metadata": {},
   "outputs": [
    {
     "name": "stdout",
     "output_type": "stream",
     "text": [
      "{'These': True, 'are': True, 'fantastic': True, '!': True, 'I': True, 'have': True, 'been': True, 'looking': True, 'for': True, 'something': True, 'like': True, 'this': True, 'to': True, 'use': True, 'my': True, 'herring': True, 'bone': True, 'chambray': True, 'and': True, 'pajama': True, 'shorts': True, 'too': True, 'Thank': True, 'you': True}\n",
      "{'so': True, 'sad': True, ',': True, 'yet': True, 'another': True, 'pattern': True, 'not': True, 'big': True, 'enough': True, 'for': True, 'this': True, 'fat': True, 'girl': True, ':': True, '(': True}\n"
     ]
    }
   ],
   "source": [
    "# find positive and Negative Comments:\n",
    "\n",
    "import nltk\n",
    "\n",
    "def format_comment(comment):\n",
    "    return ({word: True for word in nltk.word_tokenize(comment)})\n",
    "\n",
    "print(format_comment('These are fantastic! I have been looking for something like this to use my herring bone chambray and pajama shorts too ! Thank you!'))\n",
    "print(format_comment('so sad, yet another pattern not big enough for this fat girl :('))"
   ]
  },
  {
   "cell_type": "code",
   "execution_count": 29,
   "metadata": {
    "collapsed": true
   },
   "outputs": [],
   "source": [
    "# pos = []\n",
    "# content = comment_wo_response.comment_content\n",
    "# for i in content:\n",
    "#     pos.append([format_comment(i), 'pos'])"
   ]
  },
  {
   "cell_type": "code",
   "execution_count": 98,
   "metadata": {
    "collapsed": true
   },
   "outputs": [],
   "source": [
    "neg = []\n",
    "content = comment_wo_response.comment_content\n",
    "for i in content:\n",
    "    neg.append([format_comment(i), 'neg'])"
   ]
  },
  {
   "cell_type": "code",
   "execution_count": 62,
   "metadata": {
    "collapsed": true
   },
   "outputs": [],
   "source": [
    "# training = pos[:int((.8)*len(pos))] + neg[:int((.8)*len(neg))]\n",
    "# test = pos[int((.8)*len(pos)):] + neg[int((.8)*len(neg)):]"
   ]
  },
  {
   "cell_type": "code",
   "execution_count": 63,
   "metadata": {
    "collapsed": true
   },
   "outputs": [],
   "source": [
    "# from nltk.classify import NaiveBayesClassifier\n",
    "\n",
    "# classifier = NaiveBayesClassifier.train(training)"
   ]
  },
  {
   "cell_type": "code",
   "execution_count": 64,
   "metadata": {
    "collapsed": true
   },
   "outputs": [],
   "source": [
    "# classifier.show_most_informative_features()"
   ]
  },
  {
   "cell_type": "code",
   "execution_count": 65,
   "metadata": {
    "collapsed": true
   },
   "outputs": [],
   "source": [
    "# example1 = \"Cats are awesome!\"\n",
    " \n",
    "# print(classifier.classify(format_comment(example1)))"
   ]
  },
  {
   "cell_type": "code",
   "execution_count": 66,
   "metadata": {
    "collapsed": true
   },
   "outputs": [],
   "source": [
    "# example2 = 'so sad, yet another pattern not big enough for this fat girl :('\n",
    " \n",
    "# print(classifier.classify(format_comment(example2)))"
   ]
  },
  {
   "cell_type": "code",
   "execution_count": 67,
   "metadata": {
    "collapsed": true
   },
   "outputs": [],
   "source": [
    "# example3 = \"I have no headache!\"\n",
    " \n",
    "# print(classifier.classify(format_comment(example3)))"
   ]
  },
  {
   "cell_type": "code",
   "execution_count": 68,
   "metadata": {
    "collapsed": true
   },
   "outputs": [],
   "source": [
    "# from nltk.classify.util import accuracy\n",
    "# print(accuracy(classifier, test))"
   ]
  },
  {
   "cell_type": "code",
   "execution_count": 38,
   "metadata": {
    "collapsed": true
   },
   "outputs": [],
   "source": [
    "# using Aylie sentiment\n",
    "\n",
    "from aylienapiclient import textapi\n",
    "\n",
    "client = textapi.Client('ae1e6cbb', 'd92147c68a7d349573cdf8d551fb6e21')"
   ]
  },
  {
   "cell_type": "code",
   "execution_count": 39,
   "metadata": {},
   "outputs": [
    {
     "name": "stdout",
     "output_type": "stream",
     "text": [
      "{'polarity': 'positive', 'subjectivity': 'subjective', 'text': 'These are fantastic! I have been looking for something like this to use my herring bone chambray and pajama shorts too ! Thank you!', 'polarity_confidence': 0.9783152341842651, 'subjectivity_confidence': 1.0}\n"
     ]
    }
   ],
   "source": [
    "text = 'These are fantastic! I have been looking for something like this to use my herring bone chambray and pajama shorts too ! Thank you!'\n",
    "sentiment = client.Sentiment({'text': text})\n",
    "print(sentiment)"
   ]
  },
  {
   "cell_type": "code",
   "execution_count": 40,
   "metadata": {
    "collapsed": true
   },
   "outputs": [],
   "source": [
    "text = comment_wo_response['comment_content'][3:4].values\n",
    "sentiment = client.Sentiment({'text':text})\n"
   ]
  },
  {
   "cell_type": "code",
   "execution_count": 41,
   "metadata": {},
   "outputs": [
    {
     "data": {
      "text/plain": [
       "dict_values(['negative', 'subjective', \"['so sad, yet another pattern not big enough for this fat girl :(']\", 0.9630195498466492, 0.9999999999999851])"
      ]
     },
     "execution_count": 41,
     "metadata": {},
     "output_type": "execute_result"
    }
   ],
   "source": [
    "sentiment.values()"
   ]
  },
  {
   "cell_type": "code",
   "execution_count": 158,
   "metadata": {},
   "outputs": [
    {
     "data": {
      "text/plain": [
       "'negative'"
      ]
     },
     "execution_count": 158,
     "metadata": {},
     "output_type": "execute_result"
    }
   ],
   "source": [
    "sentiment['polarity']"
   ]
  },
  {
   "cell_type": "code",
   "execution_count": 69,
   "metadata": {},
   "outputs": [
    {
     "name": "stdout",
     "output_type": "stream",
     "text": [
      "['__add__', '__class__', '__contains__', '__delattr__', '__dir__', '__doc__', '__eq__', '__format__', '__ge__', '__getattribute__', '__getitem__', '__getnewargs__', '__gt__', '__hash__', '__init__', '__init_subclass__', '__iter__', '__le__', '__len__', '__lt__', '__mod__', '__mul__', '__ne__', '__new__', '__reduce__', '__reduce_ex__', '__repr__', '__rmod__', '__rmul__', '__setattr__', '__sizeof__', '__str__', '__subclasshook__', 'capitalize', 'casefold', 'center', 'count', 'encode', 'endswith', 'expandtabs', 'find', 'format', 'format_map', 'index', 'isalnum', 'isalpha', 'isdecimal', 'isdigit', 'isidentifier', 'islower', 'isnumeric', 'isprintable', 'isspace', 'istitle', 'isupper', 'join', 'ljust', 'lower', 'lstrip', 'maketrans', 'partition', 'replace', 'rfind', 'rindex', 'rjust', 'rpartition', 'rsplit', 'rstrip', 'split', 'splitlines', 'startswith', 'strip', 'swapcase', 'title', 'translate', 'upper', 'zfill']\n"
     ]
    }
   ],
   "source": [
    "print(dir(comment_wo_response['comment_content'][0]))"
   ]
  },
  {
   "cell_type": "code",
   "execution_count": null,
   "metadata": {
    "collapsed": true
   },
   "outputs": [],
   "source": []
  },
  {
   "cell_type": "code",
   "execution_count": null,
   "metadata": {
    "collapsed": true
   },
   "outputs": [],
   "source": []
  },
  {
   "cell_type": "code",
   "execution_count": null,
   "metadata": {
    "collapsed": true
   },
   "outputs": [],
   "source": []
  },
  {
   "cell_type": "code",
   "execution_count": null,
   "metadata": {
    "collapsed": true
   },
   "outputs": [],
   "source": []
  },
  {
   "cell_type": "code",
   "execution_count": 87,
   "metadata": {
    "collapsed": true
   },
   "outputs": [],
   "source": [
    "from textblob import TextBlob\n",
    "import re\n",
    "\n",
    "comment = comment_wo_response.comment_content\n",
    "\n",
    "def clean_comment(comment):\n",
    "    return ' '.join(re.sub(\"(@[A-Za-z0-9]+)|([^0-9A-Za-z \\t])|(\\w+:\\/\\/\\S+)\", \" \", comment).split())\n",
    "\n",
    "def sentiment_analysis(comment):\n",
    "    analysis = TextBlob(clean_comment(comment))\n",
    "    if analysis.sentiment.polarity > 0:\n",
    "        return 1\n",
    "    elif analysis.sentiment.polarity == 0:\n",
    "        return 0\n",
    "    else:\n",
    "        return -1\n"
   ]
  },
  {
   "cell_type": "code",
   "execution_count": 88,
   "metadata": {},
   "outputs": [
    {
     "name": "stderr",
     "output_type": "stream",
     "text": [
      "/Users/tomasespina/anaconda3/lib/python3.6/site-packages/ipykernel_launcher.py:1: SettingWithCopyWarning: \n",
      "A value is trying to be set on a copy of a slice from a DataFrame.\n",
      "Try using .loc[row_indexer,col_indexer] = value instead\n",
      "\n",
      "See the caveats in the documentation: http://pandas.pydata.org/pandas-docs/stable/indexing.html#indexing-view-versus-copy\n",
      "  \"\"\"Entry point for launching an IPython kernel.\n"
     ]
    }
   ],
   "source": [
    "comment_wo_response['Sentiment'] = np.array([sentiment_analysis(comment) for comment in comment_wo_response.comment_content])"
   ]
  },
  {
   "cell_type": "code",
   "execution_count": 92,
   "metadata": {},
   "outputs": [
    {
     "data": {
      "text/plain": [
       " 1    40426\n",
       "-1     4763\n",
       " 0     3261\n",
       "Name: Sentiment, dtype: int64"
      ]
     },
     "execution_count": 92,
     "metadata": {},
     "output_type": "execute_result"
    }
   ],
   "source": [
    "comment_wo_response.Sentiment.value_counts()"
   ]
  },
  {
   "cell_type": "code",
   "execution_count": 99,
   "metadata": {
    "collapsed": true
   },
   "outputs": [],
   "source": [
    "# find the true polarity value\n",
    "comment = comment_wo_response.comment_content\n",
    "\n",
    "def clean_comment(comment):\n",
    "    return ' '.join(re.sub(\"(@[A-Za-z0-9]+)|([^0-9A-Za-z \\t])|(\\w+:\\/\\/\\S+)\", \" \", comment).split())\n",
    "\n",
    "def sentiment_analysis(comment):\n",
    "    analysis = TextBlob(clean_comment(comment))\n",
    "    return analysis.sentiment.polarity\n",
    "    \n"
   ]
  },
  {
   "cell_type": "code",
   "execution_count": 100,
   "metadata": {},
   "outputs": [
    {
     "name": "stderr",
     "output_type": "stream",
     "text": [
      "/Users/tomasespina/anaconda3/lib/python3.6/site-packages/ipykernel_launcher.py:1: SettingWithCopyWarning: \n",
      "A value is trying to be set on a copy of a slice from a DataFrame.\n",
      "Try using .loc[row_indexer,col_indexer] = value instead\n",
      "\n",
      "See the caveats in the documentation: http://pandas.pydata.org/pandas-docs/stable/indexing.html#indexing-view-versus-copy\n",
      "  \"\"\"Entry point for launching an IPython kernel.\n"
     ]
    }
   ],
   "source": [
    "comment_wo_response['Sentiment_values'] = np.array([sentiment_analysis(comment) for comment in comment_wo_response.comment_content])"
   ]
  },
  {
   "cell_type": "code",
   "execution_count": 101,
   "metadata": {},
   "outputs": [
    {
     "data": {
      "text/html": [
       "<div>\n",
       "<style>\n",
       "    .dataframe thead tr:only-child th {\n",
       "        text-align: right;\n",
       "    }\n",
       "\n",
       "    .dataframe thead th {\n",
       "        text-align: left;\n",
       "    }\n",
       "\n",
       "    .dataframe tbody tr th {\n",
       "        vertical-align: top;\n",
       "    }\n",
       "</style>\n",
       "<table border=\"1\" class=\"dataframe\">\n",
       "  <thead>\n",
       "    <tr style=\"text-align: right;\">\n",
       "      <th></th>\n",
       "      <th>comment_ID</th>\n",
       "      <th>comment_post_ID</th>\n",
       "      <th>comment_author</th>\n",
       "      <th>comment_author_email</th>\n",
       "      <th>comment_author_url</th>\n",
       "      <th>comment_author_IP</th>\n",
       "      <th>comment_date</th>\n",
       "      <th>comment_date_gmt</th>\n",
       "      <th>comment_content</th>\n",
       "      <th>comment_approved</th>\n",
       "      <th>Sentiment</th>\n",
       "      <th>Sentiment_values</th>\n",
       "    </tr>\n",
       "  </thead>\n",
       "  <tbody>\n",
       "    <tr>\n",
       "      <th>0</th>\n",
       "      <td>2</td>\n",
       "      <td>23</td>\n",
       "      <td>emily p</td>\n",
       "      <td></td>\n",
       "      <td></td>\n",
       "      <td>70.44.66.3</td>\n",
       "      <td>2014-07-24 12:54:46</td>\n",
       "      <td>2014-07-24 12:54:46</td>\n",
       "      <td>These are fantastic! I have been looking for s...</td>\n",
       "      <td>1</td>\n",
       "      <td>1</td>\n",
       "      <td>0.400000</td>\n",
       "    </tr>\n",
       "    <tr>\n",
       "      <th>1</th>\n",
       "      <td>3</td>\n",
       "      <td>23</td>\n",
       "      <td>Lena</td>\n",
       "      <td>lena.mumen@gmail.com</td>\n",
       "      <td>http://www.mrsgarlichead.com</td>\n",
       "      <td>85.1.237.251</td>\n",
       "      <td>2014-07-24 13:24:02</td>\n",
       "      <td>2014-07-24 13:24:02</td>\n",
       "      <td>Oh these are lovely. I love the tulip hem, I h...</td>\n",
       "      <td>1</td>\n",
       "      <td>1</td>\n",
       "      <td>0.375000</td>\n",
       "    </tr>\n",
       "    <tr>\n",
       "      <th>2</th>\n",
       "      <td>4</td>\n",
       "      <td>23</td>\n",
       "      <td>Katie</td>\n",
       "      <td></td>\n",
       "      <td></td>\n",
       "      <td>72.198.169.59</td>\n",
       "      <td>2014-07-24 15:33:46</td>\n",
       "      <td>2014-07-24 15:33:46</td>\n",
       "      <td>Love these shorts!! This may be a silly questi...</td>\n",
       "      <td>1</td>\n",
       "      <td>1</td>\n",
       "      <td>0.166667</td>\n",
       "    </tr>\n",
       "    <tr>\n",
       "      <th>3</th>\n",
       "      <td>5</td>\n",
       "      <td>23</td>\n",
       "      <td>jessica</td>\n",
       "      <td></td>\n",
       "      <td></td>\n",
       "      <td>76.114.88.227</td>\n",
       "      <td>2014-07-24 15:46:05</td>\n",
       "      <td>2014-07-24 15:46:05</td>\n",
       "      <td>so sad, yet another pattern not big enough for...</td>\n",
       "      <td>1</td>\n",
       "      <td>-1</td>\n",
       "      <td>-0.166667</td>\n",
       "    </tr>\n",
       "    <tr>\n",
       "      <th>4</th>\n",
       "      <td>6</td>\n",
       "      <td>23</td>\n",
       "      <td>Margo, Thrift at Home</td>\n",
       "      <td>thriftathome@gmail.com</td>\n",
       "      <td>http://thriftathome.blogspot.com</td>\n",
       "      <td>108.55.66.48</td>\n",
       "      <td>2014-07-24 18:19:31</td>\n",
       "      <td>2014-07-24 18:19:31</td>\n",
       "      <td>YES I am done with the gym!!! This year I&amp;#39;...</td>\n",
       "      <td>1</td>\n",
       "      <td>0</td>\n",
       "      <td>0.000000</td>\n",
       "    </tr>\n",
       "    <tr>\n",
       "      <th>6</th>\n",
       "      <td>8</td>\n",
       "      <td>23</td>\n",
       "      <td>Tina</td>\n",
       "      <td></td>\n",
       "      <td>http://othersideofthepom.blogspot.com</td>\n",
       "      <td>129.85.144.49</td>\n",
       "      <td>2014-07-24 22:34:55</td>\n",
       "      <td>2014-07-24 22:34:55</td>\n",
       "      <td>Thanks for the pattern, I can&amp;#39;t wait to ma...</td>\n",
       "      <td>1</td>\n",
       "      <td>1</td>\n",
       "      <td>0.333333</td>\n",
       "    </tr>\n",
       "    <tr>\n",
       "      <th>7</th>\n",
       "      <td>9</td>\n",
       "      <td>23</td>\n",
       "      <td>CW</td>\n",
       "      <td>clarawey@ptd.net</td>\n",
       "      <td></td>\n",
       "      <td>24.102.229.143</td>\n",
       "      <td>2014-07-24 23:05:08</td>\n",
       "      <td>2014-07-24 23:05:08</td>\n",
       "      <td>This are so fantastic!  I want to make ten pai...</td>\n",
       "      <td>1</td>\n",
       "      <td>1</td>\n",
       "      <td>0.085714</td>\n",
       "    </tr>\n",
       "    <tr>\n",
       "      <th>8</th>\n",
       "      <td>10</td>\n",
       "      <td>23</td>\n",
       "      <td>Cyrena</td>\n",
       "      <td></td>\n",
       "      <td></td>\n",
       "      <td>70.67.140.53</td>\n",
       "      <td>2014-07-24 23:58:47</td>\n",
       "      <td>2014-07-24 23:58:47</td>\n",
       "      <td>This is exactly the shorts pattern I have been...</td>\n",
       "      <td>1</td>\n",
       "      <td>1</td>\n",
       "      <td>0.412500</td>\n",
       "    </tr>\n",
       "    <tr>\n",
       "      <th>9</th>\n",
       "      <td>11</td>\n",
       "      <td>23</td>\n",
       "      <td>Cheryl</td>\n",
       "      <td></td>\n",
       "      <td></td>\n",
       "      <td>99.247.66.91</td>\n",
       "      <td>2014-07-24 23:59:00</td>\n",
       "      <td>2014-07-25 03:59:00</td>\n",
       "      <td>That is so nice of you to Molly to reply to Je...</td>\n",
       "      <td>1</td>\n",
       "      <td>1</td>\n",
       "      <td>0.527500</td>\n",
       "    </tr>\n",
       "    <tr>\n",
       "      <th>10</th>\n",
       "      <td>12</td>\n",
       "      <td>23</td>\n",
       "      <td>Ashley</td>\n",
       "      <td>ad.drudge@gmail.com</td>\n",
       "      <td>http://evergreenliving.ca</td>\n",
       "      <td>209.197.161.101</td>\n",
       "      <td>2014-07-25 01:31:48</td>\n",
       "      <td>2014-07-25 05:31:48</td>\n",
       "      <td>Ooo, another pattern added to my to-do list :)...</td>\n",
       "      <td>1</td>\n",
       "      <td>1</td>\n",
       "      <td>0.200000</td>\n",
       "    </tr>\n",
       "  </tbody>\n",
       "</table>\n",
       "</div>"
      ],
      "text/plain": [
       "    comment_ID  comment_post_ID         comment_author  \\\n",
       "0            2               23                emily p   \n",
       "1            3               23                   Lena   \n",
       "2            4               23                  Katie   \n",
       "3            5               23                jessica   \n",
       "4            6               23  Margo, Thrift at Home   \n",
       "6            8               23                   Tina   \n",
       "7            9               23                     CW   \n",
       "8           10               23                 Cyrena   \n",
       "9           11               23                 Cheryl   \n",
       "10          12               23                 Ashley   \n",
       "\n",
       "      comment_author_email                     comment_author_url  \\\n",
       "0                                                                   \n",
       "1     lena.mumen@gmail.com           http://www.mrsgarlichead.com   \n",
       "2                                                                   \n",
       "3                                                                   \n",
       "4   thriftathome@gmail.com       http://thriftathome.blogspot.com   \n",
       "6                           http://othersideofthepom.blogspot.com   \n",
       "7         clarawey@ptd.net                                          \n",
       "8                                                                   \n",
       "9                                                                   \n",
       "10     ad.drudge@gmail.com              http://evergreenliving.ca   \n",
       "\n",
       "   comment_author_IP        comment_date    comment_date_gmt  \\\n",
       "0         70.44.66.3 2014-07-24 12:54:46 2014-07-24 12:54:46   \n",
       "1       85.1.237.251 2014-07-24 13:24:02 2014-07-24 13:24:02   \n",
       "2      72.198.169.59 2014-07-24 15:33:46 2014-07-24 15:33:46   \n",
       "3      76.114.88.227 2014-07-24 15:46:05 2014-07-24 15:46:05   \n",
       "4       108.55.66.48 2014-07-24 18:19:31 2014-07-24 18:19:31   \n",
       "6      129.85.144.49 2014-07-24 22:34:55 2014-07-24 22:34:55   \n",
       "7     24.102.229.143 2014-07-24 23:05:08 2014-07-24 23:05:08   \n",
       "8       70.67.140.53 2014-07-24 23:58:47 2014-07-24 23:58:47   \n",
       "9       99.247.66.91 2014-07-24 23:59:00 2014-07-25 03:59:00   \n",
       "10   209.197.161.101 2014-07-25 01:31:48 2014-07-25 05:31:48   \n",
       "\n",
       "                                      comment_content comment_approved  \\\n",
       "0   These are fantastic! I have been looking for s...                1   \n",
       "1   Oh these are lovely. I love the tulip hem, I h...                1   \n",
       "2   Love these shorts!! This may be a silly questi...                1   \n",
       "3   so sad, yet another pattern not big enough for...                1   \n",
       "4   YES I am done with the gym!!! This year I&#39;...                1   \n",
       "6   Thanks for the pattern, I can&#39;t wait to ma...                1   \n",
       "7   This are so fantastic!  I want to make ten pai...                1   \n",
       "8   This is exactly the shorts pattern I have been...                1   \n",
       "9   That is so nice of you to Molly to reply to Je...                1   \n",
       "10  Ooo, another pattern added to my to-do list :)...                1   \n",
       "\n",
       "    Sentiment  Sentiment_values  \n",
       "0           1          0.400000  \n",
       "1           1          0.375000  \n",
       "2           1          0.166667  \n",
       "3          -1         -0.166667  \n",
       "4           0          0.000000  \n",
       "6           1          0.333333  \n",
       "7           1          0.085714  \n",
       "8           1          0.412500  \n",
       "9           1          0.527500  \n",
       "10          1          0.200000  "
      ]
     },
     "execution_count": 101,
     "metadata": {},
     "output_type": "execute_result"
    }
   ],
   "source": [
    "comment_wo_response.head(10)"
   ]
  },
  {
   "cell_type": "code",
   "execution_count": 102,
   "metadata": {},
   "outputs": [
    {
     "data": {
      "text/plain": [
       "count    48450.000000\n",
       "mean         0.232917\n",
       "std          0.223163\n",
       "min         -1.000000\n",
       "25%          0.075000\n",
       "50%          0.207316\n",
       "75%          0.366667\n",
       "max          1.000000\n",
       "Name: Sentiment_values, dtype: float64"
      ]
     },
     "execution_count": 102,
     "metadata": {},
     "output_type": "execute_result"
    }
   ],
   "source": [
    "comment_wo_response.Sentiment_values.describe()"
   ]
  },
  {
   "cell_type": "code",
   "execution_count": 105,
   "metadata": {},
   "outputs": [
    {
     "data": {
      "text/plain": [
       "<matplotlib.axes._subplots.AxesSubplot at 0x1a42505550>"
      ]
     },
     "execution_count": 105,
     "metadata": {},
     "output_type": "execute_result"
    },
    {
     "data": {
      "image/png": "[encoded data removed]",
      "text/plain": [
       "<matplotlib.figure.Figure at 0x1181607f0>"
      ]
     },
     "metadata": {},
     "output_type": "display_data"
    }
   ],
   "source": [
    "comment_wo_response.Sentiment_values.hist(bins=50)"
   ]
  },
  {
   "cell_type": "code",
   "execution_count": 80,
   "metadata": {
    "collapsed": true
   },
   "outputs": [],
   "source": [
    "# find the average length of each comment\n",
    "import numpy as np\n",
    "mean = np.mean(comment_wo_response.comment_content.str.len())"
   ]
  },
  {
   "cell_type": "code",
   "execution_count": 81,
   "metadata": {},
   "outputs": [
    {
     "name": "stdout",
     "output_type": "stream",
     "text": [
      "The length's average for each comment: 254.36381836945304\n"
     ]
    }
   ],
   "source": [
    "print(\"The length's average for each comment: {}\".format(mean))"
   ]
  },
  {
   "cell_type": "code",
   "execution_count": 83,
   "metadata": {
    "collapsed": true
   },
   "outputs": [],
   "source": [
    "dist = comment_wo_response.comment_content.describe()"
   ]
  },
  {
   "cell_type": "code",
   "execution_count": 84,
   "metadata": {},
   "outputs": [
    {
     "name": "stdout",
     "output_type": "stream",
     "text": [
      "The distribution is: count          48450\n",
      "unique         47979\n",
      "top       Thank you!\n",
      "freq              37\n",
      "Name: comment_content, dtype: object\n"
     ]
    }
   ],
   "source": [
    "print('The distribution is: {}'.format(dist))"
   ]
  },
  {
   "cell_type": "code",
   "execution_count": 141,
   "metadata": {
    "collapsed": true
   },
   "outputs": [],
   "source": [
    "unique_email = comment_wo_response.comment_author_email.unique()"
   ]
  },
  {
   "cell_type": "code",
   "execution_count": 142,
   "metadata": {
    "collapsed": true
   },
   "outputs": [],
   "source": [
    "unique_ip = comment_wo_response.comment_author_IP.unique()"
   ]
  },
  {
   "cell_type": "code",
   "execution_count": null,
   "metadata": {
    "collapsed": true
   },
   "outputs": [],
   "source": [
    "# add column for ip address location\n",
    "# do alyien sentement and compare to textblob\n",
    "# pair unique email address and ip.address\n",
    "# remove folks with more than one ip address, analyze them later as well as folks without email.  \n",
    "# add zillows api for home values...to figoure out some demographics. \n",
    "\n",
    "\n",
    "\n"
   ]
  }
 ],
 "metadata": {
  "kernelspec": {
   "display_name": "Python 3",
   "language": "python",
   "name": "python3"
  },
  "language_info": {
   "codemirror_mode": {
    "name": "ipython",
    "version": 3
   },
   "file_extension": ".py",
   "mimetype": "text/x-python",
   "name": "python",
   "nbconvert_exporter": "python",
   "pygments_lexer": "ipython3",
   "version": "3.6.3"
  }
 },
 "nbformat": 4,
 "nbformat_minor": 2
}
